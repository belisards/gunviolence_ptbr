{
 "cells": [
  {
   "cell_type": "code",
   "execution_count": 21,
   "metadata": {},
   "outputs": [],
   "source": [
    "import pandas as pd\n",
    "from pathlib import Path\n",
    "import re"
   ]
  },
  {
   "cell_type": "code",
   "execution_count": 22,
   "metadata": {},
   "outputs": [],
   "source": [
    "START_DATE = '2023-01-01'\n",
    "END_DATE = '2023-07-30'\n",
    "interactions_file = Path('../../..') / 'data' / 'twitter' / 'fogocruzado_interactions_2023.csv'"
   ]
  },
  {
   "cell_type": "markdown",
   "metadata": {},
   "source": [
    "# Load interactions"
   ]
  },
  {
   "cell_type": "code",
   "execution_count": 23,
   "metadata": {},
   "outputs": [
    {
     "data": {
      "text/html": [
       "<div>\n",
       "<style scoped>\n",
       "    .dataframe tbody tr th:only-of-type {\n",
       "        vertical-align: middle;\n",
       "    }\n",
       "\n",
       "    .dataframe tbody tr th {\n",
       "        vertical-align: top;\n",
       "    }\n",
       "\n",
       "    .dataframe thead th {\n",
       "        text-align: right;\n",
       "    }\n",
       "</style>\n",
       "<table border=\"1\" class=\"dataframe\">\n",
       "  <thead>\n",
       "    <tr style=\"text-align: right;\">\n",
       "      <th></th>\n",
       "      <th>day</th>\n",
       "      <th>id</th>\n",
       "      <th>user</th>\n",
       "    </tr>\n",
       "  </thead>\n",
       "  <tbody>\n",
       "    <tr>\n",
       "      <th>0</th>\n",
       "      <td>2016-07-10</td>\n",
       "      <td>751951807543382016</td>\n",
       "      <td>FogoCruzadoRJ</td>\n",
       "    </tr>\n",
       "    <tr>\n",
       "      <th>1</th>\n",
       "      <td>2016-07-21</td>\n",
       "      <td>756127449390407681</td>\n",
       "      <td>FogoCruzadoRJ</td>\n",
       "    </tr>\n",
       "    <tr>\n",
       "      <th>2</th>\n",
       "      <td>2016-07-21</td>\n",
       "      <td>756128901567385604</td>\n",
       "      <td>FogoCruzadoRJ</td>\n",
       "    </tr>\n",
       "    <tr>\n",
       "      <th>3</th>\n",
       "      <td>2016-08-05</td>\n",
       "      <td>761569249601196032</td>\n",
       "      <td>FogoCruzadoRJ</td>\n",
       "    </tr>\n",
       "    <tr>\n",
       "      <th>4</th>\n",
       "      <td>2016-08-24</td>\n",
       "      <td>768435461719293952</td>\n",
       "      <td>FogoCruzadoRJ</td>\n",
       "    </tr>\n",
       "    <tr>\n",
       "      <th>...</th>\n",
       "      <td>...</td>\n",
       "      <td>...</td>\n",
       "      <td>...</td>\n",
       "    </tr>\n",
       "    <tr>\n",
       "      <th>57903</th>\n",
       "      <td>2023-07-02</td>\n",
       "      <td>1675533489678983168</td>\n",
       "      <td>FogoCruzadoRJ</td>\n",
       "    </tr>\n",
       "    <tr>\n",
       "      <th>57904</th>\n",
       "      <td>2023-07-02</td>\n",
       "      <td>1675597255368163329</td>\n",
       "      <td>FogoCruzadoRJ</td>\n",
       "    </tr>\n",
       "    <tr>\n",
       "      <th>57905</th>\n",
       "      <td>2023-07-02</td>\n",
       "      <td>1675438422561832963</td>\n",
       "      <td>FogoCruzadoRJ</td>\n",
       "    </tr>\n",
       "    <tr>\n",
       "      <th>57906</th>\n",
       "      <td>2023-07-03</td>\n",
       "      <td>1675681152579911681</td>\n",
       "      <td>FogoCruzadoRJ</td>\n",
       "    </tr>\n",
       "    <tr>\n",
       "      <th>57907</th>\n",
       "      <td>2023-07-03</td>\n",
       "      <td>1675690371739705344</td>\n",
       "      <td>FogoCruzadoRJ</td>\n",
       "    </tr>\n",
       "  </tbody>\n",
       "</table>\n",
       "<p>57908 rows × 3 columns</p>\n",
       "</div>"
      ],
      "text/plain": [
       "              day                   id           user\n",
       "0      2016-07-10   751951807543382016  FogoCruzadoRJ\n",
       "1      2016-07-21   756127449390407681  FogoCruzadoRJ\n",
       "2      2016-07-21   756128901567385604  FogoCruzadoRJ\n",
       "3      2016-08-05   761569249601196032  FogoCruzadoRJ\n",
       "4      2016-08-24   768435461719293952  FogoCruzadoRJ\n",
       "...           ...                  ...            ...\n",
       "57903  2023-07-02  1675533489678983168  FogoCruzadoRJ\n",
       "57904  2023-07-02  1675597255368163329  FogoCruzadoRJ\n",
       "57905  2023-07-02  1675438422561832963  FogoCruzadoRJ\n",
       "57906  2023-07-03  1675681152579911681  FogoCruzadoRJ\n",
       "57907  2023-07-03  1675690371739705344  FogoCruzadoRJ\n",
       "\n",
       "[57908 rows x 3 columns]"
      ]
     },
     "execution_count": 23,
     "metadata": {},
     "output_type": "execute_result"
    }
   ],
   "source": [
    "interactions = pd.read_csv(interactions_file)\n",
    "interactions"
   ]
  },
  {
   "cell_type": "code",
   "execution_count": 24,
   "metadata": {},
   "outputs": [
    {
     "name": "stdout",
     "output_type": "stream",
     "text": [
      "<class 'pandas.core.frame.DataFrame'>\n",
      "Index: 57908 entries, 0 to 57907\n",
      "Data columns (total 3 columns):\n",
      " #   Column  Non-Null Count  Dtype         \n",
      "---  ------  --------------  -----         \n",
      " 0   day     57908 non-null  datetime64[ns]\n",
      " 1   id      57908 non-null  int64         \n",
      " 2   user    57908 non-null  object        \n",
      "dtypes: datetime64[ns](1), int64(1), object(1)\n",
      "memory usage: 1.8+ MB\n"
     ]
    }
   ],
   "source": [
    "interactions['day'] = pd.to_datetime(interactions['day'])\n",
    "# interactions['day'] = interactions['day'].dt.date\n",
    "interactions = interactions.sort_values(by=['day'])\n",
    "interactions.info()"
   ]
  },
  {
   "cell_type": "code",
   "execution_count": 25,
   "metadata": {},
   "outputs": [
    {
     "data": {
      "text/plain": [
       "user\n",
       "FogoCruzadoRJ    54592\n",
       "FogoCruzadoBA     1731\n",
       "FogoCruzadoPE     1585\n",
       "Name: count, dtype: int64"
      ]
     },
     "execution_count": 25,
     "metadata": {},
     "output_type": "execute_result"
    }
   ],
   "source": [
    "interactions.user.value_counts()"
   ]
  },
  {
   "cell_type": "code",
   "execution_count": 26,
   "metadata": {},
   "outputs": [],
   "source": [
    "replace_dict = {\n",
    "    'FogoCruzadoBA': 'Bahia',\n",
    "    'FogoCruzadoRJ': 'Rio de Janeiro',\n",
    "    'FogoCruzadoPE': 'Pernambuco',\n",
    "}\n",
    "\n",
    "interactions['State'] = interactions['user'].replace(replace_dict)"
   ]
  },
  {
   "attachments": {},
   "cell_type": "markdown",
   "metadata": {},
   "source": [
    "# Group per day"
   ]
  },
  {
   "cell_type": "code",
   "execution_count": 27,
   "metadata": {},
   "outputs": [
    {
     "data": {
      "text/plain": [
       "53140   2023-01-01\n",
       "53141   2023-01-01\n",
       "53142   2023-01-01\n",
       "53146   2023-01-01\n",
       "53144   2023-01-01\n",
       "           ...    \n",
       "57897   2023-07-02\n",
       "57896   2023-07-02\n",
       "57900   2023-07-02\n",
       "57906   2023-07-03\n",
       "57907   2023-07-03\n",
       "Name: Date, Length: 4825, dtype: datetime64[ns]"
      ]
     },
     "execution_count": 27,
     "metadata": {},
     "output_type": "execute_result"
    }
   ],
   "source": [
    "interactions_filter = interactions[(interactions['day'] >= START_DATE) & (interactions['day'] < END_DATE)]\n",
    "\n",
    "interactions_filter = interactions_filter.rename(columns={'day': 'Date'})\n",
    "\n",
    "interactions_filter.shape\n",
    "\n",
    "interactions_filter.Date"
   ]
  },
  {
   "cell_type": "code",
   "execution_count": 28,
   "metadata": {},
   "outputs": [],
   "source": [
    "interactions_per_day_all = pd.DataFrame(interactions_filter.groupby(['Date', 'State']).size(), columns=['total']).reset_index().sort_values('Date')\n",
    "\n",
    "# Create a list of unique usernames\n",
    "unique_usernames = interactions_per_day_all['State'].unique()\n",
    "\n",
    "# Create a complete date range from the minimum to maximum date in the DataFrame\n",
    "date_range = pd.date_range(start=interactions_per_day_all['Date'].min(), end=interactions_per_day_all['Date'].max(), freq='D')\n",
    "\n",
    "index = pd.MultiIndex.from_product([date_range, unique_usernames], names=['Date', 'State'])\n",
    "\n",
    "# Reindex the DataFrame to include all dates and usernames\n",
    "interactions_per_day_all = interactions_per_day_all.set_index(['Date', 'State']).reindex(index, fill_value=0).reset_index()"
   ]
  },
  {
   "cell_type": "code",
   "execution_count": 29,
   "metadata": {},
   "outputs": [
    {
     "data": {
      "text/html": [
       "<div>\n",
       "<style scoped>\n",
       "    .dataframe tbody tr th:only-of-type {\n",
       "        vertical-align: middle;\n",
       "    }\n",
       "\n",
       "    .dataframe tbody tr th {\n",
       "        vertical-align: top;\n",
       "    }\n",
       "\n",
       "    .dataframe thead th {\n",
       "        text-align: right;\n",
       "    }\n",
       "</style>\n",
       "<table border=\"1\" class=\"dataframe\">\n",
       "  <thead>\n",
       "    <tr style=\"text-align: right;\">\n",
       "      <th></th>\n",
       "      <th>Date</th>\n",
       "      <th>State</th>\n",
       "      <th>total</th>\n",
       "    </tr>\n",
       "  </thead>\n",
       "  <tbody>\n",
       "    <tr>\n",
       "      <th>0</th>\n",
       "      <td>2023-01-01</td>\n",
       "      <td>Bahia</td>\n",
       "      <td>12</td>\n",
       "    </tr>\n",
       "    <tr>\n",
       "      <th>1</th>\n",
       "      <td>2023-01-01</td>\n",
       "      <td>Rio de Janeiro</td>\n",
       "      <td>74</td>\n",
       "    </tr>\n",
       "    <tr>\n",
       "      <th>2</th>\n",
       "      <td>2023-01-01</td>\n",
       "      <td>Pernambuco</td>\n",
       "      <td>0</td>\n",
       "    </tr>\n",
       "    <tr>\n",
       "      <th>3</th>\n",
       "      <td>2023-01-02</td>\n",
       "      <td>Bahia</td>\n",
       "      <td>4</td>\n",
       "    </tr>\n",
       "    <tr>\n",
       "      <th>4</th>\n",
       "      <td>2023-01-02</td>\n",
       "      <td>Rio de Janeiro</td>\n",
       "      <td>15</td>\n",
       "    </tr>\n",
       "    <tr>\n",
       "      <th>...</th>\n",
       "      <td>...</td>\n",
       "      <td>...</td>\n",
       "      <td>...</td>\n",
       "    </tr>\n",
       "    <tr>\n",
       "      <th>547</th>\n",
       "      <td>2023-07-02</td>\n",
       "      <td>Rio de Janeiro</td>\n",
       "      <td>10</td>\n",
       "    </tr>\n",
       "    <tr>\n",
       "      <th>548</th>\n",
       "      <td>2023-07-02</td>\n",
       "      <td>Pernambuco</td>\n",
       "      <td>0</td>\n",
       "    </tr>\n",
       "    <tr>\n",
       "      <th>549</th>\n",
       "      <td>2023-07-03</td>\n",
       "      <td>Bahia</td>\n",
       "      <td>0</td>\n",
       "    </tr>\n",
       "    <tr>\n",
       "      <th>550</th>\n",
       "      <td>2023-07-03</td>\n",
       "      <td>Rio de Janeiro</td>\n",
       "      <td>2</td>\n",
       "    </tr>\n",
       "    <tr>\n",
       "      <th>551</th>\n",
       "      <td>2023-07-03</td>\n",
       "      <td>Pernambuco</td>\n",
       "      <td>0</td>\n",
       "    </tr>\n",
       "  </tbody>\n",
       "</table>\n",
       "<p>552 rows × 3 columns</p>\n",
       "</div>"
      ],
      "text/plain": [
       "          Date           State  total\n",
       "0   2023-01-01           Bahia     12\n",
       "1   2023-01-01  Rio de Janeiro     74\n",
       "2   2023-01-01      Pernambuco      0\n",
       "3   2023-01-02           Bahia      4\n",
       "4   2023-01-02  Rio de Janeiro     15\n",
       "..         ...             ...    ...\n",
       "547 2023-07-02  Rio de Janeiro     10\n",
       "548 2023-07-02      Pernambuco      0\n",
       "549 2023-07-03           Bahia      0\n",
       "550 2023-07-03  Rio de Janeiro      2\n",
       "551 2023-07-03      Pernambuco      0\n",
       "\n",
       "[552 rows x 3 columns]"
      ]
     },
     "execution_count": 29,
     "metadata": {},
     "output_type": "execute_result"
    }
   ],
   "source": [
    "interactions_per_day_all"
   ]
  },
  {
   "cell_type": "code",
   "execution_count": 30,
   "metadata": {},
   "outputs": [],
   "source": [
    "csv_filename = Path('../../..') / 'data' / 'my_intervention' / 'interactions_per_day_rjba.csv'\n",
    "\n",
    "interactions_per_day_all.to_csv(csv_filename, index=False)"
   ]
  }
 ],
 "metadata": {
  "kernelspec": {
   "display_name": ".venv",
   "language": "python",
   "name": "python3"
  },
  "language_info": {
   "codemirror_mode": {
    "name": "ipython",
    "version": 3
   },
   "file_extension": ".py",
   "mimetype": "text/x-python",
   "name": "python",
   "nbconvert_exporter": "python",
   "pygments_lexer": "ipython3",
   "version": "3.10.12"
  },
  "orig_nbformat": 4
 },
 "nbformat": 4,
 "nbformat_minor": 2
}
