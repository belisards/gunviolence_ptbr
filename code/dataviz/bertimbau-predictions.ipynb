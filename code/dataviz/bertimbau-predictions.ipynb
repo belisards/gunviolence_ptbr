{
 "cells": [
  {
   "cell_type": "code",
   "execution_count": 133,
   "metadata": {},
   "outputs": [],
   "source": [
    "import pandas as pd\n",
    "import plotly.express as px\n",
    "from plotly.subplots import make_subplots\n",
    "import plotly.graph_objects as go\n",
    "from pathlib import Path"
   ]
  },
  {
   "cell_type": "code",
   "execution_count": 134,
   "metadata": {},
   "outputs": [],
   "source": [
    "START_DATE = \"2023-06-01\"\n",
    "END_DATE = \"2023-07-03\"\n",
    "\n",
    "allcases_filename = Path('../..') / 'data' / 'fogocruzado' / 'cases_1jul22_3jul23.csv'\n",
    "airtable_filename = Path('../..') / 'data' / 'my_intervention' / 'airtable_backup.csv'\n",
    "img_folder = Path('../..') / 'figs/'"
   ]
  },
  {
   "attachments": {},
   "cell_type": "markdown",
   "metadata": {},
   "source": [
    "# Load cases"
   ]
  },
  {
   "cell_type": "code",
   "execution_count": 135,
   "metadata": {},
   "outputs": [
    {
     "name": "stdout",
     "output_type": "stream",
     "text": [
      "<class 'pandas.core.frame.DataFrame'>\n",
      "RangeIndex: 5444 entries, 0 to 5443\n",
      "Data columns (total 64 columns):\n",
      " #   Column                                Non-Null Count  Dtype         \n",
      "---  ------                                --------------  -----         \n",
      " 0   id_ocorrencia                         5444 non-null   int64         \n",
      " 1   local_ocorrencia                      5444 non-null   object        \n",
      " 2   latitude_ocorrencia                   5444 non-null   float64       \n",
      " 3   longitude_ocorrencia                  5444 non-null   object        \n",
      " 4   data_ocorrencia                       5444 non-null   datetime64[ns]\n",
      " 5   hora_ocorrencia                       5444 non-null   object        \n",
      " 6   presen_agen_segur_ocorrencia          5444 non-null   int64         \n",
      " 7   qtd_morto_civil_ocorrencia            5444 non-null   int64         \n",
      " 8   qtd_morto_agen_segur_ocorrencia       5444 non-null   int64         \n",
      " 9   qtd_ferido_civil_ocorrencia           5444 non-null   int64         \n",
      " 10  qtd_ferido_agen_segur_ocorrencia      5444 non-null   int64         \n",
      " 11  estado_id                             5444 non-null   int64         \n",
      " 12  cidade_id                             5409 non-null   float64       \n",
      " 13  nome_cidade                           5444 non-null   object        \n",
      " 14  cod_ibge_cidade                       5409 non-null   float64       \n",
      " 15  gentilico_cidade                      5409 non-null   object        \n",
      " 16  populacao_cidade                      5444 non-null   float64       \n",
      " 17  area_cidade                           5409 non-null   float64       \n",
      " 18  densidade_demo_cidade                 5409 non-null   float64       \n",
      " 19  nome_estado                           5444 non-null   object        \n",
      " 20  uf_estado                             5444 non-null   object        \n",
      " 21  cod_ibge_estado                       5444 non-null   int64         \n",
      " 22  homem_qtd_mortos_oc                   5444 non-null   int64         \n",
      " 23  homem_qtd_feridos_oc                  5444 non-null   int64         \n",
      " 24  mulher_qtd_mortos_oc                  5444 non-null   int64         \n",
      " 25  mulher_qtd_feridos_oc                 5444 non-null   int64         \n",
      " 26  chacina_oc                            5444 non-null   object        \n",
      " 27  chacina_qtd_mortos_oc                 5444 non-null   int64         \n",
      " 28  chacina_unidades_policiais_oc         1975 non-null   object        \n",
      " 29  ag_seguranca_vitima_oc                5444 non-null   object        \n",
      " 30  ag_seguranca_mortos_status_oc         96 non-null     object        \n",
      " 31  ag_seguranca_feridos_status_oc        104 non-null    object        \n",
      " 32  bala_perdida_oc                       5444 non-null   object        \n",
      " 33  bala_perdida_qtd_mortos_oc            5444 non-null   int64         \n",
      " 34  bala_perdida_qtd_feridos_oc           5444 non-null   int64         \n",
      " 35  interior_residencia_oc                5444 non-null   object        \n",
      " 36  interior_residencia_qtd_mortos_oc     5444 non-null   int64         \n",
      " 37  interior_residencia_qtd_feridos_oc    5444 non-null   int64         \n",
      " 38  imediacao_ensino_oc                   5444 non-null   object        \n",
      " 39  imediacao_ensino_qtd_mortos_oc        5444 non-null   int64         \n",
      " 40  imediacao_ensino_qtd_feridos_oc       5444 non-null   int64         \n",
      " 41  vitima_crianca_oc                     5444 non-null   object        \n",
      " 42  vitima_crianca_qtd_mortos_oc          5444 non-null   int64         \n",
      " 43  info_adicional_crianca_morta_oc       7 non-null      object        \n",
      " 44  vitima_crianca_qtd_feridos_oc         5444 non-null   int64         \n",
      " 45  info_adicional_crianca_ferida_oc      22 non-null     object        \n",
      " 46  vitima_adolescente_oc                 5444 non-null   object        \n",
      " 47  vitima_adolescente_qtd_mortos_oc      5444 non-null   int64         \n",
      " 48  info_adicional_adolescente_morto_oc   50 non-null     object        \n",
      " 49  vitima_adolescente_qtd_feridos_oc     5444 non-null   int64         \n",
      " 50  info_adicional_adolescente_ferido_oc  37 non-null     object        \n",
      " 51  vitima_idoso_oc                       5444 non-null   object        \n",
      " 52  vitima_idoso_qtd_mortos_oc            5444 non-null   int64         \n",
      " 53  info_adicional_idoso_morto_oc         33 non-null     object        \n",
      " 54  vitima_idoso_qtd_feridos_oc           5444 non-null   int64         \n",
      " 55  info_adicional_idoso_ferido_oc        27 non-null     object        \n",
      " 56  informacao_via_oc                     5444 non-null   object        \n",
      " 57  descricao_via_interrompida_oc         0 non-null      float64       \n",
      " 58  data_interrupcao_via_oc               0 non-null      float64       \n",
      " 59  data_liberacao_via_oc                 0 non-null      float64       \n",
      " 60  outros_recortes                       477 non-null    object        \n",
      " 61  motivo_principal                      5444 non-null   object        \n",
      " 62  motivo_complementar                   1356 non-null   object        \n",
      " 63  estado                                5444 non-null   object        \n",
      "dtypes: datetime64[ns](1), float64(9), int64(25), object(29)\n",
      "memory usage: 2.7+ MB\n"
     ]
    }
   ],
   "source": [
    "\n",
    "\n",
    "allcases = pd.read_csv(allcases_filename, encoding='ISO-8859-1', sep=';', parse_dates=['data_ocorrencia'], dayfirst=True, on_bad_lines='warn')\n",
    "\n",
    "estados = {\n",
    "    19: 'RJ',\n",
    "    17: 'PE',\n",
    "    5: 'BA',\n",
    "}\n",
    "\n",
    "allcases['estado'] = allcases['estado_id'].map(estados)\n",
    "\n",
    "allcases['nome_cidade'] = allcases.nome_cidade.fillna('N. identificado')\n",
    "\n",
    "allcases['populacao_cidade'] = allcases.populacao_cidade.fillna(0)\n",
    "\n",
    "allcases.info()"
   ]
  },
  {
   "attachments": {},
   "cell_type": "markdown",
   "metadata": {},
   "source": [
    "# Predictions"
   ]
  },
  {
   "cell_type": "code",
   "execution_count": 136,
   "metadata": {},
   "outputs": [
    {
     "data": {
      "text/html": [
       "<div>\n",
       "<style scoped>\n",
       "    .dataframe tbody tr th:only-of-type {\n",
       "        vertical-align: middle;\n",
       "    }\n",
       "\n",
       "    .dataframe tbody tr th {\n",
       "        vertical-align: top;\n",
       "    }\n",
       "\n",
       "    .dataframe thead th {\n",
       "        text-align: right;\n",
       "    }\n",
       "</style>\n",
       "<table border=\"1\" class=\"dataframe\">\n",
       "  <thead>\n",
       "    <tr style=\"text-align: right;\">\n",
       "      <th></th>\n",
       "      <th>tw_id</th>\n",
       "      <th>createdTime</th>\n",
       "      <th>label</th>\n",
       "      <th>error</th>\n",
       "    </tr>\n",
       "  </thead>\n",
       "  <tbody>\n",
       "    <tr>\n",
       "      <th>0</th>\n",
       "      <td>1.663868e+18</td>\n",
       "      <td>2023-05-31T11:23:26.000Z</td>\n",
       "      <td>1</td>\n",
       "      <td>False</td>\n",
       "    </tr>\n",
       "    <tr>\n",
       "      <th>1</th>\n",
       "      <td>1.663868e+18</td>\n",
       "      <td>2023-05-31T11:23:26.000Z</td>\n",
       "      <td>0</td>\n",
       "      <td>False</td>\n",
       "    </tr>\n",
       "    <tr>\n",
       "      <th>2</th>\n",
       "      <td>1.663868e+18</td>\n",
       "      <td>2023-05-31T11:23:25.000Z</td>\n",
       "      <td>0</td>\n",
       "      <td>False</td>\n",
       "    </tr>\n",
       "    <tr>\n",
       "      <th>3</th>\n",
       "      <td>1.663868e+18</td>\n",
       "      <td>2023-05-31T11:23:25.000Z</td>\n",
       "      <td>1</td>\n",
       "      <td>False</td>\n",
       "    </tr>\n",
       "    <tr>\n",
       "      <th>4</th>\n",
       "      <td>1.663868e+18</td>\n",
       "      <td>2023-05-31T11:23:24.000Z</td>\n",
       "      <td>1</td>\n",
       "      <td>False</td>\n",
       "    </tr>\n",
       "    <tr>\n",
       "      <th>...</th>\n",
       "      <td>...</td>\n",
       "      <td>...</td>\n",
       "      <td>...</td>\n",
       "      <td>...</td>\n",
       "    </tr>\n",
       "    <tr>\n",
       "      <th>25775</th>\n",
       "      <td>1.676245e+18</td>\n",
       "      <td>2023-07-04T15:04:35.000Z</td>\n",
       "      <td>1</td>\n",
       "      <td>False</td>\n",
       "    </tr>\n",
       "    <tr>\n",
       "      <th>25776</th>\n",
       "      <td>1.676245e+18</td>\n",
       "      <td>2023-07-04T15:04:17.000Z</td>\n",
       "      <td>0</td>\n",
       "      <td>False</td>\n",
       "    </tr>\n",
       "    <tr>\n",
       "      <th>25777</th>\n",
       "      <td>1.676245e+18</td>\n",
       "      <td>2023-07-04T15:04:15.000Z</td>\n",
       "      <td>1</td>\n",
       "      <td>False</td>\n",
       "    </tr>\n",
       "    <tr>\n",
       "      <th>25778</th>\n",
       "      <td>1.676244e+18</td>\n",
       "      <td>2023-07-04T15:00:17.000Z</td>\n",
       "      <td>0</td>\n",
       "      <td>False</td>\n",
       "    </tr>\n",
       "    <tr>\n",
       "      <th>25779</th>\n",
       "      <td>1.676244e+18</td>\n",
       "      <td>2023-07-04T15:00:15.000Z</td>\n",
       "      <td>0</td>\n",
       "      <td>False</td>\n",
       "    </tr>\n",
       "  </tbody>\n",
       "</table>\n",
       "<p>25780 rows × 4 columns</p>\n",
       "</div>"
      ],
      "text/plain": [
       "              tw_id               createdTime  label  error\n",
       "0      1.663868e+18  2023-05-31T11:23:26.000Z      1  False\n",
       "1      1.663868e+18  2023-05-31T11:23:26.000Z      0  False\n",
       "2      1.663868e+18  2023-05-31T11:23:25.000Z      0  False\n",
       "3      1.663868e+18  2023-05-31T11:23:25.000Z      1  False\n",
       "4      1.663868e+18  2023-05-31T11:23:24.000Z      1  False\n",
       "...             ...                       ...    ...    ...\n",
       "25775  1.676245e+18  2023-07-04T15:04:35.000Z      1  False\n",
       "25776  1.676245e+18  2023-07-04T15:04:17.000Z      0  False\n",
       "25777  1.676245e+18  2023-07-04T15:04:15.000Z      1  False\n",
       "25778  1.676244e+18  2023-07-04T15:00:17.000Z      0  False\n",
       "25779  1.676244e+18  2023-07-04T15:00:15.000Z      0  False\n",
       "\n",
       "[25780 rows x 4 columns]"
      ]
     },
     "execution_count": 136,
     "metadata": {},
     "output_type": "execute_result"
    }
   ],
   "source": [
    "predictions = pd.read_csv(airtable_filename)\n",
    "\n",
    "predictions"
   ]
  },
  {
   "cell_type": "code",
   "execution_count": 137,
   "metadata": {},
   "outputs": [
    {
     "data": {
      "text/plain": [
       "(25780, 4)"
      ]
     },
     "execution_count": 137,
     "metadata": {},
     "output_type": "execute_result"
    }
   ],
   "source": [
    "predictions.shape"
   ]
  },
  {
   "cell_type": "code",
   "execution_count": 138,
   "metadata": {},
   "outputs": [
    {
     "data": {
      "text/plain": [
       "(25629, 4)"
      ]
     },
     "execution_count": 138,
     "metadata": {},
     "output_type": "execute_result"
    }
   ],
   "source": [
    "predictions = predictions.drop_duplicates(subset=['tw_id'])\n",
    "predictions.shape"
   ]
  },
  {
   "cell_type": "code",
   "execution_count": 139,
   "metadata": {},
   "outputs": [],
   "source": [
    "# # remove retweets\n",
    "# predictions = predictions[predictions['texto'].str.startswith('RT @') == False]\n",
    "# predictions.shape"
   ]
  },
  {
   "cell_type": "code",
   "execution_count": 140,
   "metadata": {},
   "outputs": [
    {
     "name": "stderr",
     "output_type": "stream",
     "text": [
      "/tmp/ipykernel_36632/1468469560.py:1: SettingWithCopyWarning:\n",
      "\n",
      "\n",
      "A value is trying to be set on a copy of a slice from a DataFrame.\n",
      "Try using .loc[row_indexer,col_indexer] = value instead\n",
      "\n",
      "See the caveats in the documentation: https://pandas.pydata.org/pandas-docs/stable/user_guide/indexing.html#returning-a-view-versus-a-copy\n",
      "\n"
     ]
    },
    {
     "data": {
      "text/html": [
       "<div>\n",
       "<style scoped>\n",
       "    .dataframe tbody tr th:only-of-type {\n",
       "        vertical-align: middle;\n",
       "    }\n",
       "\n",
       "    .dataframe tbody tr th {\n",
       "        vertical-align: top;\n",
       "    }\n",
       "\n",
       "    .dataframe thead th {\n",
       "        text-align: right;\n",
       "    }\n",
       "</style>\n",
       "<table border=\"1\" class=\"dataframe\">\n",
       "  <thead>\n",
       "    <tr style=\"text-align: right;\">\n",
       "      <th></th>\n",
       "      <th>tw_id</th>\n",
       "      <th>createdTime</th>\n",
       "      <th>label</th>\n",
       "      <th>error</th>\n",
       "    </tr>\n",
       "  </thead>\n",
       "  <tbody>\n",
       "    <tr>\n",
       "      <th>1610</th>\n",
       "      <td>1.664059e+18</td>\n",
       "      <td>2023-06-01 00:04:33+00:00</td>\n",
       "      <td>0</td>\n",
       "      <td>False</td>\n",
       "    </tr>\n",
       "    <tr>\n",
       "      <th>1609</th>\n",
       "      <td>1.664060e+18</td>\n",
       "      <td>2023-06-01 00:04:34+00:00</td>\n",
       "      <td>0</td>\n",
       "      <td>False</td>\n",
       "    </tr>\n",
       "    <tr>\n",
       "      <th>1608</th>\n",
       "      <td>1.664060e+18</td>\n",
       "      <td>2023-06-01 00:09:38+00:00</td>\n",
       "      <td>0</td>\n",
       "      <td>False</td>\n",
       "    </tr>\n",
       "    <tr>\n",
       "      <th>1607</th>\n",
       "      <td>1.664061e+18</td>\n",
       "      <td>2023-06-01 00:09:39+00:00</td>\n",
       "      <td>0</td>\n",
       "      <td>False</td>\n",
       "    </tr>\n",
       "    <tr>\n",
       "      <th>1606</th>\n",
       "      <td>1.664062e+18</td>\n",
       "      <td>2023-06-01 00:14:44+00:00</td>\n",
       "      <td>0</td>\n",
       "      <td>False</td>\n",
       "    </tr>\n",
       "    <tr>\n",
       "      <th>...</th>\n",
       "      <td>...</td>\n",
       "      <td>...</td>\n",
       "      <td>...</td>\n",
       "      <td>...</td>\n",
       "    </tr>\n",
       "    <tr>\n",
       "      <th>24704</th>\n",
       "      <td>1.675652e+18</td>\n",
       "      <td>2023-07-02 23:48:16+00:00</td>\n",
       "      <td>0</td>\n",
       "      <td>False</td>\n",
       "    </tr>\n",
       "    <tr>\n",
       "      <th>24703</th>\n",
       "      <td>1.675652e+18</td>\n",
       "      <td>2023-07-02 23:48:17+00:00</td>\n",
       "      <td>0</td>\n",
       "      <td>False</td>\n",
       "    </tr>\n",
       "    <tr>\n",
       "      <th>24702</th>\n",
       "      <td>1.675653e+18</td>\n",
       "      <td>2023-07-02 23:52:26+00:00</td>\n",
       "      <td>0</td>\n",
       "      <td>False</td>\n",
       "    </tr>\n",
       "    <tr>\n",
       "      <th>24701</th>\n",
       "      <td>1.675653e+18</td>\n",
       "      <td>2023-07-02 23:52:27+00:00</td>\n",
       "      <td>0</td>\n",
       "      <td>False</td>\n",
       "    </tr>\n",
       "    <tr>\n",
       "      <th>24700</th>\n",
       "      <td>1.675654e+18</td>\n",
       "      <td>2023-07-02 23:56:13+00:00</td>\n",
       "      <td>0</td>\n",
       "      <td>False</td>\n",
       "    </tr>\n",
       "  </tbody>\n",
       "</table>\n",
       "<p>23029 rows × 4 columns</p>\n",
       "</div>"
      ],
      "text/plain": [
       "              tw_id               createdTime  label  error\n",
       "1610   1.664059e+18 2023-06-01 00:04:33+00:00      0  False\n",
       "1609   1.664060e+18 2023-06-01 00:04:34+00:00      0  False\n",
       "1608   1.664060e+18 2023-06-01 00:09:38+00:00      0  False\n",
       "1607   1.664061e+18 2023-06-01 00:09:39+00:00      0  False\n",
       "1606   1.664062e+18 2023-06-01 00:14:44+00:00      0  False\n",
       "...             ...                       ...    ...    ...\n",
       "24704  1.675652e+18 2023-07-02 23:48:16+00:00      0  False\n",
       "24703  1.675652e+18 2023-07-02 23:48:17+00:00      0  False\n",
       "24702  1.675653e+18 2023-07-02 23:52:26+00:00      0  False\n",
       "24701  1.675653e+18 2023-07-02 23:52:27+00:00      0  False\n",
       "24700  1.675654e+18 2023-07-02 23:56:13+00:00      0  False\n",
       "\n",
       "[23029 rows x 4 columns]"
      ]
     },
     "execution_count": 140,
     "metadata": {},
     "output_type": "execute_result"
    }
   ],
   "source": [
    "predictions['createdTime'] = pd.to_datetime(predictions['createdTime'])\n",
    "# sort and filter\n",
    "predictions = predictions.sort_values(by=['createdTime'])\n",
    "predictions = predictions[(predictions['createdTime'] >= START_DATE) & (predictions['createdTime'] <= END_DATE)]\n",
    "\n",
    "predictions"
   ]
  },
  {
   "cell_type": "code",
   "execution_count": 141,
   "metadata": {},
   "outputs": [],
   "source": [
    "# group by day and count the number of 0 in the LABEL column in a variable and the number of 1 in another variable\n",
    "\n",
    "predictions['Positive'] = predictions['label'].apply(lambda x: 1 if x == 1 else 0)\n",
    "predictions['Negative'] = predictions['label'].apply(lambda x: 1 if x == 0 else 0)\n",
    "\n",
    "counts = predictions.groupby([pd.Grouper(key='createdTime', freq='D')]).agg({'Positive': 'sum', 'Negative': 'sum'}).reset_index()\n"
   ]
  },
  {
   "attachments": {},
   "cell_type": "markdown",
   "metadata": {},
   "source": [
    "# Merge"
   ]
  },
  {
   "cell_type": "code",
   "execution_count": 142,
   "metadata": {},
   "outputs": [
    {
     "name": "stdout",
     "output_type": "stream",
     "text": [
      "<class 'pandas.core.frame.DataFrame'>\n",
      "RangeIndex: 32 entries, 0 to 31\n",
      "Data columns (total 4 columns):\n",
      " #   Column       Non-Null Count  Dtype              \n",
      "---  ------       --------------  -----              \n",
      " 0   createdTime  32 non-null     datetime64[ns, UTC]\n",
      " 1   Positive     32 non-null     int64              \n",
      " 2   Negative     32 non-null     int64              \n",
      " 3   date         32 non-null     object             \n",
      "dtypes: datetime64[ns, UTC](1), int64(2), object(1)\n",
      "memory usage: 1.1+ KB\n"
     ]
    }
   ],
   "source": [
    "counts['date'] = counts['createdTime'].dt.strftime('%Y-%m-%d')\n",
    "\n",
    "counts.info()"
   ]
  },
  {
   "attachments": {},
   "cell_type": "markdown",
   "metadata": {},
   "source": [
    "# Plot"
   ]
  },
  {
   "cell_type": "code",
   "execution_count": 143,
   "metadata": {},
   "outputs": [
    {
     "data": {
      "application/vnd.plotly.v1+json": {
       "config": {
        "plotlyServerURL": "https://plot.ly"
       },
       "data": [
        {
         "name": "Positive",
         "type": "bar",
         "x": [
          "2023-06-01T00:00:00+00:00",
          "2023-06-02T00:00:00+00:00",
          "2023-06-03T00:00:00+00:00",
          "2023-06-04T00:00:00+00:00",
          "2023-06-05T00:00:00+00:00",
          "2023-06-06T00:00:00+00:00",
          "2023-06-07T00:00:00+00:00",
          "2023-06-08T00:00:00+00:00",
          "2023-06-09T00:00:00+00:00",
          "2023-06-10T00:00:00+00:00",
          "2023-06-11T00:00:00+00:00",
          "2023-06-12T00:00:00+00:00",
          "2023-06-13T00:00:00+00:00",
          "2023-06-14T00:00:00+00:00",
          "2023-06-15T00:00:00+00:00",
          "2023-06-16T00:00:00+00:00",
          "2023-06-17T00:00:00+00:00",
          "2023-06-18T00:00:00+00:00",
          "2023-06-19T00:00:00+00:00",
          "2023-06-20T00:00:00+00:00",
          "2023-06-21T00:00:00+00:00",
          "2023-06-22T00:00:00+00:00",
          "2023-06-23T00:00:00+00:00",
          "2023-06-24T00:00:00+00:00",
          "2023-06-25T00:00:00+00:00",
          "2023-06-26T00:00:00+00:00",
          "2023-06-27T00:00:00+00:00",
          "2023-06-28T00:00:00+00:00",
          "2023-06-29T00:00:00+00:00",
          "2023-06-30T00:00:00+00:00",
          "2023-07-01T00:00:00+00:00",
          "2023-07-02T00:00:00+00:00"
         ],
         "xaxis": "x",
         "y": [
          153,
          203,
          69,
          37,
          306,
          103,
          47,
          27,
          94,
          98,
          79,
          144,
          297,
          126,
          229,
          437,
          525,
          320,
          349,
          316,
          170,
          212,
          698,
          292,
          386,
          289,
          353,
          605,
          369,
          235,
          122,
          161
         ],
         "yaxis": "y"
        },
        {
         "name": "Cases",
         "type": "bar",
         "x": [
          "2023-06-01T00:00:00+00:00",
          "2023-06-02T00:00:00+00:00",
          "2023-06-03T00:00:00+00:00",
          "2023-06-04T00:00:00+00:00",
          "2023-06-05T00:00:00+00:00",
          "2023-06-06T00:00:00+00:00",
          "2023-06-07T00:00:00+00:00",
          "2023-06-08T00:00:00+00:00",
          "2023-06-09T00:00:00+00:00",
          "2023-06-10T00:00:00+00:00",
          "2023-06-11T00:00:00+00:00",
          "2023-06-12T00:00:00+00:00",
          "2023-06-13T00:00:00+00:00",
          "2023-06-14T00:00:00+00:00",
          "2023-06-15T00:00:00+00:00",
          "2023-06-16T00:00:00+00:00",
          "2023-06-17T00:00:00+00:00",
          "2023-06-18T00:00:00+00:00",
          "2023-06-19T00:00:00+00:00",
          "2023-06-20T00:00:00+00:00",
          "2023-06-21T00:00:00+00:00",
          "2023-06-22T00:00:00+00:00",
          "2023-06-23T00:00:00+00:00",
          "2023-06-24T00:00:00+00:00",
          "2023-06-25T00:00:00+00:00",
          "2023-06-26T00:00:00+00:00",
          "2023-06-27T00:00:00+00:00",
          "2023-06-28T00:00:00+00:00",
          "2023-06-29T00:00:00+00:00",
          "2023-06-30T00:00:00+00:00",
          "2023-07-01T00:00:00+00:00",
          "2023-07-02T00:00:00+00:00"
         ],
         "xaxis": "x2",
         "y": [
          13,
          13,
          5,
          8,
          15,
          12,
          5,
          6,
          18,
          7,
          6,
          4,
          17,
          7,
          11,
          15,
          8,
          11,
          9,
          9,
          11,
          10,
          8,
          18,
          4,
          7,
          6,
          11,
          11,
          7,
          11,
          1
         ],
         "yaxis": "y2"
        }
       ],
       "layout": {
        "legend": {
         "title": {
          "text": "Predictions"
         }
        },
        "template": {
         "data": {
          "pie": [
           {
            "automargin": true,
            "type": "pie"
           }
          ],
          "scatter": [
           {
            "line": {
             "width": 3
            },
            "marker": {
             "size": 9
            },
            "type": "scatter"
           }
          ],
          "scatter3d": [
           {
            "line": {
             "width": 3
            },
            "marker": {
             "size": 9
            },
            "type": "scatter3d"
           }
          ],
          "scattergeo": [
           {
            "line": {
             "width": 3
            },
            "marker": {
             "size": 9
            },
            "type": "scattergeo"
           }
          ],
          "scattergl": [
           {
            "line": {
             "width": 3
            },
            "marker": {
             "size": 9
            },
            "type": "scattergl"
           }
          ],
          "scatterpolar": [
           {
            "line": {
             "width": 3
            },
            "marker": {
             "size": 9
            },
            "type": "scatterpolar"
           }
          ],
          "scatterpolargl": [
           {
            "line": {
             "width": 3
            },
            "marker": {
             "size": 9
            },
            "type": "scatterpolargl"
           }
          ],
          "scatterternary": [
           {
            "line": {
             "width": 3
            },
            "marker": {
             "size": 9
            },
            "type": "scatterternary"
           }
          ],
          "table": [
           {
            "cells": {
             "height": 30
            },
            "header": {
             "height": 36
            },
            "type": "table"
           }
          ]
         },
         "layout": {
          "font": {
           "size": 18
          },
          "xaxis": {
           "title": {
            "standoff": 15
           }
          },
          "yaxis": {
           "title": {
            "standoff": 15
           }
          }
         }
        },
        "xaxis": {
         "anchor": "y",
         "domain": [
          0,
          0.45
         ],
         "tickformat": "%d",
         "title": {
          "text": ""
         }
        },
        "xaxis2": {
         "anchor": "y2",
         "domain": [
          0.55,
          1
         ],
         "tickformat": "%d"
        },
        "yaxis": {
         "anchor": "x",
         "domain": [
          0,
          1
         ],
         "title": {
          "text": "Total of predictions"
         }
        },
        "yaxis2": {
         "anchor": "x2",
         "domain": [
          0,
          1
         ]
        }
       }
      }
     },
     "metadata": {},
     "output_type": "display_data"
    }
   ],
   "source": [
    "\n",
    "\n",
    "# Create subplots with two axes\n",
    "fig = make_subplots(rows=1, cols=2)\n",
    "\n",
    "# Add stacked bar chart for \"Positive\" predictions\n",
    "fig.add_trace(go.Bar(x=merge[\"createdTime\"], y=merge[\"Positive\"], name=\"Positive\"), row=1, col=1)\n",
    "\n",
    "# Add stacked bar chart for \"Negative\" predictions\n",
    "# fig.add_trace(go.Bar(x=merge[\"created_at\"], y=merge[\"Negative\"], name=\"Negative\"), row=2, col=1)\n",
    "\n",
    "fig.add_trace(go.Bar(x=merge[\"createdTime\"], y=merge[\"Cases\"], name=\"Cases\"), row=1, col=2)\n",
    "\n",
    "# Customize the layout\n",
    "fig.update_layout(\n",
    "    template='presentation',\n",
    "    xaxis_title=\"\",\n",
    "    yaxis_title=\"Total of predictions\",\n",
    "    legend_title_text='Predictions'\n",
    ")\n",
    "\n",
    "# change the x-axis labels to show only the day every 5 days\n",
    "fig.update_xaxes(\n",
    "    tickformat=\"%d\",\n",
    "\n",
    ")\n",
    "\n",
    "fig.show()\n"
   ]
  },
  {
   "cell_type": "code",
   "execution_count": 144,
   "metadata": {},
   "outputs": [
    {
     "data": {
      "application/vnd.plotly.v1+json": {
       "config": {
        "plotlyServerURL": "https://plot.ly"
       },
       "data": [
        {
         "alignmentgroup": "True",
         "hovertemplate": "variable=Positive<br>createdTime=%{x}<br>value=%{y}<extra></extra>",
         "legendgroup": "Positive",
         "marker": {
          "color": "#1F77B4",
          "pattern": {
           "shape": ""
          }
         },
         "name": "Positive",
         "offsetgroup": "Positive",
         "orientation": "v",
         "showlegend": true,
         "textposition": "auto",
         "type": "bar",
         "x": [
          "2023-06-01T00:00:00+00:00",
          "2023-06-02T00:00:00+00:00",
          "2023-06-03T00:00:00+00:00",
          "2023-06-04T00:00:00+00:00",
          "2023-06-05T00:00:00+00:00",
          "2023-06-06T00:00:00+00:00",
          "2023-06-07T00:00:00+00:00",
          "2023-06-08T00:00:00+00:00",
          "2023-06-09T00:00:00+00:00",
          "2023-06-10T00:00:00+00:00",
          "2023-06-11T00:00:00+00:00",
          "2023-06-12T00:00:00+00:00",
          "2023-06-13T00:00:00+00:00",
          "2023-06-14T00:00:00+00:00",
          "2023-06-15T00:00:00+00:00",
          "2023-06-16T00:00:00+00:00",
          "2023-06-17T00:00:00+00:00",
          "2023-06-18T00:00:00+00:00",
          "2023-06-19T00:00:00+00:00",
          "2023-06-20T00:00:00+00:00",
          "2023-06-21T00:00:00+00:00",
          "2023-06-22T00:00:00+00:00",
          "2023-06-23T00:00:00+00:00",
          "2023-06-24T00:00:00+00:00",
          "2023-06-25T00:00:00+00:00",
          "2023-06-26T00:00:00+00:00",
          "2023-06-27T00:00:00+00:00",
          "2023-06-28T00:00:00+00:00",
          "2023-06-29T00:00:00+00:00",
          "2023-06-30T00:00:00+00:00",
          "2023-07-01T00:00:00+00:00",
          "2023-07-02T00:00:00+00:00"
         ],
         "xaxis": "x",
         "y": [
          153,
          203,
          69,
          37,
          306,
          103,
          47,
          27,
          94,
          98,
          79,
          144,
          297,
          126,
          229,
          437,
          525,
          320,
          349,
          316,
          170,
          212,
          698,
          292,
          386,
          289,
          353,
          605,
          369,
          235,
          122,
          161
         ],
         "yaxis": "y"
        },
        {
         "alignmentgroup": "True",
         "hovertemplate": "variable=Negative<br>createdTime=%{x}<br>value=%{y}<extra></extra>",
         "legendgroup": "Negative",
         "marker": {
          "color": "#FF7F0E",
          "pattern": {
           "shape": ""
          }
         },
         "name": "Negative",
         "offsetgroup": "Negative",
         "orientation": "v",
         "showlegend": true,
         "textposition": "auto",
         "type": "bar",
         "x": [
          "2023-06-01T00:00:00+00:00",
          "2023-06-02T00:00:00+00:00",
          "2023-06-03T00:00:00+00:00",
          "2023-06-04T00:00:00+00:00",
          "2023-06-05T00:00:00+00:00",
          "2023-06-06T00:00:00+00:00",
          "2023-06-07T00:00:00+00:00",
          "2023-06-08T00:00:00+00:00",
          "2023-06-09T00:00:00+00:00",
          "2023-06-10T00:00:00+00:00",
          "2023-06-11T00:00:00+00:00",
          "2023-06-12T00:00:00+00:00",
          "2023-06-13T00:00:00+00:00",
          "2023-06-14T00:00:00+00:00",
          "2023-06-15T00:00:00+00:00",
          "2023-06-16T00:00:00+00:00",
          "2023-06-17T00:00:00+00:00",
          "2023-06-18T00:00:00+00:00",
          "2023-06-19T00:00:00+00:00",
          "2023-06-20T00:00:00+00:00",
          "2023-06-21T00:00:00+00:00",
          "2023-06-22T00:00:00+00:00",
          "2023-06-23T00:00:00+00:00",
          "2023-06-24T00:00:00+00:00",
          "2023-06-25T00:00:00+00:00",
          "2023-06-26T00:00:00+00:00",
          "2023-06-27T00:00:00+00:00",
          "2023-06-28T00:00:00+00:00",
          "2023-06-29T00:00:00+00:00",
          "2023-06-30T00:00:00+00:00",
          "2023-07-01T00:00:00+00:00",
          "2023-07-02T00:00:00+00:00"
         ],
         "xaxis": "x",
         "y": [
          678,
          654,
          378,
          383,
          565,
          480,
          246,
          409,
          459,
          350,
          409,
          446,
          455,
          337,
          567,
          525,
          469,
          387,
          567,
          495,
          467,
          496,
          665,
          431,
          387,
          504,
          503,
          634,
          575,
          525,
          387,
          345
         ],
         "yaxis": "y"
        }
       ],
       "layout": {
        "barmode": "relative",
        "legend": {
         "title": {
          "text": "Messages classified"
         },
         "tracegroupgap": 0
        },
        "margin": {
         "t": 60
        },
        "template": {
         "data": {
          "pie": [
           {
            "automargin": true,
            "type": "pie"
           }
          ],
          "scatter": [
           {
            "line": {
             "width": 3
            },
            "marker": {
             "size": 9
            },
            "type": "scatter"
           }
          ],
          "scatter3d": [
           {
            "line": {
             "width": 3
            },
            "marker": {
             "size": 9
            },
            "type": "scatter3d"
           }
          ],
          "scattergeo": [
           {
            "line": {
             "width": 3
            },
            "marker": {
             "size": 9
            },
            "type": "scattergeo"
           }
          ],
          "scattergl": [
           {
            "line": {
             "width": 3
            },
            "marker": {
             "size": 9
            },
            "type": "scattergl"
           }
          ],
          "scatterpolar": [
           {
            "line": {
             "width": 3
            },
            "marker": {
             "size": 9
            },
            "type": "scatterpolar"
           }
          ],
          "scatterpolargl": [
           {
            "line": {
             "width": 3
            },
            "marker": {
             "size": 9
            },
            "type": "scatterpolargl"
           }
          ],
          "scatterternary": [
           {
            "line": {
             "width": 3
            },
            "marker": {
             "size": 9
            },
            "type": "scatterternary"
           }
          ],
          "table": [
           {
            "cells": {
             "height": 30
            },
            "header": {
             "height": 36
            },
            "type": "table"
           }
          ]
         },
         "layout": {
          "font": {
           "size": 18
          },
          "xaxis": {
           "title": {
            "standoff": 15
           }
          },
          "yaxis": {
           "title": {
            "standoff": 15
           }
          }
         }
        },
        "xaxis": {
         "anchor": "y",
         "domain": [
          0,
          1
         ],
         "linecolor": "black",
         "linewidth": 1,
         "mirror": true,
         "showline": true,
         "title": {
          "text": ""
         }
        },
        "yaxis": {
         "anchor": "x",
         "domain": [
          0,
          1
         ],
         "linecolor": "black",
         "linewidth": 1,
         "mirror": true,
         "showline": true,
         "title": {
          "text": "Count of messages classified"
         }
        }
       }
      }
     },
     "metadata": {},
     "output_type": "display_data"
    }
   ],
   "source": [
    "fig = px.bar(counts, x=\"createdTime\", y=[\"Positive\", \"Negative\"], title=\"\",template='presentation')\n",
    "\n",
    "fig.update_layout(template='presentation',xaxis_title=\"\", yaxis_title=\"Count of messages classified\")\n",
    "\n",
    "\n",
    "fig.update_layout(legend_title_text='Messages classified')\n",
    "\n",
    "\n",
    "fig.update_xaxes(showline=True,\n",
    "         linewidth=1,\n",
    "         linecolor='black',\n",
    "         mirror=True)\n",
    "\n",
    "fig.update_yaxes(showline=True,\n",
    "         linewidth=1,\n",
    "         linecolor='black',\n",
    "         mirror=True)\n",
    "\n",
    "fig.show()"
   ]
  },
  {
   "cell_type": "code",
   "execution_count": 145,
   "metadata": {},
   "outputs": [],
   "source": [
    "fig.write_image(str(img_folder) + '/bertimbau-predictions.png', width=800, height=600, scale=2)"
   ]
  }
 ],
 "metadata": {
  "kernelspec": {
   "display_name": ".venv",
   "language": "python",
   "name": "python3"
  },
  "language_info": {
   "codemirror_mode": {
    "name": "ipython",
    "version": 3
   },
   "file_extension": ".py",
   "mimetype": "text/x-python",
   "name": "python",
   "nbconvert_exporter": "python",
   "pygments_lexer": "ipython3",
   "version": "3.10.12"
  },
  "orig_nbformat": 4
 },
 "nbformat": 4,
 "nbformat_minor": 2
}
