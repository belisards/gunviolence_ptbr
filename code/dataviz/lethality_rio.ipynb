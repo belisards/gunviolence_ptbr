{
 "cells": [
  {
   "cell_type": "code",
   "execution_count": 2,
   "metadata": {},
   "outputs": [],
   "source": [
    "import pandas as pd\n",
    "from pathlib import Path\n",
    "import plotly.express as px"
   ]
  },
  {
   "cell_type": "markdown",
   "metadata": {},
   "source": [
    "# Load"
   ]
  },
  {
   "cell_type": "code",
   "execution_count": 3,
   "metadata": {},
   "outputs": [],
   "source": [
    "perestado_file = Path('../..') / 'data' / 'isp' / 'DOMensalEstadoDesde1991.csv'\n",
    "figs_path = Path('../..') / 'figs' "
   ]
  },
  {
   "cell_type": "code",
   "execution_count": 4,
   "metadata": {},
   "outputs": [
    {
     "data": {
      "text/html": [
       "<div>\n",
       "<style scoped>\n",
       "    .dataframe tbody tr th:only-of-type {\n",
       "        vertical-align: middle;\n",
       "    }\n",
       "\n",
       "    .dataframe tbody tr th {\n",
       "        vertical-align: top;\n",
       "    }\n",
       "\n",
       "    .dataframe thead th {\n",
       "        text-align: right;\n",
       "    }\n",
       "</style>\n",
       "<table border=\"1\" class=\"dataframe\">\n",
       "  <thead>\n",
       "    <tr style=\"text-align: right;\">\n",
       "      <th></th>\n",
       "      <th>ano</th>\n",
       "      <th>mes</th>\n",
       "      <th>hom_doloso</th>\n",
       "      <th>lesao_corp_morte</th>\n",
       "      <th>latrocinio</th>\n",
       "      <th>cvli</th>\n",
       "      <th>hom_por_interv_policial</th>\n",
       "      <th>letalidade_violenta</th>\n",
       "      <th>tentat_hom</th>\n",
       "      <th>lesao_corp_dolosa</th>\n",
       "      <th>...</th>\n",
       "      <th>cmp</th>\n",
       "      <th>cmba</th>\n",
       "      <th>ameaca</th>\n",
       "      <th>pessoas_desaparecidas</th>\n",
       "      <th>encontro_cadaver</th>\n",
       "      <th>encontro_ossada</th>\n",
       "      <th>pol_militares_mortos_serv</th>\n",
       "      <th>pol_civis_mortos_serv</th>\n",
       "      <th>registro_ocorrencias</th>\n",
       "      <th>fase</th>\n",
       "    </tr>\n",
       "  </thead>\n",
       "  <tbody>\n",
       "    <tr>\n",
       "      <th>0</th>\n",
       "      <td>1991</td>\n",
       "      <td>1</td>\n",
       "      <td>657</td>\n",
       "      <td>NaN</td>\n",
       "      <td>15</td>\n",
       "      <td>NaN</td>\n",
       "      <td>NaN</td>\n",
       "      <td>672</td>\n",
       "      <td>162</td>\n",
       "      <td>3051</td>\n",
       "      <td>...</td>\n",
       "      <td>NaN</td>\n",
       "      <td>NaN</td>\n",
       "      <td>NaN</td>\n",
       "      <td>NaN</td>\n",
       "      <td>217</td>\n",
       "      <td>NaN</td>\n",
       "      <td>NaN</td>\n",
       "      <td>NaN</td>\n",
       "      <td>NaN</td>\n",
       "      <td>3</td>\n",
       "    </tr>\n",
       "    <tr>\n",
       "      <th>1</th>\n",
       "      <td>1991</td>\n",
       "      <td>2</td>\n",
       "      <td>732</td>\n",
       "      <td>NaN</td>\n",
       "      <td>17</td>\n",
       "      <td>NaN</td>\n",
       "      <td>NaN</td>\n",
       "      <td>749</td>\n",
       "      <td>175</td>\n",
       "      <td>3421</td>\n",
       "      <td>...</td>\n",
       "      <td>NaN</td>\n",
       "      <td>NaN</td>\n",
       "      <td>NaN</td>\n",
       "      <td>NaN</td>\n",
       "      <td>209</td>\n",
       "      <td>NaN</td>\n",
       "      <td>NaN</td>\n",
       "      <td>NaN</td>\n",
       "      <td>NaN</td>\n",
       "      <td>3</td>\n",
       "    </tr>\n",
       "    <tr>\n",
       "      <th>2</th>\n",
       "      <td>1991</td>\n",
       "      <td>3</td>\n",
       "      <td>713</td>\n",
       "      <td>NaN</td>\n",
       "      <td>25</td>\n",
       "      <td>NaN</td>\n",
       "      <td>NaN</td>\n",
       "      <td>738</td>\n",
       "      <td>216</td>\n",
       "      <td>3613</td>\n",
       "      <td>...</td>\n",
       "      <td>NaN</td>\n",
       "      <td>NaN</td>\n",
       "      <td>NaN</td>\n",
       "      <td>NaN</td>\n",
       "      <td>188</td>\n",
       "      <td>NaN</td>\n",
       "      <td>NaN</td>\n",
       "      <td>NaN</td>\n",
       "      <td>NaN</td>\n",
       "      <td>3</td>\n",
       "    </tr>\n",
       "    <tr>\n",
       "      <th>3</th>\n",
       "      <td>1991</td>\n",
       "      <td>4</td>\n",
       "      <td>634</td>\n",
       "      <td>NaN</td>\n",
       "      <td>20</td>\n",
       "      <td>NaN</td>\n",
       "      <td>NaN</td>\n",
       "      <td>654</td>\n",
       "      <td>200</td>\n",
       "      <td>3211</td>\n",
       "      <td>...</td>\n",
       "      <td>NaN</td>\n",
       "      <td>NaN</td>\n",
       "      <td>NaN</td>\n",
       "      <td>NaN</td>\n",
       "      <td>140</td>\n",
       "      <td>NaN</td>\n",
       "      <td>NaN</td>\n",
       "      <td>NaN</td>\n",
       "      <td>NaN</td>\n",
       "      <td>3</td>\n",
       "    </tr>\n",
       "    <tr>\n",
       "      <th>4</th>\n",
       "      <td>1991</td>\n",
       "      <td>5</td>\n",
       "      <td>650</td>\n",
       "      <td>NaN</td>\n",
       "      <td>20</td>\n",
       "      <td>NaN</td>\n",
       "      <td>NaN</td>\n",
       "      <td>670</td>\n",
       "      <td>146</td>\n",
       "      <td>3051</td>\n",
       "      <td>...</td>\n",
       "      <td>NaN</td>\n",
       "      <td>NaN</td>\n",
       "      <td>NaN</td>\n",
       "      <td>NaN</td>\n",
       "      <td>78</td>\n",
       "      <td>NaN</td>\n",
       "      <td>NaN</td>\n",
       "      <td>NaN</td>\n",
       "      <td>NaN</td>\n",
       "      <td>3</td>\n",
       "    </tr>\n",
       "    <tr>\n",
       "      <th>...</th>\n",
       "      <td>...</td>\n",
       "      <td>...</td>\n",
       "      <td>...</td>\n",
       "      <td>...</td>\n",
       "      <td>...</td>\n",
       "      <td>...</td>\n",
       "      <td>...</td>\n",
       "      <td>...</td>\n",
       "      <td>...</td>\n",
       "      <td>...</td>\n",
       "      <td>...</td>\n",
       "      <td>...</td>\n",
       "      <td>...</td>\n",
       "      <td>...</td>\n",
       "      <td>...</td>\n",
       "      <td>...</td>\n",
       "      <td>...</td>\n",
       "      <td>...</td>\n",
       "      <td>...</td>\n",
       "      <td>...</td>\n",
       "      <td>...</td>\n",
       "    </tr>\n",
       "    <tr>\n",
       "      <th>384</th>\n",
       "      <td>2023</td>\n",
       "      <td>1</td>\n",
       "      <td>260</td>\n",
       "      <td>4.0</td>\n",
       "      <td>7</td>\n",
       "      <td>271.0</td>\n",
       "      <td>104.0</td>\n",
       "      <td>375</td>\n",
       "      <td>314</td>\n",
       "      <td>5085</td>\n",
       "      <td>...</td>\n",
       "      <td>843.0</td>\n",
       "      <td>60.0</td>\n",
       "      <td>5172.0</td>\n",
       "      <td>501.0</td>\n",
       "      <td>39</td>\n",
       "      <td>0.0</td>\n",
       "      <td>0.0</td>\n",
       "      <td>0.0</td>\n",
       "      <td>67884.0</td>\n",
       "      <td>3</td>\n",
       "    </tr>\n",
       "    <tr>\n",
       "      <th>385</th>\n",
       "      <td>2023</td>\n",
       "      <td>2</td>\n",
       "      <td>305</td>\n",
       "      <td>4.0</td>\n",
       "      <td>4</td>\n",
       "      <td>313.0</td>\n",
       "      <td>98.0</td>\n",
       "      <td>411</td>\n",
       "      <td>296</td>\n",
       "      <td>5480</td>\n",
       "      <td>...</td>\n",
       "      <td>864.0</td>\n",
       "      <td>92.0</td>\n",
       "      <td>5039.0</td>\n",
       "      <td>521.0</td>\n",
       "      <td>31</td>\n",
       "      <td>3.0</td>\n",
       "      <td>2.0</td>\n",
       "      <td>0.0</td>\n",
       "      <td>63730.0</td>\n",
       "      <td>3</td>\n",
       "    </tr>\n",
       "    <tr>\n",
       "      <th>386</th>\n",
       "      <td>2023</td>\n",
       "      <td>3</td>\n",
       "      <td>343</td>\n",
       "      <td>5.0</td>\n",
       "      <td>7</td>\n",
       "      <td>355.0</td>\n",
       "      <td>122.0</td>\n",
       "      <td>477</td>\n",
       "      <td>350</td>\n",
       "      <td>5660</td>\n",
       "      <td>...</td>\n",
       "      <td>1234.0</td>\n",
       "      <td>126.0</td>\n",
       "      <td>6246.0</td>\n",
       "      <td>563.0</td>\n",
       "      <td>31</td>\n",
       "      <td>4.0</td>\n",
       "      <td>2.0</td>\n",
       "      <td>0.0</td>\n",
       "      <td>74212.0</td>\n",
       "      <td>3</td>\n",
       "    </tr>\n",
       "    <tr>\n",
       "      <th>387</th>\n",
       "      <td>2023</td>\n",
       "      <td>4</td>\n",
       "      <td>278</td>\n",
       "      <td>5.0</td>\n",
       "      <td>6</td>\n",
       "      <td>289.0</td>\n",
       "      <td>90.0</td>\n",
       "      <td>379</td>\n",
       "      <td>275</td>\n",
       "      <td>4855</td>\n",
       "      <td>...</td>\n",
       "      <td>896.0</td>\n",
       "      <td>102.0</td>\n",
       "      <td>5569.0</td>\n",
       "      <td>460.0</td>\n",
       "      <td>26</td>\n",
       "      <td>1.0</td>\n",
       "      <td>2.0</td>\n",
       "      <td>0.0</td>\n",
       "      <td>64184.0</td>\n",
       "      <td>2</td>\n",
       "    </tr>\n",
       "    <tr>\n",
       "      <th>388</th>\n",
       "      <td>2023</td>\n",
       "      <td>5</td>\n",
       "      <td>296</td>\n",
       "      <td>1.0</td>\n",
       "      <td>10</td>\n",
       "      <td>307.0</td>\n",
       "      <td>66.0</td>\n",
       "      <td>373</td>\n",
       "      <td>333</td>\n",
       "      <td>4773</td>\n",
       "      <td>...</td>\n",
       "      <td>1042.0</td>\n",
       "      <td>116.0</td>\n",
       "      <td>5205.0</td>\n",
       "      <td>447.0</td>\n",
       "      <td>29</td>\n",
       "      <td>1.0</td>\n",
       "      <td>0.0</td>\n",
       "      <td>0.0</td>\n",
       "      <td>70787.0</td>\n",
       "      <td>2</td>\n",
       "    </tr>\n",
       "  </tbody>\n",
       "</table>\n",
       "<p>389 rows × 56 columns</p>\n",
       "</div>"
      ],
      "text/plain": [
       "      ano  mes  hom_doloso  lesao_corp_morte  latrocinio   cvli  \\\n",
       "0    1991    1         657               NaN          15    NaN   \n",
       "1    1991    2         732               NaN          17    NaN   \n",
       "2    1991    3         713               NaN          25    NaN   \n",
       "3    1991    4         634               NaN          20    NaN   \n",
       "4    1991    5         650               NaN          20    NaN   \n",
       "..    ...  ...         ...               ...         ...    ...   \n",
       "384  2023    1         260               4.0           7  271.0   \n",
       "385  2023    2         305               4.0           4  313.0   \n",
       "386  2023    3         343               5.0           7  355.0   \n",
       "387  2023    4         278               5.0           6  289.0   \n",
       "388  2023    5         296               1.0          10  307.0   \n",
       "\n",
       "     hom_por_interv_policial  letalidade_violenta  tentat_hom  \\\n",
       "0                        NaN                  672         162   \n",
       "1                        NaN                  749         175   \n",
       "2                        NaN                  738         216   \n",
       "3                        NaN                  654         200   \n",
       "4                        NaN                  670         146   \n",
       "..                       ...                  ...         ...   \n",
       "384                    104.0                  375         314   \n",
       "385                     98.0                  411         296   \n",
       "386                    122.0                  477         350   \n",
       "387                     90.0                  379         275   \n",
       "388                     66.0                  373         333   \n",
       "\n",
       "     lesao_corp_dolosa  ...     cmp   cmba  ameaca  pessoas_desaparecidas  \\\n",
       "0                 3051  ...     NaN    NaN     NaN                    NaN   \n",
       "1                 3421  ...     NaN    NaN     NaN                    NaN   \n",
       "2                 3613  ...     NaN    NaN     NaN                    NaN   \n",
       "3                 3211  ...     NaN    NaN     NaN                    NaN   \n",
       "4                 3051  ...     NaN    NaN     NaN                    NaN   \n",
       "..                 ...  ...     ...    ...     ...                    ...   \n",
       "384               5085  ...   843.0   60.0  5172.0                  501.0   \n",
       "385               5480  ...   864.0   92.0  5039.0                  521.0   \n",
       "386               5660  ...  1234.0  126.0  6246.0                  563.0   \n",
       "387               4855  ...   896.0  102.0  5569.0                  460.0   \n",
       "388               4773  ...  1042.0  116.0  5205.0                  447.0   \n",
       "\n",
       "     encontro_cadaver  encontro_ossada  pol_militares_mortos_serv  \\\n",
       "0                 217              NaN                        NaN   \n",
       "1                 209              NaN                        NaN   \n",
       "2                 188              NaN                        NaN   \n",
       "3                 140              NaN                        NaN   \n",
       "4                  78              NaN                        NaN   \n",
       "..                ...              ...                        ...   \n",
       "384                39              0.0                        0.0   \n",
       "385                31              3.0                        2.0   \n",
       "386                31              4.0                        2.0   \n",
       "387                26              1.0                        2.0   \n",
       "388                29              1.0                        0.0   \n",
       "\n",
       "     pol_civis_mortos_serv  registro_ocorrencias  fase  \n",
       "0                      NaN                   NaN     3  \n",
       "1                      NaN                   NaN     3  \n",
       "2                      NaN                   NaN     3  \n",
       "3                      NaN                   NaN     3  \n",
       "4                      NaN                   NaN     3  \n",
       "..                     ...                   ...   ...  \n",
       "384                    0.0               67884.0     3  \n",
       "385                    0.0               63730.0     3  \n",
       "386                    0.0               74212.0     3  \n",
       "387                    0.0               64184.0     2  \n",
       "388                    0.0               70787.0     2  \n",
       "\n",
       "[389 rows x 56 columns]"
      ]
     },
     "execution_count": 4,
     "metadata": {},
     "output_type": "execute_result"
    }
   ],
   "source": [
    "df = pd.read_csv(perestado_file, sep=';',  na_values=[' '])\n",
    "\n",
    "df\n"
   ]
  },
  {
   "cell_type": "code",
   "execution_count": 5,
   "metadata": {},
   "outputs": [
    {
     "name": "stdout",
     "output_type": "stream",
     "text": [
      "<class 'pandas.core.frame.DataFrame'>\n",
      "RangeIndex: 389 entries, 0 to 388\n",
      "Data columns (total 56 columns):\n",
      " #   Column                      Non-Null Count  Dtype  \n",
      "---  ------                      --------------  -----  \n",
      " 0   ano                         389 non-null    int64  \n",
      " 1   mes                         389 non-null    int64  \n",
      " 2   hom_doloso                  389 non-null    int64  \n",
      " 3   lesao_corp_morte            293 non-null    float64\n",
      " 4   latrocinio                  389 non-null    int64  \n",
      " 5   cvli                        293 non-null    float64\n",
      " 6   hom_por_interv_policial     305 non-null    float64\n",
      " 7   letalidade_violenta         389 non-null    int64  \n",
      " 8   tentat_hom                  389 non-null    int64  \n",
      " 9   lesao_corp_dolosa           389 non-null    int64  \n",
      " 10  estupro                     245 non-null    float64\n",
      " 11  hom_culposo                 305 non-null    float64\n",
      " 12  lesao_corp_culposa          293 non-null    float64\n",
      " 13  roubo_transeunte            389 non-null    int64  \n",
      " 14  roubo_celular               281 non-null    float64\n",
      " 15  roubo_em_coletivo           389 non-null    int64  \n",
      " 16  roubo_rua                   389 non-null    int64  \n",
      " 17  roubo_veiculo               389 non-null    int64  \n",
      " 18  roubo_carga                 389 non-null    int64  \n",
      " 19  roubo_comercio              389 non-null    int64  \n",
      " 20  roubo_residencia            389 non-null    int64  \n",
      " 21  roubo_banco                 389 non-null    int64  \n",
      " 22  roubo_cx_eletronico         245 non-null    float64\n",
      " 23  roubo_conducao_saque        245 non-null    float64\n",
      " 24  roubo_apos_saque            245 non-null    float64\n",
      " 25  roubo_bicicleta             113 non-null    float64\n",
      " 26  outros_roubos               389 non-null    int64  \n",
      " 27  total_roubos                389 non-null    int64  \n",
      " 28  furto_veiculos              389 non-null    int64  \n",
      " 29  furto_transeunte            389 non-null    int64  \n",
      " 30  furto_coletivo              245 non-null    float64\n",
      " 31  furto_celular               245 non-null    float64\n",
      " 32  furto_bicicleta             113 non-null    float64\n",
      " 33  outros_furtos               389 non-null    int64  \n",
      " 34  total_furtos                389 non-null    int64  \n",
      " 35  sequestro                   293 non-null    float64\n",
      " 36  extorsao                    245 non-null    float64\n",
      " 37  sequestro_relampago         245 non-null    float64\n",
      " 38  estelionato                 245 non-null    float64\n",
      " 39  apreensao_drogas            389 non-null    int64  \n",
      " 40  posse_drogas                209 non-null    float64\n",
      " 41  trafico_drogas              209 non-null    float64\n",
      " 42  apreensao_drogas_sem_autor  209 non-null    float64\n",
      " 43  recuperacao_veiculos        389 non-null    int64  \n",
      " 44  apf                         209 non-null    float64\n",
      " 45  aaapai                      209 non-null    float64\n",
      " 46  cmp                         209 non-null    float64\n",
      " 47  cmba                        209 non-null    float64\n",
      " 48  ameaca                      293 non-null    float64\n",
      " 49  pessoas_desaparecidas       257 non-null    float64\n",
      " 50  encontro_cadaver            389 non-null    int64  \n",
      " 51  encontro_ossada             257 non-null    float64\n",
      " 52  pol_militares_mortos_serv   245 non-null    float64\n",
      " 53  pol_civis_mortos_serv       245 non-null    float64\n",
      " 54  registro_ocorrencias        293 non-null    float64\n",
      " 55  fase                        389 non-null    int64  \n",
      "dtypes: float64(31), int64(25)\n",
      "memory usage: 170.3 KB\n"
     ]
    }
   ],
   "source": [
    "df.info()"
   ]
  },
  {
   "cell_type": "markdown",
   "metadata": {},
   "source": [
    "# Filter"
   ]
  },
  {
   "cell_type": "code",
   "execution_count": 6,
   "metadata": {},
   "outputs": [
    {
     "data": {
      "text/plain": [
       "(240, 56)"
      ]
     },
     "execution_count": 6,
     "metadata": {},
     "output_type": "execute_result"
    }
   ],
   "source": [
    "df = df[(df.ano < 2023) & (df.ano > 2002)].copy()\n",
    "df.shape"
   ]
  },
  {
   "cell_type": "code",
   "execution_count": 7,
   "metadata": {},
   "outputs": [],
   "source": [
    "pol_mortos_cols = ['pol_militares_mortos_serv', 'pol_civis_mortos_serv']\n",
    "df['pol_mortos'] = df[pol_mortos_cols].sum(axis=1)"
   ]
  },
  {
   "cell_type": "code",
   "execution_count": 8,
   "metadata": {},
   "outputs": [
    {
     "data": {
      "text/html": [
       "<div>\n",
       "<style scoped>\n",
       "    .dataframe tbody tr th:only-of-type {\n",
       "        vertical-align: middle;\n",
       "    }\n",
       "\n",
       "    .dataframe tbody tr th {\n",
       "        vertical-align: top;\n",
       "    }\n",
       "\n",
       "    .dataframe thead th {\n",
       "        text-align: right;\n",
       "    }\n",
       "</style>\n",
       "<table border=\"1\" class=\"dataframe\">\n",
       "  <thead>\n",
       "    <tr style=\"text-align: right;\">\n",
       "      <th></th>\n",
       "      <th>hom_por_interv_policial</th>\n",
       "      <th>pol_mortos</th>\n",
       "    </tr>\n",
       "    <tr>\n",
       "      <th>ano</th>\n",
       "      <th></th>\n",
       "      <th></th>\n",
       "    </tr>\n",
       "  </thead>\n",
       "  <tbody>\n",
       "    <tr>\n",
       "      <th>2003</th>\n",
       "      <td>1195.0</td>\n",
       "      <td>50.0</td>\n",
       "    </tr>\n",
       "    <tr>\n",
       "      <th>2004</th>\n",
       "      <td>983.0</td>\n",
       "      <td>50.0</td>\n",
       "    </tr>\n",
       "    <tr>\n",
       "      <th>2005</th>\n",
       "      <td>1098.0</td>\n",
       "      <td>33.0</td>\n",
       "    </tr>\n",
       "    <tr>\n",
       "      <th>2006</th>\n",
       "      <td>1063.0</td>\n",
       "      <td>29.0</td>\n",
       "    </tr>\n",
       "    <tr>\n",
       "      <th>2007</th>\n",
       "      <td>1330.0</td>\n",
       "      <td>32.0</td>\n",
       "    </tr>\n",
       "    <tr>\n",
       "      <th>2008</th>\n",
       "      <td>1137.0</td>\n",
       "      <td>26.0</td>\n",
       "    </tr>\n",
       "    <tr>\n",
       "      <th>2009</th>\n",
       "      <td>1048.0</td>\n",
       "      <td>31.0</td>\n",
       "    </tr>\n",
       "    <tr>\n",
       "      <th>2010</th>\n",
       "      <td>855.0</td>\n",
       "      <td>20.0</td>\n",
       "    </tr>\n",
       "    <tr>\n",
       "      <th>2011</th>\n",
       "      <td>523.0</td>\n",
       "      <td>12.0</td>\n",
       "    </tr>\n",
       "    <tr>\n",
       "      <th>2012</th>\n",
       "      <td>419.0</td>\n",
       "      <td>18.0</td>\n",
       "    </tr>\n",
       "    <tr>\n",
       "      <th>2013</th>\n",
       "      <td>416.0</td>\n",
       "      <td>20.0</td>\n",
       "    </tr>\n",
       "    <tr>\n",
       "      <th>2014</th>\n",
       "      <td>584.0</td>\n",
       "      <td>18.0</td>\n",
       "    </tr>\n",
       "    <tr>\n",
       "      <th>2015</th>\n",
       "      <td>645.0</td>\n",
       "      <td>25.0</td>\n",
       "    </tr>\n",
       "    <tr>\n",
       "      <th>2016</th>\n",
       "      <td>925.0</td>\n",
       "      <td>40.0</td>\n",
       "    </tr>\n",
       "    <tr>\n",
       "      <th>2017</th>\n",
       "      <td>1127.0</td>\n",
       "      <td>35.0</td>\n",
       "    </tr>\n",
       "    <tr>\n",
       "      <th>2018</th>\n",
       "      <td>1534.0</td>\n",
       "      <td>32.0</td>\n",
       "    </tr>\n",
       "    <tr>\n",
       "      <th>2019</th>\n",
       "      <td>1814.0</td>\n",
       "      <td>22.0</td>\n",
       "    </tr>\n",
       "    <tr>\n",
       "      <th>2020</th>\n",
       "      <td>1245.0</td>\n",
       "      <td>19.0</td>\n",
       "    </tr>\n",
       "    <tr>\n",
       "      <th>2021</th>\n",
       "      <td>1356.0</td>\n",
       "      <td>10.0</td>\n",
       "    </tr>\n",
       "    <tr>\n",
       "      <th>2022</th>\n",
       "      <td>1330.0</td>\n",
       "      <td>19.0</td>\n",
       "    </tr>\n",
       "  </tbody>\n",
       "</table>\n",
       "</div>"
      ],
      "text/plain": [
       "      hom_por_interv_policial  pol_mortos\n",
       "ano                                      \n",
       "2003                   1195.0        50.0\n",
       "2004                    983.0        50.0\n",
       "2005                   1098.0        33.0\n",
       "2006                   1063.0        29.0\n",
       "2007                   1330.0        32.0\n",
       "2008                   1137.0        26.0\n",
       "2009                   1048.0        31.0\n",
       "2010                    855.0        20.0\n",
       "2011                    523.0        12.0\n",
       "2012                    419.0        18.0\n",
       "2013                    416.0        20.0\n",
       "2014                    584.0        18.0\n",
       "2015                    645.0        25.0\n",
       "2016                    925.0        40.0\n",
       "2017                   1127.0        35.0\n",
       "2018                   1534.0        32.0\n",
       "2019                   1814.0        22.0\n",
       "2020                   1245.0        19.0\n",
       "2021                   1356.0        10.0\n",
       "2022                   1330.0        19.0"
      ]
     },
     "execution_count": 8,
     "metadata": {},
     "output_type": "execute_result"
    }
   ],
   "source": [
    "rank_ano = pd.DataFrame(df.groupby('ano').sum()[['hom_por_interv_policial','pol_mortos']])\n",
    "\n",
    "rank_ano"
   ]
  },
  {
   "cell_type": "markdown",
   "metadata": {},
   "source": [
    "# Plot"
   ]
  },
  {
   "cell_type": "code",
   "execution_count": 18,
   "metadata": {},
   "outputs": [
    {
     "data": {
      "application/vnd.plotly.v1+json": {
       "config": {
        "plotlyServerURL": "https://plot.ly"
       },
       "data": [
        {
         "hovertemplate": "ano=%{x}<br>hom_por_interv_policial=%{y}<extra></extra>",
         "legendgroup": "",
         "line": {
          "color": "#1F77B4",
          "dash": "solid"
         },
         "marker": {
          "symbol": "circle"
         },
         "mode": "lines",
         "name": "",
         "orientation": "v",
         "showlegend": false,
         "type": "scatter",
         "x": [
          2003,
          2004,
          2005,
          2006,
          2007,
          2008,
          2009,
          2010,
          2011,
          2012,
          2013,
          2014,
          2015,
          2016,
          2017,
          2018,
          2019,
          2020,
          2021,
          2022
         ],
         "xaxis": "x",
         "y": [
          1195,
          983,
          1098,
          1063,
          1330,
          1137,
          1048,
          855,
          523,
          419,
          416,
          584,
          645,
          925,
          1127,
          1534,
          1814,
          1245,
          1356,
          1330
         ],
         "yaxis": "y"
        }
       ],
       "layout": {
        "legend": {
         "tracegroupgap": 0
        },
        "showlegend": false,
        "template": {
         "data": {
          "pie": [
           {
            "automargin": true,
            "type": "pie"
           }
          ],
          "scatter": [
           {
            "line": {
             "width": 3
            },
            "marker": {
             "size": 9
            },
            "type": "scatter"
           }
          ],
          "scatter3d": [
           {
            "line": {
             "width": 3
            },
            "marker": {
             "size": 9
            },
            "type": "scatter3d"
           }
          ],
          "scattergeo": [
           {
            "line": {
             "width": 3
            },
            "marker": {
             "size": 9
            },
            "type": "scattergeo"
           }
          ],
          "scattergl": [
           {
            "line": {
             "width": 3
            },
            "marker": {
             "size": 9
            },
            "type": "scattergl"
           }
          ],
          "scatterpolar": [
           {
            "line": {
             "width": 3
            },
            "marker": {
             "size": 9
            },
            "type": "scatterpolar"
           }
          ],
          "scatterpolargl": [
           {
            "line": {
             "width": 3
            },
            "marker": {
             "size": 9
            },
            "type": "scatterpolargl"
           }
          ],
          "scatterternary": [
           {
            "line": {
             "width": 3
            },
            "marker": {
             "size": 9
            },
            "type": "scatterternary"
           }
          ],
          "table": [
           {
            "cells": {
             "height": 30
            },
            "header": {
             "height": 36
            },
            "type": "table"
           }
          ]
         },
         "layout": {
          "font": {
           "size": 18
          },
          "xaxis": {
           "title": {
            "standoff": 15
           }
          },
          "yaxis": {
           "title": {
            "standoff": 15
           }
          }
         }
        },
        "title": {
         "font": {
          "size": 30
         },
         "text": "<b>a) Civilian casualties</b>"
        },
        "xaxis": {
         "anchor": "y",
         "domain": [
          0,
          1
         ],
         "dtick": 2,
         "linecolor": "black",
         "linewidth": 1,
         "mirror": true,
         "range": [
          2003,
          2021
         ],
         "showline": true,
         "tick0": 2003,
         "tickfont": {
          "size": 20
         },
         "title": {
          "font": {
           "size": 30
          },
          "text": "Year"
         }
        },
        "yaxis": {
         "anchor": "x",
         "domain": [
          0,
          1
         ],
         "linecolor": "black",
         "linewidth": 1,
         "mirror": true,
         "range": [
          0,
          2000
         ],
         "showline": true,
         "tickfont": {
          "size": 20
         },
         "title": {
          "font": {
           "size": 30
          },
          "text": "Civilian deaths"
         }
        }
       }
      }
     },
     "metadata": {},
     "output_type": "display_data"
    },
    {
     "data": {
      "application/vnd.plotly.v1+json": {
       "config": {
        "plotlyServerURL": "https://plot.ly"
       },
       "data": [
        {
         "hovertemplate": "ano=%{x}<br>pol_mortos=%{y}<extra></extra>",
         "legendgroup": "",
         "line": {
          "color": "#1F77B4",
          "dash": "solid"
         },
         "marker": {
          "symbol": "circle"
         },
         "mode": "lines",
         "name": "",
         "orientation": "v",
         "showlegend": false,
         "type": "scatter",
         "x": [
          2003,
          2004,
          2005,
          2006,
          2007,
          2008,
          2009,
          2010,
          2011,
          2012,
          2013,
          2014,
          2015,
          2016,
          2017,
          2018,
          2019,
          2020,
          2021,
          2022
         ],
         "xaxis": "x",
         "y": [
          50,
          50,
          33,
          29,
          32,
          26,
          31,
          20,
          12,
          18,
          20,
          18,
          25,
          40,
          35,
          32,
          22,
          19,
          10,
          19
         ],
         "yaxis": "y"
        }
       ],
       "layout": {
        "legend": {
         "tracegroupgap": 0
        },
        "showlegend": false,
        "template": {
         "data": {
          "pie": [
           {
            "automargin": true,
            "type": "pie"
           }
          ],
          "scatter": [
           {
            "line": {
             "width": 3
            },
            "marker": {
             "size": 9
            },
            "type": "scatter"
           }
          ],
          "scatter3d": [
           {
            "line": {
             "width": 3
            },
            "marker": {
             "size": 9
            },
            "type": "scatter3d"
           }
          ],
          "scattergeo": [
           {
            "line": {
             "width": 3
            },
            "marker": {
             "size": 9
            },
            "type": "scattergeo"
           }
          ],
          "scattergl": [
           {
            "line": {
             "width": 3
            },
            "marker": {
             "size": 9
            },
            "type": "scattergl"
           }
          ],
          "scatterpolar": [
           {
            "line": {
             "width": 3
            },
            "marker": {
             "size": 9
            },
            "type": "scatterpolar"
           }
          ],
          "scatterpolargl": [
           {
            "line": {
             "width": 3
            },
            "marker": {
             "size": 9
            },
            "type": "scatterpolargl"
           }
          ],
          "scatterternary": [
           {
            "line": {
             "width": 3
            },
            "marker": {
             "size": 9
            },
            "type": "scatterternary"
           }
          ],
          "table": [
           {
            "cells": {
             "height": 30
            },
            "header": {
             "height": 36
            },
            "type": "table"
           }
          ]
         },
         "layout": {
          "font": {
           "size": 18
          },
          "xaxis": {
           "title": {
            "standoff": 15
           }
          },
          "yaxis": {
           "title": {
            "standoff": 15
           }
          }
         }
        },
        "title": {
         "font": {
          "size": 30
         },
         "text": "b) Police deaths in the line of duty"
        },
        "xaxis": {
         "anchor": "y",
         "domain": [
          0,
          1
         ],
         "dtick": 2,
         "linecolor": "black",
         "linewidth": 1,
         "mirror": true,
         "range": [
          2003,
          2021
         ],
         "showline": true,
         "tick0": 2003,
         "tickfont": {
          "size": 20
         },
         "title": {
          "font": {
           "size": 30
          },
          "text": "Year"
         }
        },
        "yaxis": {
         "anchor": "x",
         "domain": [
          0,
          1
         ],
         "linecolor": "black",
         "linewidth": 1,
         "mirror": true,
         "range": [
          0,
          60
         ],
         "showline": true,
         "tickfont": {
          "size": 20
         },
         "title": {
          "font": {
           "size": 30
          },
          "text": "Police officers killed"
         }
        }
       }
      }
     },
     "metadata": {},
     "output_type": "display_data"
    }
   ],
   "source": [
    "AXIS_TITLE = 30\n",
    "TICK_SIZE = 20\n",
    "PADDING = 10\n",
    "\n",
    "def create_fig(data, y, title, y_axis, y_range):\n",
    "    fig = px.line(data, y=y, title=title, template='presentation')\n",
    "    fig.update_layout(showlegend=False, title_font=dict(size=AXIS_TITLE))\n",
    "    fig.update_xaxes(showline=True, linewidth=1, title='Year', title_font=dict(size=AXIS_TITLE),\n",
    "                     linecolor='black', tick0=2003, dtick=2, range=[2003, 2021], mirror=True,\n",
    "                     tickfont=dict(size=TICK_SIZE))\n",
    "    fig.update_yaxes(showline=True, linewidth=1, title=y_axis, title_font=dict(size=AXIS_TITLE),\n",
    "                     linecolor='black', range=y_range, mirror=True, tickfont=dict(size=TICK_SIZE))\n",
    "    return fig\n",
    "\n",
    "fig1 = create_fig(rank_ano, 'hom_por_interv_policial', '<b>a) Civilian casualties</b>', 'Civilian deaths' , [0, 2000])\n",
    "fig2 = create_fig(rank_ano, 'pol_mortos', '<b>b) Police deaths in the line of duty</b>', 'Police officers killed' ,[0, 60])\n",
    "\n",
    "fig1.show()\n",
    "fig2.show()\n"
   ]
  },
  {
   "cell_type": "code",
   "execution_count": 16,
   "metadata": {},
   "outputs": [],
   "source": [
    "fig1.write_image(figs_path / \"isp-1.png\", width=1200, height=800)\n",
    "fig2.write_image(figs_path / \"isp-2.png\", width=1200, height=800)"
   ]
  },
  {
   "cell_type": "code",
   "execution_count": 17,
   "metadata": {},
   "outputs": [],
   "source": [
    "!cd ../../figs/ && convert +append isp-1.png isp-2.png isp.png\n"
   ]
  }
 ],
 "metadata": {
  "kernelspec": {
   "display_name": ".venv",
   "language": "python",
   "name": "python3"
  },
  "language_info": {
   "codemirror_mode": {
    "name": "ipython",
    "version": 3
   },
   "file_extension": ".py",
   "mimetype": "text/x-python",
   "name": "python",
   "nbconvert_exporter": "python",
   "pygments_lexer": "ipython3",
   "version": "3.10.12"
  },
  "orig_nbformat": 4
 },
 "nbformat": 4,
 "nbformat_minor": 2
}
