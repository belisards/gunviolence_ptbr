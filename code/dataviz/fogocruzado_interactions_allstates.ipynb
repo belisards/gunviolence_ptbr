{
 "cells": [
  {
   "cell_type": "code",
   "execution_count": 1,
   "metadata": {},
   "outputs": [],
   "source": [
    "import pandas as pd\n",
    "from pathlib import Path\n",
    "import plotly.express as px\n",
    "import re\n",
    "from utils import *"
   ]
  },
  {
   "cell_type": "code",
   "execution_count": 2,
   "metadata": {},
   "outputs": [],
   "source": [
    "START_DATE = '2023-03-01'\n",
    "END_DATE = '2023-05-29'\n",
    "\n",
    "interactions_file = Path('../..') / 'data' / 'my_intervention' / 'interactions_per_day_all.csv'\n"
   ]
  },
  {
   "cell_type": "code",
   "execution_count": 3,
   "metadata": {},
   "outputs": [
    {
     "name": "stdout",
     "output_type": "stream",
     "text": [
      "<class 'pandas.core.frame.DataFrame'>\n",
      "RangeIndex: 510 entries, 0 to 509\n",
      "Data columns (total 3 columns):\n",
      " #   Column  Non-Null Count  Dtype \n",
      "---  ------  --------------  ----- \n",
      " 0   Date    510 non-null    object\n",
      " 1   State   510 non-null    object\n",
      " 2   total   510 non-null    int64 \n",
      "dtypes: int64(1), object(2)\n",
      "memory usage: 12.1+ KB\n"
     ]
    }
   ],
   "source": [
    "interactions = pd.read_csv(interactions_file)\n",
    "\n",
    "interactions.info()"
   ]
  },
  {
   "cell_type": "code",
   "execution_count": 4,
   "metadata": {},
   "outputs": [
    {
     "data": {
      "text/plain": [
       "State\n",
       "Bahia             170\n",
       "Rio de Janeiro    170\n",
       "Pernambuco        170\n",
       "Name: count, dtype: int64"
      ]
     },
     "execution_count": 4,
     "metadata": {},
     "output_type": "execute_result"
    }
   ],
   "source": [
    "interactions.State.value_counts()"
   ]
  },
  {
   "cell_type": "code",
   "execution_count": 5,
   "metadata": {},
   "outputs": [
    {
     "name": "stdout",
     "output_type": "stream",
     "text": [
      "<class 'pandas.core.frame.DataFrame'>\n",
      "Index: 270 entries, 177 to 446\n",
      "Data columns (total 3 columns):\n",
      " #   Column  Non-Null Count  Dtype \n",
      "---  ------  --------------  ----- \n",
      " 0   Date    270 non-null    object\n",
      " 1   State   270 non-null    object\n",
      " 2   total   270 non-null    int64 \n",
      "dtypes: int64(1), object(2)\n",
      "memory usage: 8.4+ KB\n"
     ]
    }
   ],
   "source": [
    "interactions_filter = interactions[(interactions['Date'] >= START_DATE) & (interactions['Date'] <= END_DATE)]\n",
    "interactions_filter.info()"
   ]
  },
  {
   "cell_type": "code",
   "execution_count": 6,
   "metadata": {},
   "outputs": [
    {
     "data": {
      "text/html": [
       "<div>\n",
       "<style scoped>\n",
       "    .dataframe tbody tr th:only-of-type {\n",
       "        vertical-align: middle;\n",
       "    }\n",
       "\n",
       "    .dataframe tbody tr th {\n",
       "        vertical-align: top;\n",
       "    }\n",
       "\n",
       "    .dataframe thead th {\n",
       "        text-align: right;\n",
       "    }\n",
       "</style>\n",
       "<table border=\"1\" class=\"dataframe\">\n",
       "  <thead>\n",
       "    <tr style=\"text-align: right;\">\n",
       "      <th></th>\n",
       "      <th>Date</th>\n",
       "      <th>State</th>\n",
       "      <th>total</th>\n",
       "    </tr>\n",
       "  </thead>\n",
       "  <tbody>\n",
       "    <tr>\n",
       "      <th>177</th>\n",
       "      <td>2023-03-01</td>\n",
       "      <td>Bahia</td>\n",
       "      <td>7</td>\n",
       "    </tr>\n",
       "    <tr>\n",
       "      <th>178</th>\n",
       "      <td>2023-03-01</td>\n",
       "      <td>Rio de Janeiro</td>\n",
       "      <td>27</td>\n",
       "    </tr>\n",
       "    <tr>\n",
       "      <th>179</th>\n",
       "      <td>2023-03-01</td>\n",
       "      <td>Pernambuco</td>\n",
       "      <td>0</td>\n",
       "    </tr>\n",
       "    <tr>\n",
       "      <th>180</th>\n",
       "      <td>2023-03-02</td>\n",
       "      <td>Bahia</td>\n",
       "      <td>4</td>\n",
       "    </tr>\n",
       "    <tr>\n",
       "      <th>181</th>\n",
       "      <td>2023-03-02</td>\n",
       "      <td>Rio de Janeiro</td>\n",
       "      <td>17</td>\n",
       "    </tr>\n",
       "    <tr>\n",
       "      <th>...</th>\n",
       "      <td>...</td>\n",
       "      <td>...</td>\n",
       "      <td>...</td>\n",
       "    </tr>\n",
       "    <tr>\n",
       "      <th>442</th>\n",
       "      <td>2023-05-28</td>\n",
       "      <td>Rio de Janeiro</td>\n",
       "      <td>19</td>\n",
       "    </tr>\n",
       "    <tr>\n",
       "      <th>443</th>\n",
       "      <td>2023-05-28</td>\n",
       "      <td>Pernambuco</td>\n",
       "      <td>0</td>\n",
       "    </tr>\n",
       "    <tr>\n",
       "      <th>444</th>\n",
       "      <td>2023-05-29</td>\n",
       "      <td>Bahia</td>\n",
       "      <td>3</td>\n",
       "    </tr>\n",
       "    <tr>\n",
       "      <th>445</th>\n",
       "      <td>2023-05-29</td>\n",
       "      <td>Rio de Janeiro</td>\n",
       "      <td>31</td>\n",
       "    </tr>\n",
       "    <tr>\n",
       "      <th>446</th>\n",
       "      <td>2023-05-29</td>\n",
       "      <td>Pernambuco</td>\n",
       "      <td>2</td>\n",
       "    </tr>\n",
       "  </tbody>\n",
       "</table>\n",
       "<p>270 rows × 3 columns</p>\n",
       "</div>"
      ],
      "text/plain": [
       "           Date           State  total\n",
       "177  2023-03-01           Bahia      7\n",
       "178  2023-03-01  Rio de Janeiro     27\n",
       "179  2023-03-01      Pernambuco      0\n",
       "180  2023-03-02           Bahia      4\n",
       "181  2023-03-02  Rio de Janeiro     17\n",
       "..          ...             ...    ...\n",
       "442  2023-05-28  Rio de Janeiro     19\n",
       "443  2023-05-28      Pernambuco      0\n",
       "444  2023-05-29           Bahia      3\n",
       "445  2023-05-29  Rio de Janeiro     31\n",
       "446  2023-05-29      Pernambuco      2\n",
       "\n",
       "[270 rows x 3 columns]"
      ]
     },
     "execution_count": 6,
     "metadata": {},
     "output_type": "execute_result"
    }
   ],
   "source": [
    "interactions_filter"
   ]
  },
  {
   "attachments": {},
   "cell_type": "markdown",
   "metadata": {},
   "source": [
    "# Plot total of interaction over time"
   ]
  },
  {
   "cell_type": "code",
   "execution_count": 7,
   "metadata": {},
   "outputs": [
    {
     "data": {
      "text/html": [
       "<div>\n",
       "<style scoped>\n",
       "    .dataframe tbody tr th:only-of-type {\n",
       "        vertical-align: middle;\n",
       "    }\n",
       "\n",
       "    .dataframe tbody tr th {\n",
       "        vertical-align: top;\n",
       "    }\n",
       "\n",
       "    .dataframe thead th {\n",
       "        text-align: right;\n",
       "    }\n",
       "</style>\n",
       "<table border=\"1\" class=\"dataframe\">\n",
       "  <thead>\n",
       "    <tr style=\"text-align: right;\">\n",
       "      <th></th>\n",
       "      <th>Date</th>\n",
       "      <th>State</th>\n",
       "      <th>total</th>\n",
       "    </tr>\n",
       "  </thead>\n",
       "  <tbody>\n",
       "    <tr>\n",
       "      <th>177</th>\n",
       "      <td>2023-03-01</td>\n",
       "      <td>Bahia</td>\n",
       "      <td>7</td>\n",
       "    </tr>\n",
       "    <tr>\n",
       "      <th>178</th>\n",
       "      <td>2023-03-01</td>\n",
       "      <td>Rio de Janeiro</td>\n",
       "      <td>27</td>\n",
       "    </tr>\n",
       "    <tr>\n",
       "      <th>179</th>\n",
       "      <td>2023-03-01</td>\n",
       "      <td>Pernambuco</td>\n",
       "      <td>0</td>\n",
       "    </tr>\n",
       "    <tr>\n",
       "      <th>180</th>\n",
       "      <td>2023-03-02</td>\n",
       "      <td>Bahia</td>\n",
       "      <td>4</td>\n",
       "    </tr>\n",
       "    <tr>\n",
       "      <th>181</th>\n",
       "      <td>2023-03-02</td>\n",
       "      <td>Rio de Janeiro</td>\n",
       "      <td>17</td>\n",
       "    </tr>\n",
       "    <tr>\n",
       "      <th>...</th>\n",
       "      <td>...</td>\n",
       "      <td>...</td>\n",
       "      <td>...</td>\n",
       "    </tr>\n",
       "    <tr>\n",
       "      <th>442</th>\n",
       "      <td>2023-05-28</td>\n",
       "      <td>Rio de Janeiro</td>\n",
       "      <td>19</td>\n",
       "    </tr>\n",
       "    <tr>\n",
       "      <th>443</th>\n",
       "      <td>2023-05-28</td>\n",
       "      <td>Pernambuco</td>\n",
       "      <td>0</td>\n",
       "    </tr>\n",
       "    <tr>\n",
       "      <th>444</th>\n",
       "      <td>2023-05-29</td>\n",
       "      <td>Bahia</td>\n",
       "      <td>3</td>\n",
       "    </tr>\n",
       "    <tr>\n",
       "      <th>445</th>\n",
       "      <td>2023-05-29</td>\n",
       "      <td>Rio de Janeiro</td>\n",
       "      <td>31</td>\n",
       "    </tr>\n",
       "    <tr>\n",
       "      <th>446</th>\n",
       "      <td>2023-05-29</td>\n",
       "      <td>Pernambuco</td>\n",
       "      <td>2</td>\n",
       "    </tr>\n",
       "  </tbody>\n",
       "</table>\n",
       "<p>270 rows × 3 columns</p>\n",
       "</div>"
      ],
      "text/plain": [
       "           Date           State  total\n",
       "177  2023-03-01           Bahia      7\n",
       "178  2023-03-01  Rio de Janeiro     27\n",
       "179  2023-03-01      Pernambuco      0\n",
       "180  2023-03-02           Bahia      4\n",
       "181  2023-03-02  Rio de Janeiro     17\n",
       "..          ...             ...    ...\n",
       "442  2023-05-28  Rio de Janeiro     19\n",
       "443  2023-05-28      Pernambuco      0\n",
       "444  2023-05-29           Bahia      3\n",
       "445  2023-05-29  Rio de Janeiro     31\n",
       "446  2023-05-29      Pernambuco      2\n",
       "\n",
       "[270 rows x 3 columns]"
      ]
     },
     "execution_count": 7,
     "metadata": {},
     "output_type": "execute_result"
    }
   ],
   "source": [
    "interactions_filter"
   ]
  },
  {
   "cell_type": "code",
   "execution_count": 8,
   "metadata": {},
   "outputs": [
    {
     "name": "stdout",
     "output_type": "stream",
     "text": [
      "<class 'pandas.core.frame.DataFrame'>\n",
      "Index: 270 entries, 177 to 446\n",
      "Data columns (total 3 columns):\n",
      " #   Column  Non-Null Count  Dtype \n",
      "---  ------  --------------  ----- \n",
      " 0   Date    270 non-null    object\n",
      " 1   State   270 non-null    object\n",
      " 2   total   270 non-null    int64 \n",
      "dtypes: int64(1), object(2)\n",
      "memory usage: 8.4+ KB\n"
     ]
    }
   ],
   "source": [
    "interactions_filter.info()"
   ]
  },
  {
   "cell_type": "code",
   "execution_count": 9,
   "metadata": {},
   "outputs": [
    {
     "data": {
      "application/vnd.plotly.v1+json": {
       "config": {
        "plotlyServerURL": "https://plot.ly"
       },
       "data": [
        {
         "alignmentgroup": "True",
         "hovertemplate": "State=Bahia<br>Date=%{x}<br>Interactions with gun violence reports=%{y}<extra></extra>",
         "legendgroup": "",
         "marker": {
          "color": "#1F77B4",
          "pattern": {
           "shape": ""
          }
         },
         "name": "",
         "offsetgroup": "",
         "orientation": "v",
         "showlegend": false,
         "textposition": "auto",
         "type": "bar",
         "x": [
          "2023-03-01",
          "2023-03-02",
          "2023-03-03",
          "2023-03-04",
          "2023-03-05",
          "2023-03-06",
          "2023-03-07",
          "2023-03-08",
          "2023-03-09",
          "2023-03-10",
          "2023-03-11",
          "2023-03-12",
          "2023-03-13",
          "2023-03-14",
          "2023-03-15",
          "2023-03-16",
          "2023-03-17",
          "2023-03-18",
          "2023-03-19",
          "2023-03-20",
          "2023-03-21",
          "2023-03-22",
          "2023-03-23",
          "2023-03-24",
          "2023-03-25",
          "2023-03-26",
          "2023-03-27",
          "2023-03-28",
          "2023-03-29",
          "2023-03-30",
          "2023-03-31",
          "2023-04-01",
          "2023-04-02",
          "2023-04-03",
          "2023-04-04",
          "2023-04-05",
          "2023-04-06",
          "2023-04-07",
          "2023-04-08",
          "2023-04-09",
          "2023-04-10",
          "2023-04-11",
          "2023-04-12",
          "2023-04-13",
          "2023-04-14",
          "2023-04-15",
          "2023-04-16",
          "2023-04-17",
          "2023-04-18",
          "2023-04-19",
          "2023-04-20",
          "2023-04-21",
          "2023-04-22",
          "2023-04-23",
          "2023-04-24",
          "2023-04-25",
          "2023-04-26",
          "2023-04-27",
          "2023-04-28",
          "2023-04-29",
          "2023-04-30",
          "2023-05-01",
          "2023-05-02",
          "2023-05-03",
          "2023-05-04",
          "2023-05-05",
          "2023-05-06",
          "2023-05-07",
          "2023-05-08",
          "2023-05-09",
          "2023-05-10",
          "2023-05-11",
          "2023-05-12",
          "2023-05-13",
          "2023-05-14",
          "2023-05-15",
          "2023-05-16",
          "2023-05-17",
          "2023-05-18",
          "2023-05-19",
          "2023-05-20",
          "2023-05-21",
          "2023-05-22",
          "2023-05-23",
          "2023-05-24",
          "2023-05-25",
          "2023-05-26",
          "2023-05-27",
          "2023-05-28",
          "2023-05-29"
         ],
         "xaxis": "x",
         "y": [
          7,
          4,
          5,
          3,
          5,
          1,
          2,
          4,
          0,
          13,
          1,
          3,
          3,
          6,
          6,
          10,
          7,
          0,
          2,
          6,
          1,
          1,
          0,
          1,
          2,
          3,
          2,
          0,
          6,
          1,
          4,
          0,
          0,
          2,
          5,
          1,
          8,
          6,
          6,
          4,
          10,
          0,
          4,
          7,
          4,
          5,
          10,
          4,
          2,
          2,
          4,
          8,
          1,
          4,
          3,
          8,
          3,
          7,
          3,
          3,
          3,
          4,
          2,
          3,
          4,
          8,
          3,
          6,
          4,
          5,
          2,
          5,
          1,
          0,
          3,
          3,
          3,
          3,
          2,
          2,
          5,
          7,
          3,
          4,
          2,
          0,
          7,
          3,
          0,
          3
         ],
         "yaxis": "y"
        },
        {
         "alignmentgroup": "True",
         "hovertemplate": "State=Rio de Janeiro<br>Date=%{x}<br>Interactions with gun violence reports=%{y}<extra></extra>",
         "legendgroup": "",
         "marker": {
          "color": "#1F77B4",
          "pattern": {
           "shape": ""
          }
         },
         "name": "",
         "offsetgroup": "",
         "orientation": "v",
         "showlegend": false,
         "textposition": "auto",
         "type": "bar",
         "x": [
          "2023-03-01",
          "2023-03-02",
          "2023-03-03",
          "2023-03-04",
          "2023-03-05",
          "2023-03-06",
          "2023-03-07",
          "2023-03-08",
          "2023-03-09",
          "2023-03-10",
          "2023-03-11",
          "2023-03-12",
          "2023-03-13",
          "2023-03-14",
          "2023-03-15",
          "2023-03-16",
          "2023-03-17",
          "2023-03-18",
          "2023-03-19",
          "2023-03-20",
          "2023-03-21",
          "2023-03-22",
          "2023-03-23",
          "2023-03-24",
          "2023-03-25",
          "2023-03-26",
          "2023-03-27",
          "2023-03-28",
          "2023-03-29",
          "2023-03-30",
          "2023-03-31",
          "2023-04-01",
          "2023-04-02",
          "2023-04-03",
          "2023-04-04",
          "2023-04-05",
          "2023-04-06",
          "2023-04-07",
          "2023-04-08",
          "2023-04-09",
          "2023-04-10",
          "2023-04-11",
          "2023-04-12",
          "2023-04-13",
          "2023-04-14",
          "2023-04-15",
          "2023-04-16",
          "2023-04-17",
          "2023-04-18",
          "2023-04-19",
          "2023-04-20",
          "2023-04-21",
          "2023-04-22",
          "2023-04-23",
          "2023-04-24",
          "2023-04-25",
          "2023-04-26",
          "2023-04-27",
          "2023-04-28",
          "2023-04-29",
          "2023-04-30",
          "2023-05-01",
          "2023-05-02",
          "2023-05-03",
          "2023-05-04",
          "2023-05-05",
          "2023-05-06",
          "2023-05-07",
          "2023-05-08",
          "2023-05-09",
          "2023-05-10",
          "2023-05-11",
          "2023-05-12",
          "2023-05-13",
          "2023-05-14",
          "2023-05-15",
          "2023-05-16",
          "2023-05-17",
          "2023-05-18",
          "2023-05-19",
          "2023-05-20",
          "2023-05-21",
          "2023-05-22",
          "2023-05-23",
          "2023-05-24",
          "2023-05-25",
          "2023-05-26",
          "2023-05-27",
          "2023-05-28",
          "2023-05-29"
         ],
         "xaxis": "x2",
         "y": [
          27,
          17,
          16,
          7,
          26,
          23,
          25,
          49,
          20,
          17,
          16,
          39,
          16,
          13,
          19,
          21,
          17,
          16,
          35,
          19,
          33,
          26,
          38,
          26,
          12,
          12,
          10,
          28,
          10,
          19,
          32,
          19,
          19,
          29,
          40,
          12,
          11,
          19,
          3,
          1,
          20,
          17,
          32,
          21,
          17,
          19,
          10,
          15,
          10,
          5,
          7,
          7,
          23,
          10,
          11,
          14,
          9,
          12,
          3,
          6,
          18,
          15,
          9,
          10,
          22,
          7,
          16,
          11,
          11,
          25,
          13,
          18,
          17,
          18,
          21,
          6,
          40,
          15,
          4,
          13,
          15,
          20,
          10,
          55,
          19,
          25,
          9,
          27,
          19,
          31
         ],
         "yaxis": "y2"
        },
        {
         "alignmentgroup": "True",
         "hovertemplate": "State=Pernambuco<br>Date=%{x}<br>Interactions with gun violence reports=%{y}<extra></extra>",
         "legendgroup": "",
         "marker": {
          "color": "#1F77B4",
          "pattern": {
           "shape": ""
          }
         },
         "name": "",
         "offsetgroup": "",
         "orientation": "v",
         "showlegend": false,
         "textposition": "auto",
         "type": "bar",
         "x": [
          "2023-03-01",
          "2023-03-02",
          "2023-03-03",
          "2023-03-04",
          "2023-03-05",
          "2023-03-06",
          "2023-03-07",
          "2023-03-08",
          "2023-03-09",
          "2023-03-10",
          "2023-03-11",
          "2023-03-12",
          "2023-03-13",
          "2023-03-14",
          "2023-03-15",
          "2023-03-16",
          "2023-03-17",
          "2023-03-18",
          "2023-03-19",
          "2023-03-20",
          "2023-03-21",
          "2023-03-22",
          "2023-03-23",
          "2023-03-24",
          "2023-03-25",
          "2023-03-26",
          "2023-03-27",
          "2023-03-28",
          "2023-03-29",
          "2023-03-30",
          "2023-03-31",
          "2023-04-01",
          "2023-04-02",
          "2023-04-03",
          "2023-04-04",
          "2023-04-05",
          "2023-04-06",
          "2023-04-07",
          "2023-04-08",
          "2023-04-09",
          "2023-04-10",
          "2023-04-11",
          "2023-04-12",
          "2023-04-13",
          "2023-04-14",
          "2023-04-15",
          "2023-04-16",
          "2023-04-17",
          "2023-04-18",
          "2023-04-19",
          "2023-04-20",
          "2023-04-21",
          "2023-04-22",
          "2023-04-23",
          "2023-04-24",
          "2023-04-25",
          "2023-04-26",
          "2023-04-27",
          "2023-04-28",
          "2023-04-29",
          "2023-04-30",
          "2023-05-01",
          "2023-05-02",
          "2023-05-03",
          "2023-05-04",
          "2023-05-05",
          "2023-05-06",
          "2023-05-07",
          "2023-05-08",
          "2023-05-09",
          "2023-05-10",
          "2023-05-11",
          "2023-05-12",
          "2023-05-13",
          "2023-05-14",
          "2023-05-15",
          "2023-05-16",
          "2023-05-17",
          "2023-05-18",
          "2023-05-19",
          "2023-05-20",
          "2023-05-21",
          "2023-05-22",
          "2023-05-23",
          "2023-05-24",
          "2023-05-25",
          "2023-05-26",
          "2023-05-27",
          "2023-05-28",
          "2023-05-29"
         ],
         "xaxis": "x3",
         "y": [
          0,
          0,
          0,
          3,
          0,
          1,
          2,
          2,
          0,
          0,
          0,
          0,
          0,
          5,
          0,
          0,
          0,
          1,
          0,
          0,
          0,
          0,
          1,
          0,
          1,
          0,
          0,
          0,
          0,
          0,
          0,
          0,
          0,
          3,
          0,
          0,
          1,
          2,
          0,
          0,
          1,
          0,
          0,
          2,
          3,
          0,
          0,
          0,
          0,
          0,
          1,
          0,
          1,
          0,
          0,
          0,
          1,
          0,
          0,
          0,
          0,
          0,
          2,
          0,
          2,
          0,
          0,
          0,
          0,
          0,
          0,
          1,
          0,
          0,
          0,
          1,
          0,
          1,
          1,
          0,
          0,
          0,
          0,
          0,
          0,
          0,
          0,
          0,
          0,
          2
         ],
         "yaxis": "y3"
        }
       ],
       "layout": {
        "annotations": [
         {
          "align": "left",
          "font": {
           "size": 18
          },
          "showarrow": false,
          "text": "a) Bahia",
          "x": 0.18,
          "xanchor": "center",
          "xref": "paper",
          "y": 1,
          "yanchor": "bottom",
          "yref": "paper"
         },
         {
          "align": "left",
          "font": {
           "size": 18
          },
          "showarrow": false,
          "text": "b) Rio de Janeiro",
          "x": 0.5,
          "xanchor": "center",
          "xref": "paper",
          "y": 1,
          "yanchor": "bottom",
          "yref": "paper"
         },
         {
          "align": "left",
          "font": {
           "size": 18
          },
          "showarrow": false,
          "text": "c) Pernambuco",
          "x": 0.82,
          "xanchor": "center",
          "xref": "paper",
          "y": 1,
          "yanchor": "bottom",
          "yref": "paper"
         }
        ],
        "barmode": "relative",
        "legend": {
         "tracegroupgap": 0
        },
        "margin": {
         "t": 120
        },
        "template": {
         "data": {
          "pie": [
           {
            "automargin": true,
            "type": "pie"
           }
          ],
          "scatter": [
           {
            "line": {
             "width": 3
            },
            "marker": {
             "size": 9
            },
            "type": "scatter"
           }
          ],
          "scatter3d": [
           {
            "line": {
             "width": 3
            },
            "marker": {
             "size": 9
            },
            "type": "scatter3d"
           }
          ],
          "scattergeo": [
           {
            "line": {
             "width": 3
            },
            "marker": {
             "size": 9
            },
            "type": "scattergeo"
           }
          ],
          "scattergl": [
           {
            "line": {
             "width": 3
            },
            "marker": {
             "size": 9
            },
            "type": "scattergl"
           }
          ],
          "scatterpolar": [
           {
            "line": {
             "width": 3
            },
            "marker": {
             "size": 9
            },
            "type": "scatterpolar"
           }
          ],
          "scatterpolargl": [
           {
            "line": {
             "width": 3
            },
            "marker": {
             "size": 9
            },
            "type": "scatterpolargl"
           }
          ],
          "scatterternary": [
           {
            "line": {
             "width": 3
            },
            "marker": {
             "size": 9
            },
            "type": "scatterternary"
           }
          ],
          "table": [
           {
            "cells": {
             "height": 30
            },
            "header": {
             "height": 36
            },
            "type": "table"
           }
          ]
         },
         "layout": {
          "font": {
           "size": 18
          },
          "xaxis": {
           "title": {
            "standoff": 15
           }
          },
          "yaxis": {
           "title": {
            "standoff": 15
           }
          }
         }
        },
        "xaxis": {
         "anchor": "y",
         "domain": [
          0,
          0.31999999999999995
         ],
         "linecolor": "black",
         "linewidth": 1,
         "mirror": true,
         "showline": true,
         "tickformat": "%b %Y",
         "ticklabelmode": "period",
         "tickmode": "auto",
         "title": {}
        },
        "xaxis2": {
         "anchor": "y2",
         "domain": [
          0.33999999999999997,
          0.6599999999999999
         ],
         "linecolor": "black",
         "linewidth": 1,
         "matches": "x",
         "mirror": true,
         "showline": true,
         "tickformat": "%b %Y",
         "ticklabelmode": "period",
         "tickmode": "auto",
         "title": {
          "text": "Date"
         }
        },
        "xaxis3": {
         "anchor": "y3",
         "domain": [
          0.6799999999999999,
          0.9999999999999999
         ],
         "linecolor": "black",
         "linewidth": 1,
         "matches": "x",
         "mirror": true,
         "showline": true,
         "tickformat": "%b %Y",
         "ticklabelmode": "period",
         "tickmode": "auto",
         "title": {
          "text": "Date"
         }
        },
        "yaxis": {
         "anchor": "x",
         "domain": [
          0,
          1
         ],
         "linecolor": "black",
         "linewidth": 1,
         "mirror": true,
         "range": [
          0,
          70
         ],
         "showline": true,
         "title": {
          "text": "Interactions with gun violence reports"
         }
        },
        "yaxis2": {
         "anchor": "x2",
         "domain": [
          0,
          1
         ],
         "linecolor": "black",
         "linewidth": 1,
         "matches": "y",
         "mirror": true,
         "showline": true,
         "showticklabels": false
        },
        "yaxis3": {
         "anchor": "x3",
         "domain": [
          0,
          1
         ],
         "linecolor": "black",
         "linewidth": 1,
         "matches": "y",
         "mirror": true,
         "showline": true,
         "showticklabels": false
        }
       }
      }
     },
     "metadata": {},
     "output_type": "display_data"
    }
   ],
   "source": [
    "# Define the plot\n",
    "fig = px.bar(interactions_filter, y='total', x='Date', facet_col='State', facet_col_wrap=3, template='presentation',\n",
    "             labels={'total': 'Interactions with gun violence reports', 'Date': 'Date'})\n",
    "\n",
    "# Function to add prefix\n",
    "def add_prefix(str):\n",
    "    dict = {\n",
    "        'Bahia': 'a) Bahia',\n",
    "        'Rio de Janeiro': 'b) Rio de Janeiro',\n",
    "        'Pernambuco': 'c) Pernambuco'\n",
    "    }\n",
    "    return dict[str]\n",
    "\n",
    "# Update layout and axes\n",
    "fig.update_layout(\n",
    "    # Remove the title of x-axis\n",
    "    xaxis_title=None,\n",
    "    # Adjust the annotations\n",
    "    annotations=[\n",
    "        dict(x=0.18, xref='paper', y=1.0, yref='paper', align='left', showarrow=False, font=dict(size=18)),\n",
    "        dict(x=0.5, xref='paper', y=1.0, yref='paper', align='left', showarrow=False, font=dict(size=18)),\n",
    "        dict(x=0.82, xref='paper', y=1.0, yref='paper', align='left', showarrow=False, font=dict(size=18))\n",
    "    ],\n",
    "    # Expand the range of y-axis\n",
    "    yaxis=dict(range=[0, 70]),\n",
    "    # Increase the space between the plots and the title\n",
    "    margin=dict(t=120)\n",
    ")\n",
    "\n",
    "# Update x and y axes\n",
    "fig.update_xaxes(\n",
    "    showline=True,\n",
    "    linewidth=1,\n",
    "    linecolor='black',\n",
    "    mirror=True,\n",
    "    # Add padding between x-axis and date labels and show only months in x-axis\n",
    "    tickmode='auto', \n",
    "    tickformat='%b %Y', \n",
    "    ticklabelmode='period'\n",
    ")\n",
    "\n",
    "fig.update_yaxes(\n",
    "    showline=True,\n",
    "    linewidth=1,\n",
    "    linecolor='black',\n",
    "    mirror=True\n",
    ")\n",
    "\n",
    "# Remove 'State=' from annotation text\n",
    "for item in fig.layout['annotations']:\n",
    "    item['text'] = item['text'].replace('State=', '')\n",
    "\n",
    "# Add a), b), c) to each string\n",
    "fig.for_each_annotation(lambda a: a.update(text=add_prefix(a.text)))\n",
    "\n",
    "fig.show()\n"
   ]
  },
  {
   "cell_type": "code",
   "execution_count": 10,
   "metadata": {},
   "outputs": [],
   "source": [
    "fig.write_image(img_folder / \"interactions_per_day_uf.png\", width=1200, height=800, scale=2)"
   ]
  }
 ],
 "metadata": {
  "kernelspec": {
   "display_name": ".venv",
   "language": "python",
   "name": "python3"
  },
  "language_info": {
   "codemirror_mode": {
    "name": "ipython",
    "version": 3
   },
   "file_extension": ".py",
   "mimetype": "text/x-python",
   "name": "python",
   "nbconvert_exporter": "python",
   "pygments_lexer": "ipython3",
   "version": "3.10.12"
  },
  "orig_nbformat": 4
 },
 "nbformat": 4,
 "nbformat_minor": 2
}
