{
 "cells": [
  {
   "cell_type": "code",
   "execution_count": 1,
   "metadata": {},
   "outputs": [],
   "source": [
    "import pandas as pd\n",
    "from pathlib import Path\n",
    "import plotly.express as px\n",
    "import re"
   ]
  },
  {
   "cell_type": "code",
   "execution_count": 2,
   "metadata": {},
   "outputs": [],
   "source": [
    "START_DATE = '2023-01-01'\n",
    "END_DATE = '2023-05-29'\n",
    "INTERVENTION_DATE = '2023-05-29'\n",
    "\n",
    "\n",
    "allcases_filename = Path('../..') / 'data' / 'fogocruzado' / 'cases_1jul22_3jul23.csv'\n",
    "interactions_file = Path('../..') / 'data' / 'my_intervention' / 'interactions_per_day_rjba.csv'\n",
    "\n",
    "img_folder = Path('../..') / 'figs/'"
   ]
  },
  {
   "cell_type": "markdown",
   "metadata": {},
   "source": [
    "# Load cases"
   ]
  },
  {
   "cell_type": "code",
   "execution_count": 3,
   "metadata": {},
   "outputs": [
    {
     "data": {
      "text/plain": [
       "data_ocorrencia\n",
       "2023-01-01    12\n",
       "2023-01-02     4\n",
       "2023-01-03     4\n",
       "2023-01-04     4\n",
       "2023-01-05     7\n",
       "              ..\n",
       "2023-05-25    16\n",
       "2023-05-26     6\n",
       "2023-05-27     2\n",
       "2023-05-28     4\n",
       "2023-05-29     9\n",
       "Name: id_ocorrencia, Length: 149, dtype: int64"
      ]
     },
     "execution_count": 3,
     "metadata": {},
     "output_type": "execute_result"
    }
   ],
   "source": [
    "# final_filename = Path('../..') / 'data' / 'my_intervention' / 'interventions.csv'\n",
    "\n",
    "allcases = pd.read_csv(allcases_filename, encoding='ISO-8859-1', sep=';', parse_dates=['data_ocorrencia'], dayfirst=True, on_bad_lines='warn')\n",
    "\n",
    "estados = {\n",
    "    19: 'RJ',\n",
    "    17: 'PE',\n",
    "    5: 'BA',\n",
    "}\n",
    "\n",
    "allcases['estado'] = allcases['estado_id'].map(estados)\n",
    "\n",
    "allcases['nome_cidade'] = allcases.nome_cidade.fillna('N. identificado')\n",
    "\n",
    "allcases['populacao_cidade'] = allcases.populacao_cidade.fillna(0)\n",
    "\n",
    "allcases = allcases[(allcases['data_ocorrencia'] >= START_DATE) & (allcases['data_ocorrencia'] <= END_DATE)]\n",
    "\n",
    "\n",
    "rank_rio = allcases[allcases['nome_cidade'] == 'Rio de Janeiro'].groupby('data_ocorrencia').count()['id_ocorrencia']\n",
    "\n",
    "rank_rio"
   ]
  },
  {
   "cell_type": "markdown",
   "metadata": {},
   "source": [
    "# Load interactions"
   ]
  },
  {
   "cell_type": "code",
   "execution_count": 4,
   "metadata": {},
   "outputs": [
    {
     "name": "stdout",
     "output_type": "stream",
     "text": [
      "<class 'pandas.core.frame.DataFrame'>\n",
      "RangeIndex: 552 entries, 0 to 551\n",
      "Data columns (total 3 columns):\n",
      " #   Column  Non-Null Count  Dtype \n",
      "---  ------  --------------  ----- \n",
      " 0   Date    552 non-null    object\n",
      " 1   State   552 non-null    object\n",
      " 2   total   552 non-null    int64 \n",
      "dtypes: int64(1), object(2)\n",
      "memory usage: 13.1+ KB\n"
     ]
    }
   ],
   "source": [
    "interactions = pd.read_csv(interactions_file)\n",
    "interactions.info()"
   ]
  },
  {
   "cell_type": "code",
   "execution_count": 5,
   "metadata": {},
   "outputs": [
    {
     "name": "stdout",
     "output_type": "stream",
     "text": [
      "<class 'pandas.core.frame.DataFrame'>\n",
      "Index: 447 entries, 0 to 446\n",
      "Data columns (total 3 columns):\n",
      " #   Column  Non-Null Count  Dtype \n",
      "---  ------  --------------  ----- \n",
      " 0   Date    447 non-null    object\n",
      " 1   State   447 non-null    object\n",
      " 2   total   447 non-null    int64 \n",
      "dtypes: int64(1), object(2)\n",
      "memory usage: 14.0+ KB\n"
     ]
    }
   ],
   "source": [
    "\n",
    "interactions = interactions[(interactions['Date'] >= START_DATE) & (interactions['Date'] <= END_DATE)]\n",
    "\n",
    "interactions.info()"
   ]
  },
  {
   "cell_type": "code",
   "execution_count": 6,
   "metadata": {},
   "outputs": [
    {
     "data": {
      "text/plain": [
       "(149, 3)"
      ]
     },
     "execution_count": 6,
     "metadata": {},
     "output_type": "execute_result"
    }
   ],
   "source": [
    "interactions_per_day_rj = interactions[interactions['State'] == 'Rio de Janeiro'].copy()\n",
    "\n",
    "interactions_per_day_rj.shape"
   ]
  },
  {
   "cell_type": "code",
   "execution_count": 7,
   "metadata": {},
   "outputs": [
    {
     "data": {
      "text/plain": [
       "(149,)"
      ]
     },
     "execution_count": 7,
     "metadata": {},
     "output_type": "execute_result"
    }
   ],
   "source": [
    "rank_rio.shape"
   ]
  },
  {
   "attachments": {},
   "cell_type": "markdown",
   "metadata": {},
   "source": [
    "# Check"
   ]
  },
  {
   "cell_type": "code",
   "execution_count": 8,
   "metadata": {},
   "outputs": [
    {
     "data": {
      "application/vnd.plotly.v1+json": {
       "config": {
        "plotlyServerURL": "https://plot.ly"
       },
       "data": [
        {
         "alignmentgroup": "True",
         "hovertemplate": "variable=id_ocorrencia<br>data_ocorrencia=%{x}<br>value=%{y}<extra></extra>",
         "legendgroup": "id_ocorrencia",
         "marker": {
          "color": "#1F77B4",
          "pattern": {
           "shape": ""
          }
         },
         "name": "id_ocorrencia",
         "offsetgroup": "id_ocorrencia",
         "orientation": "v",
         "showlegend": true,
         "textposition": "auto",
         "type": "bar",
         "x": [
          "2023-01-01T00:00:00",
          "2023-01-02T00:00:00",
          "2023-01-03T00:00:00",
          "2023-01-04T00:00:00",
          "2023-01-05T00:00:00",
          "2023-01-06T00:00:00",
          "2023-01-07T00:00:00",
          "2023-01-08T00:00:00",
          "2023-01-09T00:00:00",
          "2023-01-10T00:00:00",
          "2023-01-11T00:00:00",
          "2023-01-12T00:00:00",
          "2023-01-13T00:00:00",
          "2023-01-14T00:00:00",
          "2023-01-15T00:00:00",
          "2023-01-16T00:00:00",
          "2023-01-17T00:00:00",
          "2023-01-18T00:00:00",
          "2023-01-19T00:00:00",
          "2023-01-20T00:00:00",
          "2023-01-21T00:00:00",
          "2023-01-22T00:00:00",
          "2023-01-23T00:00:00",
          "2023-01-24T00:00:00",
          "2023-01-25T00:00:00",
          "2023-01-26T00:00:00",
          "2023-01-27T00:00:00",
          "2023-01-28T00:00:00",
          "2023-01-29T00:00:00",
          "2023-01-30T00:00:00",
          "2023-01-31T00:00:00",
          "2023-02-01T00:00:00",
          "2023-02-02T00:00:00",
          "2023-02-03T00:00:00",
          "2023-02-04T00:00:00",
          "2023-02-05T00:00:00",
          "2023-02-06T00:00:00",
          "2023-02-07T00:00:00",
          "2023-02-08T00:00:00",
          "2023-02-09T00:00:00",
          "2023-02-10T00:00:00",
          "2023-02-11T00:00:00",
          "2023-02-12T00:00:00",
          "2023-02-13T00:00:00",
          "2023-02-14T00:00:00",
          "2023-02-15T00:00:00",
          "2023-02-16T00:00:00",
          "2023-02-17T00:00:00",
          "2023-02-18T00:00:00",
          "2023-02-19T00:00:00",
          "2023-02-20T00:00:00",
          "2023-02-21T00:00:00",
          "2023-02-22T00:00:00",
          "2023-02-23T00:00:00",
          "2023-02-24T00:00:00",
          "2023-02-25T00:00:00",
          "2023-02-26T00:00:00",
          "2023-02-27T00:00:00",
          "2023-02-28T00:00:00",
          "2023-03-01T00:00:00",
          "2023-03-02T00:00:00",
          "2023-03-03T00:00:00",
          "2023-03-04T00:00:00",
          "2023-03-05T00:00:00",
          "2023-03-06T00:00:00",
          "2023-03-07T00:00:00",
          "2023-03-08T00:00:00",
          "2023-03-09T00:00:00",
          "2023-03-10T00:00:00",
          "2023-03-11T00:00:00",
          "2023-03-12T00:00:00",
          "2023-03-13T00:00:00",
          "2023-03-14T00:00:00",
          "2023-03-15T00:00:00",
          "2023-03-16T00:00:00",
          "2023-03-17T00:00:00",
          "2023-03-18T00:00:00",
          "2023-03-19T00:00:00",
          "2023-03-20T00:00:00",
          "2023-03-21T00:00:00",
          "2023-03-22T00:00:00",
          "2023-03-23T00:00:00",
          "2023-03-24T00:00:00",
          "2023-03-25T00:00:00",
          "2023-03-26T00:00:00",
          "2023-03-27T00:00:00",
          "2023-03-28T00:00:00",
          "2023-03-29T00:00:00",
          "2023-03-30T00:00:00",
          "2023-03-31T00:00:00",
          "2023-04-01T00:00:00",
          "2023-04-02T00:00:00",
          "2023-04-03T00:00:00",
          "2023-04-04T00:00:00",
          "2023-04-05T00:00:00",
          "2023-04-06T00:00:00",
          "2023-04-07T00:00:00",
          "2023-04-08T00:00:00",
          "2023-04-09T00:00:00",
          "2023-04-10T00:00:00",
          "2023-04-11T00:00:00",
          "2023-04-12T00:00:00",
          "2023-04-13T00:00:00",
          "2023-04-14T00:00:00",
          "2023-04-15T00:00:00",
          "2023-04-16T00:00:00",
          "2023-04-17T00:00:00",
          "2023-04-18T00:00:00",
          "2023-04-19T00:00:00",
          "2023-04-20T00:00:00",
          "2023-04-21T00:00:00",
          "2023-04-22T00:00:00",
          "2023-04-23T00:00:00",
          "2023-04-24T00:00:00",
          "2023-04-25T00:00:00",
          "2023-04-26T00:00:00",
          "2023-04-27T00:00:00",
          "2023-04-28T00:00:00",
          "2023-04-29T00:00:00",
          "2023-04-30T00:00:00",
          "2023-05-01T00:00:00",
          "2023-05-02T00:00:00",
          "2023-05-03T00:00:00",
          "2023-05-04T00:00:00",
          "2023-05-05T00:00:00",
          "2023-05-06T00:00:00",
          "2023-05-07T00:00:00",
          "2023-05-08T00:00:00",
          "2023-05-09T00:00:00",
          "2023-05-10T00:00:00",
          "2023-05-11T00:00:00",
          "2023-05-12T00:00:00",
          "2023-05-13T00:00:00",
          "2023-05-14T00:00:00",
          "2023-05-15T00:00:00",
          "2023-05-16T00:00:00",
          "2023-05-17T00:00:00",
          "2023-05-18T00:00:00",
          "2023-05-19T00:00:00",
          "2023-05-20T00:00:00",
          "2023-05-21T00:00:00",
          "2023-05-22T00:00:00",
          "2023-05-23T00:00:00",
          "2023-05-24T00:00:00",
          "2023-05-25T00:00:00",
          "2023-05-26T00:00:00",
          "2023-05-27T00:00:00",
          "2023-05-28T00:00:00",
          "2023-05-29T00:00:00"
         ],
         "xaxis": "x",
         "y": [
          12,
          4,
          4,
          4,
          7,
          6,
          1,
          6,
          3,
          5,
          6,
          10,
          6,
          3,
          2,
          3,
          6,
          3,
          7,
          6,
          8,
          4,
          9,
          11,
          4,
          7,
          11,
          4,
          8,
          6,
          19,
          8,
          9,
          8,
          9,
          6,
          7,
          7,
          4,
          11,
          5,
          3,
          5,
          7,
          13,
          8,
          5,
          2,
          3,
          3,
          4,
          3,
          3,
          3,
          7,
          4,
          1,
          3,
          7,
          8,
          9,
          2,
          9,
          12,
          14,
          15,
          9,
          10,
          4,
          13,
          12,
          8,
          6,
          8,
          8,
          6,
          11,
          8,
          8,
          13,
          10,
          11,
          8,
          4,
          10,
          10,
          12,
          7,
          6,
          5,
          8,
          5,
          10,
          7,
          10,
          9,
          8,
          2,
          2,
          7,
          2,
          4,
          6,
          8,
          5,
          6,
          6,
          5,
          9,
          6,
          3,
          4,
          2,
          5,
          5,
          4,
          6,
          6,
          6,
          7,
          5,
          6,
          6,
          5,
          7,
          10,
          2,
          2,
          7,
          4,
          9,
          5,
          6,
          7,
          5,
          8,
          2,
          7,
          8,
          5,
          3,
          12,
          8,
          16,
          16,
          6,
          2,
          4,
          9
         ],
         "yaxis": "y"
        }
       ],
       "layout": {
        "barmode": "relative",
        "legend": {
         "title": {
          "text": "variable"
         },
         "tracegroupgap": 0
        },
        "showlegend": false,
        "template": {
         "data": {
          "pie": [
           {
            "automargin": true,
            "type": "pie"
           }
          ],
          "scatter": [
           {
            "line": {
             "width": 3
            },
            "marker": {
             "size": 9
            },
            "type": "scatter"
           }
          ],
          "scatter3d": [
           {
            "line": {
             "width": 3
            },
            "marker": {
             "size": 9
            },
            "type": "scatter3d"
           }
          ],
          "scattergeo": [
           {
            "line": {
             "width": 3
            },
            "marker": {
             "size": 9
            },
            "type": "scattergeo"
           }
          ],
          "scattergl": [
           {
            "line": {
             "width": 3
            },
            "marker": {
             "size": 9
            },
            "type": "scattergl"
           }
          ],
          "scatterpolar": [
           {
            "line": {
             "width": 3
            },
            "marker": {
             "size": 9
            },
            "type": "scatterpolar"
           }
          ],
          "scatterpolargl": [
           {
            "line": {
             "width": 3
            },
            "marker": {
             "size": 9
            },
            "type": "scatterpolargl"
           }
          ],
          "scatterternary": [
           {
            "line": {
             "width": 3
            },
            "marker": {
             "size": 9
            },
            "type": "scatterternary"
           }
          ],
          "table": [
           {
            "cells": {
             "height": 30
            },
            "header": {
             "height": 36
            },
            "type": "table"
           }
          ]
         },
         "layout": {
          "font": {
           "size": 18
          },
          "xaxis": {
           "title": {
            "standoff": 15
           }
          },
          "yaxis": {
           "title": {
            "standoff": 15
           }
          }
         }
        },
        "title": {
         "text": "<b>a) Gun violence events recorded in Rio de Janeiro</b>"
        },
        "xaxis": {
         "anchor": "y",
         "domain": [
          0,
          1
         ],
         "linecolor": "black",
         "linewidth": 1,
         "mirror": true,
         "showline": true,
         "title": {
          "text": "Days"
         }
        },
        "yaxis": {
         "anchor": "x",
         "domain": [
          0,
          1
         ],
         "linecolor": "black",
         "linewidth": 1,
         "mirror": true,
         "showline": true,
         "title": {
          "text": "Daily event count"
         }
        }
       }
      }
     },
     "metadata": {},
     "output_type": "display_data"
    }
   ],
   "source": [
    "# plot rank_rio \n",
    "fig = px.bar(rank_rio, title='<b>a) Gun violence events recorded in Rio de Janeiro</b>',template='presentation')\n",
    "# change x axis and y label and remove legend\n",
    "fig.update_layout(xaxis_title='Days', yaxis_title='Daily event count')\n",
    "\n",
    "fig.update_xaxes(showline=True,\n",
    "         linewidth=1,\n",
    "         linecolor='black',\n",
    "         mirror=True)\n",
    "\n",
    "fig.update_yaxes(showline=True,\n",
    "         linewidth=1,\n",
    "         linecolor='black',\n",
    "         mirror=True)\n",
    "# disable legend\n",
    "fig.update_layout(showlegend=False)\n",
    "fig.show()"
   ]
  },
  {
   "cell_type": "code",
   "execution_count": 9,
   "metadata": {},
   "outputs": [
    {
     "data": {
      "application/vnd.plotly.v1+json": {
       "config": {
        "plotlyServerURL": "https://plot.ly"
       },
       "data": [
        {
         "alignmentgroup": "True",
         "hovertemplate": "Date=%{x}<br>total=%{y}<extra></extra>",
         "legendgroup": "",
         "marker": {
          "color": "#1F77B4",
          "pattern": {
           "shape": ""
          }
         },
         "name": "",
         "offsetgroup": "",
         "orientation": "v",
         "showlegend": false,
         "textposition": "auto",
         "type": "bar",
         "x": [
          "2023-01-01",
          "2023-01-02",
          "2023-01-03",
          "2023-01-04",
          "2023-01-05",
          "2023-01-06",
          "2023-01-07",
          "2023-01-08",
          "2023-01-09",
          "2023-01-10",
          "2023-01-11",
          "2023-01-12",
          "2023-01-13",
          "2023-01-14",
          "2023-01-15",
          "2023-01-16",
          "2023-01-17",
          "2023-01-18",
          "2023-01-19",
          "2023-01-20",
          "2023-01-21",
          "2023-01-22",
          "2023-01-23",
          "2023-01-24",
          "2023-01-25",
          "2023-01-26",
          "2023-01-27",
          "2023-01-28",
          "2023-01-29",
          "2023-01-30",
          "2023-01-31",
          "2023-02-01",
          "2023-02-02",
          "2023-02-03",
          "2023-02-04",
          "2023-02-05",
          "2023-02-06",
          "2023-02-07",
          "2023-02-08",
          "2023-02-09",
          "2023-02-10",
          "2023-02-11",
          "2023-02-12",
          "2023-02-13",
          "2023-02-14",
          "2023-02-15",
          "2023-02-16",
          "2023-02-17",
          "2023-02-18",
          "2023-02-19",
          "2023-02-20",
          "2023-02-21",
          "2023-02-22",
          "2023-02-23",
          "2023-02-24",
          "2023-02-25",
          "2023-02-26",
          "2023-02-27",
          "2023-02-28",
          "2023-03-01",
          "2023-03-02",
          "2023-03-03",
          "2023-03-04",
          "2023-03-05",
          "2023-03-06",
          "2023-03-07",
          "2023-03-08",
          "2023-03-09",
          "2023-03-10",
          "2023-03-11",
          "2023-03-12",
          "2023-03-13",
          "2023-03-14",
          "2023-03-15",
          "2023-03-16",
          "2023-03-17",
          "2023-03-18",
          "2023-03-19",
          "2023-03-20",
          "2023-03-21",
          "2023-03-22",
          "2023-03-23",
          "2023-03-24",
          "2023-03-25",
          "2023-03-26",
          "2023-03-27",
          "2023-03-28",
          "2023-03-29",
          "2023-03-30",
          "2023-03-31",
          "2023-04-01",
          "2023-04-02",
          "2023-04-03",
          "2023-04-04",
          "2023-04-05",
          "2023-04-06",
          "2023-04-07",
          "2023-04-08",
          "2023-04-09",
          "2023-04-10",
          "2023-04-11",
          "2023-04-12",
          "2023-04-13",
          "2023-04-14",
          "2023-04-15",
          "2023-04-16",
          "2023-04-17",
          "2023-04-18",
          "2023-04-19",
          "2023-04-20",
          "2023-04-21",
          "2023-04-22",
          "2023-04-23",
          "2023-04-24",
          "2023-04-25",
          "2023-04-26",
          "2023-04-27",
          "2023-04-28",
          "2023-04-29",
          "2023-04-30",
          "2023-05-01",
          "2023-05-02",
          "2023-05-03",
          "2023-05-04",
          "2023-05-05",
          "2023-05-06",
          "2023-05-07",
          "2023-05-08",
          "2023-05-09",
          "2023-05-10",
          "2023-05-11",
          "2023-05-12",
          "2023-05-13",
          "2023-05-14",
          "2023-05-15",
          "2023-05-16",
          "2023-05-17",
          "2023-05-18",
          "2023-05-19",
          "2023-05-20",
          "2023-05-21",
          "2023-05-22",
          "2023-05-23",
          "2023-05-24",
          "2023-05-25",
          "2023-05-26",
          "2023-05-27",
          "2023-05-28",
          "2023-05-29"
         ],
         "xaxis": "x",
         "y": [
          74,
          15,
          13,
          7,
          12,
          20,
          10,
          17,
          15,
          5,
          39,
          16,
          20,
          13,
          9,
          14,
          13,
          6,
          22,
          21,
          12,
          8,
          30,
          53,
          20,
          15,
          34,
          14,
          17,
          11,
          38,
          17,
          22,
          14,
          36,
          26,
          27,
          9,
          11,
          25,
          13,
          2,
          12,
          16,
          20,
          25,
          23,
          5,
          7,
          4,
          6,
          11,
          9,
          11,
          9,
          12,
          5,
          23,
          14,
          27,
          17,
          16,
          7,
          26,
          23,
          25,
          49,
          20,
          17,
          16,
          39,
          16,
          13,
          19,
          21,
          17,
          16,
          35,
          19,
          33,
          26,
          38,
          26,
          12,
          12,
          10,
          28,
          10,
          19,
          32,
          19,
          19,
          29,
          40,
          12,
          11,
          19,
          3,
          1,
          20,
          17,
          32,
          21,
          17,
          19,
          10,
          15,
          10,
          5,
          7,
          7,
          23,
          10,
          11,
          14,
          9,
          12,
          3,
          6,
          18,
          15,
          9,
          10,
          22,
          7,
          16,
          11,
          11,
          25,
          13,
          18,
          17,
          18,
          21,
          6,
          40,
          15,
          4,
          13,
          15,
          20,
          10,
          55,
          19,
          25,
          9,
          27,
          19,
          31
         ],
         "yaxis": "y"
        }
       ],
       "layout": {
        "barmode": "relative",
        "legend": {
         "tracegroupgap": 0
        },
        "showlegend": false,
        "template": {
         "data": {
          "pie": [
           {
            "automargin": true,
            "type": "pie"
           }
          ],
          "scatter": [
           {
            "line": {
             "width": 3
            },
            "marker": {
             "size": 9
            },
            "type": "scatter"
           }
          ],
          "scatter3d": [
           {
            "line": {
             "width": 3
            },
            "marker": {
             "size": 9
            },
            "type": "scatter3d"
           }
          ],
          "scattergeo": [
           {
            "line": {
             "width": 3
            },
            "marker": {
             "size": 9
            },
            "type": "scattergeo"
           }
          ],
          "scattergl": [
           {
            "line": {
             "width": 3
            },
            "marker": {
             "size": 9
            },
            "type": "scattergl"
           }
          ],
          "scatterpolar": [
           {
            "line": {
             "width": 3
            },
            "marker": {
             "size": 9
            },
            "type": "scatterpolar"
           }
          ],
          "scatterpolargl": [
           {
            "line": {
             "width": 3
            },
            "marker": {
             "size": 9
            },
            "type": "scatterpolargl"
           }
          ],
          "scatterternary": [
           {
            "line": {
             "width": 3
            },
            "marker": {
             "size": 9
            },
            "type": "scatterternary"
           }
          ],
          "table": [
           {
            "cells": {
             "height": 30
            },
            "header": {
             "height": 36
            },
            "type": "table"
           }
          ]
         },
         "layout": {
          "font": {
           "size": 18
          },
          "xaxis": {
           "title": {
            "standoff": 15
           }
          },
          "yaxis": {
           "title": {
            "standoff": 15
           }
          }
         }
        },
        "title": {
         "text": "<b> b) @FogoCruzadoRJ interactions with gun violence reports on Twitter</b>"
        },
        "xaxis": {
         "anchor": "y",
         "domain": [
          0,
          1
         ],
         "linecolor": "black",
         "linewidth": 1,
         "mirror": true,
         "showline": true,
         "title": {
          "text": "Days"
         }
        },
        "yaxis": {
         "anchor": "x",
         "domain": [
          0,
          1
         ],
         "linecolor": "black",
         "linewidth": 1,
         "mirror": true,
         "showline": true,
         "title": {
          "text": "Replies to gun violence reports"
         }
        }
       }
      }
     },
     "metadata": {},
     "output_type": "display_data"
    }
   ],
   "source": [
    "# plot rank_rio \n",
    "fig2 = px.bar(interactions_per_day_rj, x='Date', y='total', title='<b> b) @FogoCruzadoRJ interactions with gun violence reports on Twitter</b>',template='presentation')\n",
    "\n",
    "fig2.update_layout(xaxis_title='Days', yaxis_title='Replies to gun violence reports')\n",
    "\n",
    "fig2.update_xaxes(showline=True,\n",
    "         linewidth=1,\n",
    "         linecolor='black',\n",
    "         mirror=True)\n",
    "\n",
    "fig2.update_yaxes(showline=True,\n",
    "         linewidth=1,\n",
    "         linecolor='black',\n",
    "         mirror=True)\n",
    "# disable legend\n",
    "fig2.update_layout(showlegend=False)\n",
    "fig2.show()"
   ]
  },
  {
   "cell_type": "code",
   "execution_count": 10,
   "metadata": {},
   "outputs": [
    {
     "data": {
      "application/vnd.plotly.v1+json": {
       "config": {
        "plotlyServerURL": "https://plot.ly"
       },
       "data": [
        {
         "alignmentgroup": "True",
         "hovertemplate": "Date=%{x}<br>total=%{y}<extra></extra>",
         "legendgroup": "",
         "marker": {
          "color": "#1F77B4",
          "pattern": {
           "shape": ""
          }
         },
         "name": "",
         "offsetgroup": "",
         "orientation": "v",
         "showlegend": false,
         "textposition": "auto",
         "type": "bar",
         "x": [
          "2023-01-01",
          "2023-01-02",
          "2023-01-03",
          "2023-01-04",
          "2023-01-05",
          "2023-01-06",
          "2023-01-07",
          "2023-01-08",
          "2023-01-09",
          "2023-01-10",
          "2023-01-11",
          "2023-01-12",
          "2023-01-13",
          "2023-01-14",
          "2023-01-15",
          "2023-01-16",
          "2023-01-17",
          "2023-01-18",
          "2023-01-19",
          "2023-01-20",
          "2023-01-21",
          "2023-01-22",
          "2023-01-23",
          "2023-01-24",
          "2023-01-25",
          "2023-01-26",
          "2023-01-27",
          "2023-01-28",
          "2023-01-29",
          "2023-01-30",
          "2023-01-31",
          "2023-02-01",
          "2023-02-02",
          "2023-02-03",
          "2023-02-04",
          "2023-02-05",
          "2023-02-06",
          "2023-02-07",
          "2023-02-08",
          "2023-02-09",
          "2023-02-10",
          "2023-02-11",
          "2023-02-12",
          "2023-02-13",
          "2023-02-14",
          "2023-02-15",
          "2023-02-16",
          "2023-02-17",
          "2023-02-18",
          "2023-02-19",
          "2023-02-20",
          "2023-02-21",
          "2023-02-22",
          "2023-02-23",
          "2023-02-24",
          "2023-02-25",
          "2023-02-26",
          "2023-02-27",
          "2023-02-28",
          "2023-03-01",
          "2023-03-02",
          "2023-03-03",
          "2023-03-04",
          "2023-03-05",
          "2023-03-06",
          "2023-03-07",
          "2023-03-08",
          "2023-03-09",
          "2023-03-10",
          "2023-03-11",
          "2023-03-12",
          "2023-03-13",
          "2023-03-14",
          "2023-03-15",
          "2023-03-16",
          "2023-03-17",
          "2023-03-18",
          "2023-03-19",
          "2023-03-20",
          "2023-03-21",
          "2023-03-22",
          "2023-03-23",
          "2023-03-24",
          "2023-03-25",
          "2023-03-26",
          "2023-03-27",
          "2023-03-28",
          "2023-03-29",
          "2023-03-30",
          "2023-03-31",
          "2023-04-01",
          "2023-04-02",
          "2023-04-03",
          "2023-04-04",
          "2023-04-05",
          "2023-04-06",
          "2023-04-07",
          "2023-04-08",
          "2023-04-09",
          "2023-04-10",
          "2023-04-11",
          "2023-04-12",
          "2023-04-13",
          "2023-04-14",
          "2023-04-15",
          "2023-04-16",
          "2023-04-17",
          "2023-04-18",
          "2023-04-19",
          "2023-04-20",
          "2023-04-21",
          "2023-04-22",
          "2023-04-23",
          "2023-04-24",
          "2023-04-25",
          "2023-04-26",
          "2023-04-27",
          "2023-04-28",
          "2023-04-29",
          "2023-04-30",
          "2023-05-01",
          "2023-05-02",
          "2023-05-03",
          "2023-05-04",
          "2023-05-05",
          "2023-05-06",
          "2023-05-07",
          "2023-05-08",
          "2023-05-09",
          "2023-05-10",
          "2023-05-11",
          "2023-05-12",
          "2023-05-13",
          "2023-05-14",
          "2023-05-15",
          "2023-05-16",
          "2023-05-17",
          "2023-05-18",
          "2023-05-19",
          "2023-05-20",
          "2023-05-21",
          "2023-05-22",
          "2023-05-23",
          "2023-05-24",
          "2023-05-25",
          "2023-05-26",
          "2023-05-27",
          "2023-05-28",
          "2023-05-29"
         ],
         "xaxis": "x",
         "y": [
          74,
          15,
          13,
          7,
          12,
          20,
          10,
          17,
          15,
          5,
          39,
          16,
          20,
          13,
          9,
          14,
          13,
          6,
          22,
          21,
          12,
          8,
          30,
          53,
          20,
          15,
          34,
          14,
          17,
          11,
          38,
          17,
          22,
          14,
          36,
          26,
          27,
          9,
          11,
          25,
          13,
          2,
          12,
          16,
          20,
          25,
          23,
          5,
          7,
          4,
          6,
          11,
          9,
          11,
          9,
          12,
          5,
          23,
          14,
          27,
          17,
          16,
          7,
          26,
          23,
          25,
          49,
          20,
          17,
          16,
          39,
          16,
          13,
          19,
          21,
          17,
          16,
          35,
          19,
          33,
          26,
          38,
          26,
          12,
          12,
          10,
          28,
          10,
          19,
          32,
          19,
          19,
          29,
          40,
          12,
          11,
          19,
          3,
          1,
          20,
          17,
          32,
          21,
          17,
          19,
          10,
          15,
          10,
          5,
          7,
          7,
          23,
          10,
          11,
          14,
          9,
          12,
          3,
          6,
          18,
          15,
          9,
          10,
          22,
          7,
          16,
          11,
          11,
          25,
          13,
          18,
          17,
          18,
          21,
          6,
          40,
          15,
          4,
          13,
          15,
          20,
          10,
          55,
          19,
          25,
          9,
          27,
          19,
          31
         ],
         "yaxis": "y"
        }
       ],
       "layout": {
        "barmode": "relative",
        "font": {
         "size": 25
        },
        "legend": {
         "tracegroupgap": 0
        },
        "showlegend": false,
        "template": {
         "data": {
          "pie": [
           {
            "automargin": true,
            "type": "pie"
           }
          ],
          "scatter": [
           {
            "line": {
             "width": 3
            },
            "marker": {
             "size": 9
            },
            "type": "scatter"
           }
          ],
          "scatter3d": [
           {
            "line": {
             "width": 3
            },
            "marker": {
             "size": 9
            },
            "type": "scatter3d"
           }
          ],
          "scattergeo": [
           {
            "line": {
             "width": 3
            },
            "marker": {
             "size": 9
            },
            "type": "scattergeo"
           }
          ],
          "scattergl": [
           {
            "line": {
             "width": 3
            },
            "marker": {
             "size": 9
            },
            "type": "scattergl"
           }
          ],
          "scatterpolar": [
           {
            "line": {
             "width": 3
            },
            "marker": {
             "size": 9
            },
            "type": "scatterpolar"
           }
          ],
          "scatterpolargl": [
           {
            "line": {
             "width": 3
            },
            "marker": {
             "size": 9
            },
            "type": "scatterpolargl"
           }
          ],
          "scatterternary": [
           {
            "line": {
             "width": 3
            },
            "marker": {
             "size": 9
            },
            "type": "scatterternary"
           }
          ],
          "table": [
           {
            "cells": {
             "height": 30
            },
            "header": {
             "height": 36
            },
            "type": "table"
           }
          ]
         },
         "layout": {
          "font": {
           "size": 18
          },
          "xaxis": {
           "title": {
            "standoff": 15
           }
          },
          "yaxis": {
           "title": {
            "standoff": 15
           }
          }
         }
        },
        "title": {
         "text": "<b> b) @FogoCruzadoRJ interactions with gun violence reports on Twitter</b>"
        },
        "xaxis": {
         "anchor": "y",
         "domain": [
          0,
          1
         ],
         "linecolor": "black",
         "linewidth": 1,
         "mirror": true,
         "showline": true,
         "title": {
          "text": "Days"
         }
        },
        "yaxis": {
         "anchor": "x",
         "domain": [
          0,
          1
         ],
         "linecolor": "black",
         "linewidth": 1,
         "mirror": true,
         "showline": true,
         "title": {
          "text": "Replies to gun violence reports"
         }
        }
       }
      }
     },
     "metadata": {},
     "output_type": "display_data"
    }
   ],
   "source": [
    "FONT_SIZE = 25\n",
    "# increase fonts size of axis and title\n",
    "fig.update_layout(\n",
    "    font=dict(\n",
    "        size=FONT_SIZE,\n",
    ")\n",
    ")\n",
    "\n",
    "fig2.update_layout(\n",
    "    font=dict(\n",
    "        size=FONT_SIZE,\n",
    ")\n",
    ")"
   ]
  },
  {
   "cell_type": "code",
   "execution_count": 11,
   "metadata": {},
   "outputs": [],
   "source": [
    "fig1_name = 'events.png'\n",
    "fig2_name = 'interactions.png'\n",
    "width = 1200\n",
    "height = 800\n",
    "scale = 2\n",
    "\n",
    "fig.write_image(str(img_folder / fig1_name), width=width, height=height, scale=scale)\n",
    "fig2.write_image(str(img_folder / fig2_name), width=width, height=height, scale=scale)\n",
    "\n",
    "!convert +append {img_folder / fig1_name} {img_folder / fig2_name} {img_folder / 'events_interactions.png'}"
   ]
  },
  {
   "cell_type": "markdown",
   "metadata": {},
   "source": [
    "# Scatterplot"
   ]
  },
  {
   "cell_type": "code",
   "execution_count": 12,
   "metadata": {},
   "outputs": [
    {
     "data": {
      "application/vnd.plotly.v1+json": {
       "config": {
        "plotlyServerURL": "https://plot.ly"
       },
       "data": [
        {
         "hovertemplate": "x=%{x}<br>y=%{y}<extra></extra>",
         "legendgroup": "",
         "marker": {
          "color": "#1F77B4",
          "symbol": "circle"
         },
         "mode": "markers",
         "name": "",
         "orientation": "v",
         "showlegend": false,
         "type": "scatter",
         "x": [
          74,
          15,
          13,
          7,
          12,
          20,
          10,
          17,
          15,
          5,
          39,
          16,
          20,
          13,
          9,
          14,
          13,
          6,
          22,
          21,
          12,
          8,
          30,
          53,
          20,
          15,
          34,
          14,
          17,
          11,
          38,
          17,
          22,
          14,
          36,
          26,
          27,
          9,
          11,
          25,
          13,
          2,
          12,
          16,
          20,
          25,
          23,
          5,
          7,
          4,
          6,
          11,
          9,
          11,
          9,
          12,
          5,
          23,
          14,
          27,
          17,
          16,
          7,
          26,
          23,
          25,
          49,
          20,
          17,
          16,
          39,
          16,
          13,
          19,
          21,
          17,
          16,
          35,
          19,
          33,
          26,
          38,
          26,
          12,
          12,
          10,
          28,
          10,
          19,
          32,
          19,
          19,
          29,
          40,
          12,
          11,
          19,
          3,
          1,
          20,
          17,
          32,
          21,
          17,
          19,
          10,
          15,
          10,
          5,
          7,
          7,
          23,
          10,
          11,
          14,
          9,
          12,
          3,
          6,
          18,
          15,
          9,
          10,
          22,
          7,
          16,
          11,
          11,
          25,
          13,
          18,
          17,
          18,
          21,
          6,
          40,
          15,
          4,
          13,
          15,
          20,
          10,
          55,
          19,
          25,
          9,
          27,
          19,
          31
         ],
         "xaxis": "x",
         "y": [
          12,
          4,
          4,
          4,
          7,
          6,
          1,
          6,
          3,
          5,
          6,
          10,
          6,
          3,
          2,
          3,
          6,
          3,
          7,
          6,
          8,
          4,
          9,
          11,
          4,
          7,
          11,
          4,
          8,
          6,
          19,
          8,
          9,
          8,
          9,
          6,
          7,
          7,
          4,
          11,
          5,
          3,
          5,
          7,
          13,
          8,
          5,
          2,
          3,
          3,
          4,
          3,
          3,
          3,
          7,
          4,
          1,
          3,
          7,
          8,
          9,
          2,
          9,
          12,
          14,
          15,
          9,
          10,
          4,
          13,
          12,
          8,
          6,
          8,
          8,
          6,
          11,
          8,
          8,
          13,
          10,
          11,
          8,
          4,
          10,
          10,
          12,
          7,
          6,
          5,
          8,
          5,
          10,
          7,
          10,
          9,
          8,
          2,
          2,
          7,
          2,
          4,
          6,
          8,
          5,
          6,
          6,
          5,
          9,
          6,
          3,
          4,
          2,
          5,
          5,
          4,
          6,
          6,
          6,
          7,
          5,
          6,
          6,
          5,
          7,
          10,
          2,
          2,
          7,
          4,
          9,
          5,
          6,
          7,
          5,
          8,
          2,
          7,
          8,
          5,
          3,
          12,
          8,
          16,
          16,
          6,
          2,
          4,
          9
         ],
         "yaxis": "y"
        },
        {
         "hovertemplate": "<b>OLS trendline</b><br>y = 0.143116 * x + 4.10561<br>R<sup>2</sup>=0.225412<br><br>x=%{x}<br>y=%{y} <b>(trend)</b><extra></extra>",
         "legendgroup": "",
         "marker": {
          "color": "#1F77B4",
          "symbol": "circle"
         },
         "mode": "lines",
         "name": "",
         "showlegend": false,
         "type": "scatter",
         "x": [
          1,
          2,
          3,
          3,
          4,
          4,
          5,
          5,
          5,
          5,
          6,
          6,
          6,
          6,
          7,
          7,
          7,
          7,
          7,
          7,
          8,
          9,
          9,
          9,
          9,
          9,
          9,
          9,
          10,
          10,
          10,
          10,
          10,
          10,
          10,
          10,
          11,
          11,
          11,
          11,
          11,
          11,
          11,
          11,
          12,
          12,
          12,
          12,
          12,
          12,
          12,
          12,
          13,
          13,
          13,
          13,
          13,
          13,
          13,
          14,
          14,
          14,
          14,
          14,
          15,
          15,
          15,
          15,
          15,
          15,
          15,
          16,
          16,
          16,
          16,
          16,
          16,
          16,
          17,
          17,
          17,
          17,
          17,
          17,
          17,
          17,
          17,
          18,
          18,
          18,
          19,
          19,
          19,
          19,
          19,
          19,
          19,
          19,
          19,
          20,
          20,
          20,
          20,
          20,
          20,
          20,
          21,
          21,
          21,
          21,
          22,
          22,
          22,
          23,
          23,
          23,
          23,
          25,
          25,
          25,
          25,
          25,
          26,
          26,
          26,
          26,
          27,
          27,
          27,
          28,
          29,
          30,
          31,
          32,
          32,
          33,
          34,
          35,
          36,
          38,
          38,
          39,
          39,
          40,
          40,
          49,
          53,
          55,
          74
         ],
         "xaxis": "x",
         "y": [
          4.248728129296737,
          4.391844508652323,
          4.534960888007908,
          4.534960888007908,
          4.678077267363493,
          4.678077267363493,
          4.821193646719078,
          4.821193646719078,
          4.821193646719078,
          4.821193646719078,
          4.964310026074664,
          4.964310026074664,
          4.964310026074664,
          4.964310026074664,
          5.10742640543025,
          5.10742640543025,
          5.10742640543025,
          5.10742640543025,
          5.10742640543025,
          5.10742640543025,
          5.250542784785835,
          5.39365916414142,
          5.39365916414142,
          5.39365916414142,
          5.39365916414142,
          5.39365916414142,
          5.39365916414142,
          5.39365916414142,
          5.536775543497006,
          5.536775543497006,
          5.536775543497006,
          5.536775543497006,
          5.536775543497006,
          5.536775543497006,
          5.536775543497006,
          5.536775543497006,
          5.679891922852591,
          5.679891922852591,
          5.679891922852591,
          5.679891922852591,
          5.679891922852591,
          5.679891922852591,
          5.679891922852591,
          5.679891922852591,
          5.8230083022081764,
          5.8230083022081764,
          5.8230083022081764,
          5.8230083022081764,
          5.8230083022081764,
          5.8230083022081764,
          5.8230083022081764,
          5.8230083022081764,
          5.9661246815637625,
          5.9661246815637625,
          5.9661246815637625,
          5.9661246815637625,
          5.9661246815637625,
          5.9661246815637625,
          5.9661246815637625,
          6.109241060919348,
          6.109241060919348,
          6.109241060919348,
          6.109241060919348,
          6.109241060919348,
          6.252357440274933,
          6.252357440274933,
          6.252357440274933,
          6.252357440274933,
          6.252357440274933,
          6.252357440274933,
          6.252357440274933,
          6.395473819630519,
          6.395473819630519,
          6.395473819630519,
          6.395473819630519,
          6.395473819630519,
          6.395473819630519,
          6.395473819630519,
          6.538590198986104,
          6.538590198986104,
          6.538590198986104,
          6.538590198986104,
          6.538590198986104,
          6.538590198986104,
          6.538590198986104,
          6.538590198986104,
          6.538590198986104,
          6.681706578341689,
          6.681706578341689,
          6.681706578341689,
          6.824822957697275,
          6.824822957697275,
          6.824822957697275,
          6.824822957697275,
          6.824822957697275,
          6.824822957697275,
          6.824822957697275,
          6.824822957697275,
          6.824822957697275,
          6.96793933705286,
          6.96793933705286,
          6.96793933705286,
          6.96793933705286,
          6.96793933705286,
          6.96793933705286,
          6.96793933705286,
          7.111055716408446,
          7.111055716408446,
          7.111055716408446,
          7.111055716408446,
          7.254172095764031,
          7.254172095764031,
          7.254172095764031,
          7.397288475119616,
          7.397288475119616,
          7.397288475119616,
          7.397288475119616,
          7.6835212338307874,
          7.6835212338307874,
          7.6835212338307874,
          7.6835212338307874,
          7.6835212338307874,
          7.826637613186373,
          7.826637613186373,
          7.826637613186373,
          7.826637613186373,
          7.969753992541959,
          7.969753992541959,
          7.969753992541959,
          8.112870371897543,
          8.255986751253129,
          8.399103130608715,
          8.542219509964301,
          8.685335889319886,
          8.685335889319886,
          8.82845226867547,
          8.971568648031056,
          9.114685027386642,
          9.257801406742228,
          9.544034165453398,
          9.544034165453398,
          9.687150544808983,
          9.687150544808983,
          9.830266924164569,
          9.830266924164569,
          11.118314338364838,
          11.69077985578718,
          11.97701261449835,
          14.696223822254474
         ],
         "yaxis": "y"
        }
       ],
       "layout": {
        "legend": {
         "tracegroupgap": 0
        },
        "template": {
         "data": {
          "pie": [
           {
            "automargin": true,
            "type": "pie"
           }
          ],
          "scatter": [
           {
            "line": {
             "width": 3
            },
            "marker": {
             "size": 9
            },
            "type": "scatter"
           }
          ],
          "scatter3d": [
           {
            "line": {
             "width": 3
            },
            "marker": {
             "size": 9
            },
            "type": "scatter3d"
           }
          ],
          "scattergeo": [
           {
            "line": {
             "width": 3
            },
            "marker": {
             "size": 9
            },
            "type": "scattergeo"
           }
          ],
          "scattergl": [
           {
            "line": {
             "width": 3
            },
            "marker": {
             "size": 9
            },
            "type": "scattergl"
           }
          ],
          "scatterpolar": [
           {
            "line": {
             "width": 3
            },
            "marker": {
             "size": 9
            },
            "type": "scatterpolar"
           }
          ],
          "scatterpolargl": [
           {
            "line": {
             "width": 3
            },
            "marker": {
             "size": 9
            },
            "type": "scatterpolargl"
           }
          ],
          "scatterternary": [
           {
            "line": {
             "width": 3
            },
            "marker": {
             "size": 9
            },
            "type": "scatterternary"
           }
          ],
          "table": [
           {
            "cells": {
             "height": 30
            },
            "header": {
             "height": 36
            },
            "type": "table"
           }
          ]
         },
         "layout": {
          "font": {
           "size": 18
          },
          "xaxis": {
           "title": {
            "standoff": 15
           }
          },
          "yaxis": {
           "title": {
            "standoff": 15
           }
          }
         }
        },
        "title": {
         "text": "c) Correlation between events registered by Fogo Cruzado Institute and interactions on Twitter"
        },
        "xaxis": {
         "anchor": "y",
         "domain": [
          0,
          1
         ],
         "title": {
          "text": "x"
         }
        },
        "yaxis": {
         "anchor": "x",
         "domain": [
          0,
          1
         ],
         "title": {
          "text": "y"
         }
        }
       }
      }
     },
     "metadata": {},
     "output_type": "display_data"
    }
   ],
   "source": [
    "y = rank_rio.values\n",
    "x = interactions_per_day_rj['total'].values\n",
    "\n",
    "\n",
    "px.scatter(x=x, y=y, title='c) Correlation between events registered by Fogo Cruzado Institute and interactions on Twitter', template='presentation',trendline='ols')\n"
   ]
  },
  {
   "cell_type": "markdown",
   "metadata": {},
   "source": [
    "# Cummulative sum"
   ]
  },
  {
   "cell_type": "code",
   "execution_count": 13,
   "metadata": {},
   "outputs": [
    {
     "data": {
      "text/html": [
       "<div>\n",
       "<style scoped>\n",
       "    .dataframe tbody tr th:only-of-type {\n",
       "        vertical-align: middle;\n",
       "    }\n",
       "\n",
       "    .dataframe tbody tr th {\n",
       "        vertical-align: top;\n",
       "    }\n",
       "\n",
       "    .dataframe thead th {\n",
       "        text-align: right;\n",
       "    }\n",
       "</style>\n",
       "<table border=\"1\" class=\"dataframe\">\n",
       "  <thead>\n",
       "    <tr style=\"text-align: right;\">\n",
       "      <th></th>\n",
       "      <th>Date</th>\n",
       "      <th>State</th>\n",
       "      <th>total</th>\n",
       "    </tr>\n",
       "  </thead>\n",
       "  <tbody>\n",
       "    <tr>\n",
       "      <th>1</th>\n",
       "      <td>2023-01-01</td>\n",
       "      <td>Rio de Janeiro</td>\n",
       "      <td>74</td>\n",
       "    </tr>\n",
       "    <tr>\n",
       "      <th>4</th>\n",
       "      <td>2023-01-02</td>\n",
       "      <td>Rio de Janeiro</td>\n",
       "      <td>15</td>\n",
       "    </tr>\n",
       "    <tr>\n",
       "      <th>7</th>\n",
       "      <td>2023-01-03</td>\n",
       "      <td>Rio de Janeiro</td>\n",
       "      <td>13</td>\n",
       "    </tr>\n",
       "    <tr>\n",
       "      <th>10</th>\n",
       "      <td>2023-01-04</td>\n",
       "      <td>Rio de Janeiro</td>\n",
       "      <td>7</td>\n",
       "    </tr>\n",
       "    <tr>\n",
       "      <th>13</th>\n",
       "      <td>2023-01-05</td>\n",
       "      <td>Rio de Janeiro</td>\n",
       "      <td>12</td>\n",
       "    </tr>\n",
       "    <tr>\n",
       "      <th>...</th>\n",
       "      <td>...</td>\n",
       "      <td>...</td>\n",
       "      <td>...</td>\n",
       "    </tr>\n",
       "    <tr>\n",
       "      <th>433</th>\n",
       "      <td>2023-05-25</td>\n",
       "      <td>Rio de Janeiro</td>\n",
       "      <td>25</td>\n",
       "    </tr>\n",
       "    <tr>\n",
       "      <th>436</th>\n",
       "      <td>2023-05-26</td>\n",
       "      <td>Rio de Janeiro</td>\n",
       "      <td>9</td>\n",
       "    </tr>\n",
       "    <tr>\n",
       "      <th>439</th>\n",
       "      <td>2023-05-27</td>\n",
       "      <td>Rio de Janeiro</td>\n",
       "      <td>27</td>\n",
       "    </tr>\n",
       "    <tr>\n",
       "      <th>442</th>\n",
       "      <td>2023-05-28</td>\n",
       "      <td>Rio de Janeiro</td>\n",
       "      <td>19</td>\n",
       "    </tr>\n",
       "    <tr>\n",
       "      <th>445</th>\n",
       "      <td>2023-05-29</td>\n",
       "      <td>Rio de Janeiro</td>\n",
       "      <td>31</td>\n",
       "    </tr>\n",
       "  </tbody>\n",
       "</table>\n",
       "<p>149 rows × 3 columns</p>\n",
       "</div>"
      ],
      "text/plain": [
       "           Date           State  total\n",
       "1    2023-01-01  Rio de Janeiro     74\n",
       "4    2023-01-02  Rio de Janeiro     15\n",
       "7    2023-01-03  Rio de Janeiro     13\n",
       "10   2023-01-04  Rio de Janeiro      7\n",
       "13   2023-01-05  Rio de Janeiro     12\n",
       "..          ...             ...    ...\n",
       "433  2023-05-25  Rio de Janeiro     25\n",
       "436  2023-05-26  Rio de Janeiro      9\n",
       "439  2023-05-27  Rio de Janeiro     27\n",
       "442  2023-05-28  Rio de Janeiro     19\n",
       "445  2023-05-29  Rio de Janeiro     31\n",
       "\n",
       "[149 rows x 3 columns]"
      ]
     },
     "execution_count": 13,
     "metadata": {},
     "output_type": "execute_result"
    }
   ],
   "source": [
    "interactions_per_day_rj"
   ]
  },
  {
   "cell_type": "code",
   "execution_count": 14,
   "metadata": {},
   "outputs": [
    {
     "data": {
      "application/vnd.plotly.v1+json": {
       "config": {
        "plotlyServerURL": "https://plot.ly"
       },
       "data": [
        {
         "hovertemplate": "Date=%{x}<br>total_sum=%{y}<extra></extra>",
         "legendgroup": "",
         "line": {
          "color": "#636efa",
          "dash": "solid"
         },
         "marker": {
          "symbol": "circle"
         },
         "mode": "lines",
         "name": "",
         "orientation": "v",
         "showlegend": false,
         "type": "scatter",
         "x": [
          "2023-01-01",
          "2023-01-02",
          "2023-01-03",
          "2023-01-04",
          "2023-01-05",
          "2023-01-06",
          "2023-01-07",
          "2023-01-08",
          "2023-01-09",
          "2023-01-10",
          "2023-01-11",
          "2023-01-12",
          "2023-01-13",
          "2023-01-14",
          "2023-01-15",
          "2023-01-16",
          "2023-01-17",
          "2023-01-18",
          "2023-01-19",
          "2023-01-20",
          "2023-01-21",
          "2023-01-22",
          "2023-01-23",
          "2023-01-24",
          "2023-01-25",
          "2023-01-26",
          "2023-01-27",
          "2023-01-28",
          "2023-01-29",
          "2023-01-30",
          "2023-01-31",
          "2023-02-01",
          "2023-02-02",
          "2023-02-03",
          "2023-02-04",
          "2023-02-05",
          "2023-02-06",
          "2023-02-07",
          "2023-02-08",
          "2023-02-09",
          "2023-02-10",
          "2023-02-11",
          "2023-02-12",
          "2023-02-13",
          "2023-02-14",
          "2023-02-15",
          "2023-02-16",
          "2023-02-17",
          "2023-02-18",
          "2023-02-19",
          "2023-02-20",
          "2023-02-21",
          "2023-02-22",
          "2023-02-23",
          "2023-02-24",
          "2023-02-25",
          "2023-02-26",
          "2023-02-27",
          "2023-02-28",
          "2023-03-01",
          "2023-03-02",
          "2023-03-03",
          "2023-03-04",
          "2023-03-05",
          "2023-03-06",
          "2023-03-07",
          "2023-03-08",
          "2023-03-09",
          "2023-03-10",
          "2023-03-11",
          "2023-03-12",
          "2023-03-13",
          "2023-03-14",
          "2023-03-15",
          "2023-03-16",
          "2023-03-17",
          "2023-03-18",
          "2023-03-19",
          "2023-03-20",
          "2023-03-21",
          "2023-03-22",
          "2023-03-23",
          "2023-03-24",
          "2023-03-25",
          "2023-03-26",
          "2023-03-27",
          "2023-03-28",
          "2023-03-29",
          "2023-03-30",
          "2023-03-31",
          "2023-04-01",
          "2023-04-02",
          "2023-04-03",
          "2023-04-04",
          "2023-04-05",
          "2023-04-06",
          "2023-04-07",
          "2023-04-08",
          "2023-04-09",
          "2023-04-10",
          "2023-04-11",
          "2023-04-12",
          "2023-04-13",
          "2023-04-14",
          "2023-04-15",
          "2023-04-16",
          "2023-04-17",
          "2023-04-18",
          "2023-04-19",
          "2023-04-20",
          "2023-04-21",
          "2023-04-22",
          "2023-04-23",
          "2023-04-24",
          "2023-04-25",
          "2023-04-26",
          "2023-04-27",
          "2023-04-28",
          "2023-04-29",
          "2023-04-30",
          "2023-05-01",
          "2023-05-02",
          "2023-05-03",
          "2023-05-04",
          "2023-05-05",
          "2023-05-06",
          "2023-05-07",
          "2023-05-08",
          "2023-05-09",
          "2023-05-10",
          "2023-05-11",
          "2023-05-12",
          "2023-05-13",
          "2023-05-14",
          "2023-05-15",
          "2023-05-16",
          "2023-05-17",
          "2023-05-18",
          "2023-05-19",
          "2023-05-20",
          "2023-05-21",
          "2023-05-22",
          "2023-05-23",
          "2023-05-24",
          "2023-05-25",
          "2023-05-26",
          "2023-05-27",
          "2023-05-28",
          "2023-05-29"
         ],
         "xaxis": "x",
         "y": [
          74,
          89,
          102,
          109,
          121,
          141,
          151,
          168,
          183,
          188,
          227,
          243,
          263,
          276,
          285,
          299,
          312,
          318,
          340,
          361,
          373,
          381,
          411,
          464,
          484,
          499,
          533,
          547,
          564,
          575,
          613,
          630,
          652,
          666,
          702,
          728,
          755,
          764,
          775,
          800,
          813,
          815,
          827,
          843,
          863,
          888,
          911,
          916,
          923,
          927,
          933,
          944,
          953,
          964,
          973,
          985,
          990,
          1013,
          1027,
          1054,
          1071,
          1087,
          1094,
          1120,
          1143,
          1168,
          1217,
          1237,
          1254,
          1270,
          1309,
          1325,
          1338,
          1357,
          1378,
          1395,
          1411,
          1446,
          1465,
          1498,
          1524,
          1562,
          1588,
          1600,
          1612,
          1622,
          1650,
          1660,
          1679,
          1711,
          1730,
          1749,
          1778,
          1818,
          1830,
          1841,
          1860,
          1863,
          1864,
          1884,
          1901,
          1933,
          1954,
          1971,
          1990,
          2000,
          2015,
          2025,
          2030,
          2037,
          2044,
          2067,
          2077,
          2088,
          2102,
          2111,
          2123,
          2126,
          2132,
          2150,
          2165,
          2174,
          2184,
          2206,
          2213,
          2229,
          2240,
          2251,
          2276,
          2289,
          2307,
          2324,
          2342,
          2363,
          2369,
          2409,
          2424,
          2428,
          2441,
          2456,
          2476,
          2486,
          2541,
          2560,
          2585,
          2594,
          2621,
          2640,
          2671
         ],
         "yaxis": "y"
        }
       ],
       "layout": {
        "legend": {
         "tracegroupgap": 0
        },
        "margin": {
         "t": 60
        },
        "showlegend": false,
        "template": {
         "data": {
          "pie": [
           {
            "automargin": true,
            "type": "pie"
           }
          ],
          "scatter": [
           {
            "line": {
             "width": 3
            },
            "marker": {
             "size": 9
            },
            "type": "scatter"
           }
          ],
          "scatter3d": [
           {
            "line": {
             "width": 3
            },
            "marker": {
             "size": 9
            },
            "type": "scatter3d"
           }
          ],
          "scattergeo": [
           {
            "line": {
             "width": 3
            },
            "marker": {
             "size": 9
            },
            "type": "scattergeo"
           }
          ],
          "scattergl": [
           {
            "line": {
             "width": 3
            },
            "marker": {
             "size": 9
            },
            "type": "scattergl"
           }
          ],
          "scatterpolar": [
           {
            "line": {
             "width": 3
            },
            "marker": {
             "size": 9
            },
            "type": "scatterpolar"
           }
          ],
          "scatterpolargl": [
           {
            "line": {
             "width": 3
            },
            "marker": {
             "size": 9
            },
            "type": "scatterpolargl"
           }
          ],
          "scatterternary": [
           {
            "line": {
             "width": 3
            },
            "marker": {
             "size": 9
            },
            "type": "scatterternary"
           }
          ],
          "table": [
           {
            "cells": {
             "height": 30
            },
            "header": {
             "height": 36
            },
            "type": "table"
           }
          ]
         },
         "layout": {
          "font": {
           "size": 18
          },
          "xaxis": {
           "title": {
            "standoff": 15
           }
          },
          "yaxis": {
           "title": {
            "standoff": 15
           }
          }
         }
        },
        "xaxis": {
         "anchor": "y",
         "domain": [
          0,
          1
         ],
         "title": {
          "text": ""
         }
        },
        "yaxis": {
         "anchor": "x",
         "domain": [
          0,
          1
         ],
         "title": {
          "text": "Cummulative sum"
         }
        }
       }
      }
     },
     "metadata": {},
     "output_type": "display_data"
    }
   ],
   "source": [
    "# make cumulative sum\n",
    "interactions_per_day_rj['total_sum'] = interactions_per_day_rj['total'].cumsum()\n",
    "\n",
    "# plot cumsum\n",
    "fig = px.line(interactions_per_day_rj, x='Date', y='total_sum', title=\"\")\n",
    "\n",
    "fig.update_layout(template='presentation',\n",
    "                  showlegend=False,\n",
    "                  xaxis_title='',\n",
    "                  yaxis_title='Cummulative sum')\n",
    "\n",
    "fig.show()\n"
   ]
  }
 ],
 "metadata": {
  "kernelspec": {
   "display_name": ".venv",
   "language": "python",
   "name": "python3"
  },
  "language_info": {
   "codemirror_mode": {
    "name": "ipython",
    "version": 3
   },
   "file_extension": ".py",
   "mimetype": "text/x-python",
   "name": "python",
   "nbconvert_exporter": "python",
   "pygments_lexer": "ipython3",
   "version": "3.10.12"
  },
  "orig_nbformat": 4
 },
 "nbformat": 4,
 "nbformat_minor": 2
}
