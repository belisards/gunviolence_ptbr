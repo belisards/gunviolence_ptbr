{
 "cells": [
  {
   "cell_type": "code",
   "execution_count": 1,
   "metadata": {},
   "outputs": [],
   "source": [
    "import polars as pl\n",
    "import pandas as pd\n",
    "from utils import *"
   ]
  },
  {
   "cell_type": "code",
   "execution_count": 2,
   "metadata": {},
   "outputs": [],
   "source": [
    "data_folder = '../data/'\n",
    "test_folder = data_folder + '/test/'\n",
    "\n",
    "unlabel_filename = data_folder + 'final_database/combined_search.parquet'\n",
    "positive = data_folder + 'final_database/positive.parquet'\n",
    "\n",
    "cols = ['id','text']"
   ]
  },
  {
   "attachments": {},
   "cell_type": "markdown",
   "metadata": {},
   "source": [
    "# Test"
   ]
  },
  {
   "attachments": {},
   "cell_type": "markdown",
   "metadata": {},
   "source": [
    "## Positive"
   ]
  },
  {
   "cell_type": "code",
   "execution_count": 3,
   "metadata": {},
   "outputs": [
    {
     "name": "stdout",
     "output_type": "stream",
     "text": [
      "Initial positive tweets:  36241\n",
      "After removing Fogo Cruzado tweets: (31632, 45)\n",
      "After removing duplicates texts: (28661, 45)\n",
      "After removing retweets: (28657, 45)\n",
      "After removing replies: (26080, 45)\n",
      "After removing is temporarily unavailable: (26055, 45)\n",
      "After removing @fogocruzadoapp: (25978, 45)\n",
      "After removing fogocruzado: (25977, 45)\n",
      "After removing #FogoCruzadoRJ: (25975, 45)\n",
      "Final positive tweets:  1909\n"
     ]
    }
   ],
   "source": [
    "pos = pd.read_parquet(positive)\n",
    "print('Initial positive tweets: ', len(pos))\n",
    "pos = delete_tweets(pos)\n",
    "pos = pos[pos['created_at'] >= '2023-01-01']\n",
    "pos['created_at'] = pd.to_datetime(pos['created_at'])\n",
    "pos['author_id'] = pd.to_numeric(pos['author_id'])\n",
    "\n",
    "total_pos = len(pos)\n",
    "print('Final positive tweets: ', total_pos)"
   ]
  },
  {
   "attachments": {},
   "cell_type": "markdown",
   "metadata": {},
   "source": [
    "## Negative train"
   ]
  },
  {
   "cell_type": "code",
   "execution_count": 4,
   "metadata": {},
   "outputs": [
    {
     "name": "stderr",
     "output_type": "stream",
     "text": [
      "/tmp/ipykernel_68040/809967341.py:2: ChronoFormatWarning: Detected the pattern `.%f` in the chrono format string. This pattern should not be used to parse values after a decimal point. Use `%.f` instead. See the full specification: https://docs.rs/chrono/latest/chrono/format/strftime\n",
      "  pl.col(\"created_at\").str.strptime(pl.Datetime,\n"
     ]
    }
   ],
   "source": [
    "unlabel = pl.read_parquet(unlabel_filename).with_columns([\n",
    "    pl.col(\"created_at\").str.strptime(pl.Datetime,\n",
    "                                      format=\"%Y-%m-%dT%H:%M:%S.%fZ\", strict=False)\n",
    "]).filter(pl.col(\"created_at\") > pl.datetime(2023, 1, 1)).to_pandas()"
   ]
  },
  {
   "cell_type": "code",
   "execution_count": 5,
   "metadata": {},
   "outputs": [
    {
     "name": "stdout",
     "output_type": "stream",
     "text": [
      "After removing Fogo Cruzado tweets: (6807, 46)\n",
      "After removing duplicates texts: (6776, 46)\n",
      "After removing retweets: (6776, 46)\n",
      "After removing replies: (5047, 46)\n",
      "After removing is temporarily unavailable: (5046, 46)\n",
      "After removing @fogocruzadoapp: (5046, 46)\n",
      "After removing fogocruzado: (5046, 46)\n",
      "After removing #FogoCruzadoRJ: (5046, 46)\n"
     ]
    }
   ],
   "source": [
    "unlabel = delete_tweets(unlabel)"
   ]
  },
  {
   "cell_type": "code",
   "execution_count": 6,
   "metadata": {},
   "outputs": [
    {
     "data": {
      "text/plain": [
       "False    4815\n",
       "True      231\n",
       "Name: id, dtype: int64"
      ]
     },
     "execution_count": 6,
     "metadata": {},
     "output_type": "execute_result"
    }
   ],
   "source": [
    "unlabel.id.isin(pos.id).value_counts()"
   ]
  },
  {
   "cell_type": "code",
   "execution_count": 7,
   "metadata": {},
   "outputs": [],
   "source": [
    "unlabel = unlabel[~unlabel.id.isin(pos.id)]"
   ]
  },
  {
   "attachments": {},
   "cell_type": "markdown",
   "metadata": {},
   "source": [
    "## Merge train"
   ]
  },
  {
   "cell_type": "code",
   "execution_count": 8,
   "metadata": {},
   "outputs": [
    {
     "data": {
      "text/html": [
       "<div>\n",
       "<style scoped>\n",
       "    .dataframe tbody tr th:only-of-type {\n",
       "        vertical-align: middle;\n",
       "    }\n",
       "\n",
       "    .dataframe tbody tr th {\n",
       "        vertical-align: top;\n",
       "    }\n",
       "\n",
       "    .dataframe thead th {\n",
       "        text-align: right;\n",
       "    }\n",
       "</style>\n",
       "<table border=\"1\" class=\"dataframe\">\n",
       "  <thead>\n",
       "    <tr style=\"text-align: right;\">\n",
       "      <th></th>\n",
       "      <th>id</th>\n",
       "      <th>text</th>\n",
       "      <th>label</th>\n",
       "    </tr>\n",
       "  </thead>\n",
       "  <tbody>\n",
       "    <tr>\n",
       "      <th>0</th>\n",
       "      <td>1644522101624193032</td>\n",
       "      <td>Todo dia tiroteio gente, que issu</td>\n",
       "      <td>1</td>\n",
       "    </tr>\n",
       "    <tr>\n",
       "      <th>1</th>\n",
       "      <td>1644456817009762305</td>\n",
       "      <td>Tiro demais Jesus</td>\n",
       "      <td>1</td>\n",
       "    </tr>\n",
       "    <tr>\n",
       "      <th>2</th>\n",
       "      <td>1644454575208890369</td>\n",
       "      <td>Do nadaaa um tiroteio fudido que isso</td>\n",
       "      <td>1</td>\n",
       "    </tr>\n",
       "    <tr>\n",
       "      <th>3</th>\n",
       "      <td>1644455365046681600</td>\n",
       "      <td>quanto tiro 😰</td>\n",
       "      <td>1</td>\n",
       "    </tr>\n",
       "    <tr>\n",
       "      <th>4</th>\n",
       "      <td>1644442932286464002</td>\n",
       "      <td>crc tiro pra kct 🤦</td>\n",
       "      <td>1</td>\n",
       "    </tr>\n",
       "    <tr>\n",
       "      <th>...</th>\n",
       "      <td>...</td>\n",
       "      <td>...</td>\n",
       "      <td>...</td>\n",
       "    </tr>\n",
       "    <tr>\n",
       "      <th>36235</th>\n",
       "      <td>1661336677967691777</td>\n",
       "      <td>Muito tiro tô passando mal</td>\n",
       "      <td>1</td>\n",
       "    </tr>\n",
       "    <tr>\n",
       "      <th>36236</th>\n",
       "      <td>1661321502422081537</td>\n",
       "      <td>Ir trabalhar no meio do tiroteio é o fim cara</td>\n",
       "      <td>1</td>\n",
       "    </tr>\n",
       "    <tr>\n",
       "      <th>36238</th>\n",
       "      <td>1661192288251379712</td>\n",
       "      <td>eita quanto tiro</td>\n",
       "      <td>1</td>\n",
       "    </tr>\n",
       "    <tr>\n",
       "      <th>36239</th>\n",
       "      <td>1661188662778814464</td>\n",
       "      <td>Tiro pra crl, que isso mano toda hora</td>\n",
       "      <td>1</td>\n",
       "    </tr>\n",
       "    <tr>\n",
       "      <th>36240</th>\n",
       "      <td>1661164264185290753</td>\n",
       "      <td>Quando eu penso em dormir cedo tem tiroteio… e...</td>\n",
       "      <td>1</td>\n",
       "    </tr>\n",
       "  </tbody>\n",
       "</table>\n",
       "<p>1909 rows × 3 columns</p>\n",
       "</div>"
      ],
      "text/plain": [
       "                        id                                               text  \\\n",
       "0      1644522101624193032                  Todo dia tiroteio gente, que issu   \n",
       "1      1644456817009762305                                  Tiro demais Jesus   \n",
       "2      1644454575208890369              Do nadaaa um tiroteio fudido que isso   \n",
       "3      1644455365046681600                                      quanto tiro 😰   \n",
       "4      1644442932286464002                                 crc tiro pra kct 🤦   \n",
       "...                    ...                                                ...   \n",
       "36235  1661336677967691777                         Muito tiro tô passando mal   \n",
       "36236  1661321502422081537      Ir trabalhar no meio do tiroteio é o fim cara   \n",
       "36238  1661192288251379712                                   eita quanto tiro   \n",
       "36239  1661188662778814464              Tiro pra crl, que isso mano toda hora   \n",
       "36240  1661164264185290753  Quando eu penso em dormir cedo tem tiroteio… e...   \n",
       "\n",
       "       label  \n",
       "0          1  \n",
       "1          1  \n",
       "2          1  \n",
       "3          1  \n",
       "4          1  \n",
       "...      ...  \n",
       "36235      1  \n",
       "36236      1  \n",
       "36238      1  \n",
       "36239      1  \n",
       "36240      1  \n",
       "\n",
       "[1909 rows x 3 columns]"
      ]
     },
     "execution_count": 8,
     "metadata": {},
     "output_type": "execute_result"
    }
   ],
   "source": [
    "test_pos = pos[cols].copy()\n",
    "\n",
    "test_pos['label'] = 1\n",
    "\n",
    "test_pos"
   ]
  },
  {
   "cell_type": "code",
   "execution_count": 9,
   "metadata": {},
   "outputs": [
    {
     "data": {
      "text/html": [
       "<div>\n",
       "<style scoped>\n",
       "    .dataframe tbody tr th:only-of-type {\n",
       "        vertical-align: middle;\n",
       "    }\n",
       "\n",
       "    .dataframe tbody tr th {\n",
       "        vertical-align: top;\n",
       "    }\n",
       "\n",
       "    .dataframe thead th {\n",
       "        text-align: right;\n",
       "    }\n",
       "</style>\n",
       "<table border=\"1\" class=\"dataframe\">\n",
       "  <thead>\n",
       "    <tr style=\"text-align: right;\">\n",
       "      <th></th>\n",
       "      <th>id</th>\n",
       "      <th>text</th>\n",
       "      <th>label</th>\n",
       "    </tr>\n",
       "  </thead>\n",
       "  <tbody>\n",
       "    <tr>\n",
       "      <th>2</th>\n",
       "      <td>1642302547108003849</td>\n",
       "      <td>Uma vez com 15a tava andando na S.Pena +- 13h ...</td>\n",
       "      <td>0</td>\n",
       "    </tr>\n",
       "    <tr>\n",
       "      <th>4</th>\n",
       "      <td>1642298712058724355</td>\n",
       "      <td>Tô com a minha auto estima tão baixa ultimamen...</td>\n",
       "      <td>0</td>\n",
       "    </tr>\n",
       "    <tr>\n",
       "      <th>6</th>\n",
       "      <td>1642298020250230786</td>\n",
       "      <td>É por isso que eu tiro pra nada , nem pra 1 real</td>\n",
       "      <td>0</td>\n",
       "    </tr>\n",
       "    <tr>\n",
       "      <th>8</th>\n",
       "      <td>1642297846501195776</td>\n",
       "      <td>19:48 e o tiro comendo solto na praça seca 😩</td>\n",
       "      <td>0</td>\n",
       "    </tr>\n",
       "    <tr>\n",
       "      <th>9</th>\n",
       "      <td>1642288647679426561</td>\n",
       "      <td>Hoje e tiro,porrada e bomba. \\nPra cima deles ...</td>\n",
       "      <td>0</td>\n",
       "    </tr>\n",
       "    <tr>\n",
       "      <th>...</th>\n",
       "      <td>...</td>\n",
       "      <td>...</td>\n",
       "      <td>...</td>\n",
       "    </tr>\n",
       "    <tr>\n",
       "      <th>9137</th>\n",
       "      <td>1653582995368935425</td>\n",
       "      <td>Foi chuva de tiro, que medo 🥺</td>\n",
       "      <td>0</td>\n",
       "    </tr>\n",
       "    <tr>\n",
       "      <th>9139</th>\n",
       "      <td>1653571114214277120</td>\n",
       "      <td>A vida do suburbano carioca é turow. Ouvimos t...</td>\n",
       "      <td>0</td>\n",
       "    </tr>\n",
       "    <tr>\n",
       "      <th>9140</th>\n",
       "      <td>1653567457708191744</td>\n",
       "      <td>A ordem é pra dar tiro e não pra recuar. \\nEss...</td>\n",
       "      <td>0</td>\n",
       "    </tr>\n",
       "    <tr>\n",
       "      <th>9143</th>\n",
       "      <td>1653562692370681859</td>\n",
       "      <td>Twitter só aparece página de gente se batendo ...</td>\n",
       "      <td>0</td>\n",
       "    </tr>\n",
       "    <tr>\n",
       "      <th>9144</th>\n",
       "      <td>1653555341496385537</td>\n",
       "      <td>Eu e meus irmão é tiro porrada e bomba, mais o...</td>\n",
       "      <td>0</td>\n",
       "    </tr>\n",
       "  </tbody>\n",
       "</table>\n",
       "<p>4815 rows × 3 columns</p>\n",
       "</div>"
      ],
      "text/plain": [
       "                       id                                               text  \\\n",
       "2     1642302547108003849  Uma vez com 15a tava andando na S.Pena +- 13h ...   \n",
       "4     1642298712058724355  Tô com a minha auto estima tão baixa ultimamen...   \n",
       "6     1642298020250230786   É por isso que eu tiro pra nada , nem pra 1 real   \n",
       "8     1642297846501195776       19:48 e o tiro comendo solto na praça seca 😩   \n",
       "9     1642288647679426561  Hoje e tiro,porrada e bomba. \\nPra cima deles ...   \n",
       "...                   ...                                                ...   \n",
       "9137  1653582995368935425                      Foi chuva de tiro, que medo 🥺   \n",
       "9139  1653571114214277120  A vida do suburbano carioca é turow. Ouvimos t...   \n",
       "9140  1653567457708191744  A ordem é pra dar tiro e não pra recuar. \\nEss...   \n",
       "9143  1653562692370681859  Twitter só aparece página de gente se batendo ...   \n",
       "9144  1653555341496385537  Eu e meus irmão é tiro porrada e bomba, mais o...   \n",
       "\n",
       "      label  \n",
       "2         0  \n",
       "4         0  \n",
       "6         0  \n",
       "8         0  \n",
       "9         0  \n",
       "...     ...  \n",
       "9137      0  \n",
       "9139      0  \n",
       "9140      0  \n",
       "9143      0  \n",
       "9144      0  \n",
       "\n",
       "[4815 rows x 3 columns]"
      ]
     },
     "execution_count": 9,
     "metadata": {},
     "output_type": "execute_result"
    }
   ],
   "source": [
    "test_neg = unlabel[cols].copy()\n",
    "\n",
    "test_neg['label'] = 0\n",
    "\n",
    "test_neg"
   ]
  },
  {
   "cell_type": "code",
   "execution_count": 10,
   "metadata": {},
   "outputs": [],
   "source": [
    "test = pd.concat([test_pos, test_neg]).reset_index(drop=True)\n",
    "\n",
    "test['text'] = test.text.apply(cleantxt)\n"
   ]
  },
  {
   "cell_type": "code",
   "execution_count": 11,
   "metadata": {},
   "outputs": [
    {
     "data": {
      "text/plain": [
       "0    4815\n",
       "1    1909\n",
       "Name: label, dtype: int64"
      ]
     },
     "execution_count": 11,
     "metadata": {},
     "output_type": "execute_result"
    }
   ],
   "source": [
    "test.label.value_counts()\n"
   ]
  },
  {
   "cell_type": "code",
   "execution_count": 12,
   "metadata": {},
   "outputs": [
    {
     "data": {
      "text/html": [
       "<div>\n",
       "<style scoped>\n",
       "    .dataframe tbody tr th:only-of-type {\n",
       "        vertical-align: middle;\n",
       "    }\n",
       "\n",
       "    .dataframe tbody tr th {\n",
       "        vertical-align: top;\n",
       "    }\n",
       "\n",
       "    .dataframe thead th {\n",
       "        text-align: right;\n",
       "    }\n",
       "</style>\n",
       "<table border=\"1\" class=\"dataframe\">\n",
       "  <thead>\n",
       "    <tr style=\"text-align: right;\">\n",
       "      <th></th>\n",
       "      <th>id</th>\n",
       "      <th>text</th>\n",
       "      <th>label</th>\n",
       "    </tr>\n",
       "  </thead>\n",
       "  <tbody>\n",
       "    <tr>\n",
       "      <th>1840</th>\n",
       "      <td>1660405075850690563</td>\n",
       "      <td>Que isso  ta rolando tiro em Niterói</td>\n",
       "      <td>1</td>\n",
       "    </tr>\n",
       "    <tr>\n",
       "      <th>5116</th>\n",
       "      <td>1614226858077487105</td>\n",
       "      <td>Tiro o Spotify boto o Youtube premium  Tiro o ...</td>\n",
       "      <td>0</td>\n",
       "    </tr>\n",
       "    <tr>\n",
       "      <th>2101</th>\n",
       "      <td>1640503547098800129</td>\n",
       "      <td>Eu tiro umas fotos que somente algumas pessoas...</td>\n",
       "      <td>0</td>\n",
       "    </tr>\n",
       "    <tr>\n",
       "      <th>4629</th>\n",
       "      <td>1618427264353587201</td>\n",
       "      <td>Um dos motivos dos meus surtos nesse fds foi e...</td>\n",
       "      <td>0</td>\n",
       "    </tr>\n",
       "    <tr>\n",
       "      <th>1509</th>\n",
       "      <td>1649056332052578308</td>\n",
       "      <td>ouvi foi nada de tiro</td>\n",
       "      <td>1</td>\n",
       "    </tr>\n",
       "    <tr>\n",
       "      <th>2850</th>\n",
       "      <td>1633666222695784449</td>\n",
       "      <td>Meu Deus mt tiro</td>\n",
       "      <td>0</td>\n",
       "    </tr>\n",
       "    <tr>\n",
       "      <th>5003</th>\n",
       "      <td>1615418117353779203</td>\n",
       "      <td>Tiro forças de onde não tem  se puder matar eu...</td>\n",
       "      <td>0</td>\n",
       "    </tr>\n",
       "    <tr>\n",
       "      <th>790</th>\n",
       "      <td>1624832903728271360</td>\n",
       "      <td>Geral curtindo o domingão  eu aguentando traba...</td>\n",
       "      <td>1</td>\n",
       "    </tr>\n",
       "    <tr>\n",
       "      <th>3107</th>\n",
       "      <td>1632420106474082307</td>\n",
       "      <td>na comida eu tiro onda  tá doido kk</td>\n",
       "      <td>0</td>\n",
       "    </tr>\n",
       "    <tr>\n",
       "      <th>3141</th>\n",
       "      <td>1632024975472316416</td>\n",
       "      <td>Tiro pra caralho pra mulher mais inteligente  ...</td>\n",
       "      <td>0</td>\n",
       "    </tr>\n",
       "  </tbody>\n",
       "</table>\n",
       "</div>"
      ],
      "text/plain": [
       "                       id                                               text  \\\n",
       "1840  1660405075850690563              Que isso  ta rolando tiro em Niterói    \n",
       "5116  1614226858077487105  Tiro o Spotify boto o Youtube premium  Tiro o ...   \n",
       "2101  1640503547098800129  Eu tiro umas fotos que somente algumas pessoas...   \n",
       "4629  1618427264353587201  Um dos motivos dos meus surtos nesse fds foi e...   \n",
       "1509  1649056332052578308                            ouvi foi nada de tiro     \n",
       "2850  1633666222695784449                                   Meu Deus mt tiro   \n",
       "5003  1615418117353779203  Tiro forças de onde não tem  se puder matar eu...   \n",
       "790   1624832903728271360  Geral curtindo o domingão  eu aguentando traba...   \n",
       "3107  1632420106474082307                na comida eu tiro onda  tá doido kk   \n",
       "3141  1632024975472316416  Tiro pra caralho pra mulher mais inteligente  ...   \n",
       "\n",
       "      label  \n",
       "1840      1  \n",
       "5116      0  \n",
       "2101      0  \n",
       "4629      0  \n",
       "1509      1  \n",
       "2850      0  \n",
       "5003      0  \n",
       "790       1  \n",
       "3107      0  \n",
       "3141      0  "
      ]
     },
     "execution_count": 12,
     "metadata": {},
     "output_type": "execute_result"
    }
   ],
   "source": [
    "test.sample(10)"
   ]
  },
  {
   "cell_type": "code",
   "execution_count": 13,
   "metadata": {},
   "outputs": [
    {
     "name": "stdout",
     "output_type": "stream",
     "text": [
      "<class 'pandas.core.frame.DataFrame'>\n",
      "RangeIndex: 6724 entries, 0 to 6723\n",
      "Data columns (total 3 columns):\n",
      " #   Column  Non-Null Count  Dtype \n",
      "---  ------  --------------  ----- \n",
      " 0   id      6724 non-null   object\n",
      " 1   text    6724 non-null   object\n",
      " 2   label   6724 non-null   int64 \n",
      "dtypes: int64(1), object(2)\n",
      "memory usage: 157.7+ KB\n"
     ]
    }
   ],
   "source": [
    "test.info()"
   ]
  },
  {
   "cell_type": "code",
   "execution_count": 14,
   "metadata": {},
   "outputs": [],
   "source": [
    "test.to_csv(test_folder + 'test_raw.csv', index=False)"
   ]
  }
 ],
 "metadata": {
  "kernelspec": {
   "display_name": ".venv",
   "language": "python",
   "name": "python3"
  },
  "language_info": {
   "codemirror_mode": {
    "name": "ipython",
    "version": 3
   },
   "file_extension": ".py",
   "mimetype": "text/x-python",
   "name": "python",
   "nbconvert_exporter": "python",
   "pygments_lexer": "ipython3",
   "version": "3.10.6"
  },
  "orig_nbformat": 4
 },
 "nbformat": 4,
 "nbformat_minor": 2
}
