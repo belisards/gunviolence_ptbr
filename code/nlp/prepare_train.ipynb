{
 "cells": [
  {
   "cell_type": "code",
   "execution_count": 1,
   "metadata": {},
   "outputs": [],
   "source": [
    "import polars as pl\n",
    "import pandas as pd\n",
    "from utils import *"
   ]
  },
  {
   "cell_type": "code",
   "execution_count": 2,
   "metadata": {},
   "outputs": [],
   "source": [
    "data_folder = '../data/'\n",
    "train_folder = data_folder + '/train/'\n",
    "\n",
    "unlabel_filename = data_folder + 'final_database/unlabel.parquet'\n",
    "positive = data_folder + 'final_database/positive.parquet'\n",
    "\n",
    "cols = ['id', 'text']"
   ]
  },
  {
   "attachments": {},
   "cell_type": "markdown",
   "metadata": {},
   "source": [
    "# Train"
   ]
  },
  {
   "attachments": {},
   "cell_type": "markdown",
   "metadata": {},
   "source": [
    "## Positive"
   ]
  },
  {
   "cell_type": "code",
   "execution_count": 3,
   "metadata": {},
   "outputs": [
    {
     "name": "stdout",
     "output_type": "stream",
     "text": [
      "Total positive tweets:  36241\n",
      "Min date:  2016-07-09 23:32:01+00:00\n",
      "Max date:  2023-05-24 19:59:20+00:00\n"
     ]
    }
   ],
   "source": [
    "pos = pd.read_parquet(positive)\n",
    "print('Total positive tweets: ', len(pos))\n",
    "pos['created_at'] = pd.to_datetime(pos['created_at'])\n",
    "pos['author_id'] = pd.to_numeric(pos['author_id'])\n",
    "# get min and max date for pos\n",
    "min_date = pos['created_at'].min()\n",
    "max_date = pos['created_at'].max()\n",
    "print('Min date: ', min_date)\n",
    "print('Max date: ', max_date)"
   ]
  },
  {
   "cell_type": "code",
   "execution_count": 4,
   "metadata": {},
   "outputs": [
    {
     "name": "stdout",
     "output_type": "stream",
     "text": [
      "After removing Fogo Cruzado tweets: (36241, 45)\n",
      "After removing duplicates texts: (33078, 45)\n",
      "After removing retweets: (33074, 45)\n",
      "After removing replies: (28404, 45)\n",
      "After removing is temporarily unavailable: (28379, 45)\n",
      "After removing @fogocruzadoapp: (28301, 45)\n",
      "After removing fogocruzado: (28280, 45)\n",
      "After removing #FogoCruzadoRJ: (26280, 45)\n",
      "Total positive tweets after deleting:  24353\n"
     ]
    }
   ],
   "source": [
    "pos = delete_tweets(pos)\n",
    "pos = pos[pos['created_at'] < '2023-01-01']\n",
    "total_pos = len(pos)\n",
    "print('Total positive tweets after deleting: ', total_pos)"
   ]
  },
  {
   "attachments": {},
   "cell_type": "markdown",
   "metadata": {},
   "source": [
    "## Negative train"
   ]
  },
  {
   "cell_type": "code",
   "execution_count": 5,
   "metadata": {},
   "outputs": [
    {
     "data": {
      "text/plain": [
       "(12803338, 9)"
      ]
     },
     "execution_count": 5,
     "metadata": {},
     "output_type": "execute_result"
    }
   ],
   "source": [
    "pl.read_parquet(unlabel_filename).shape"
   ]
  },
  {
   "cell_type": "code",
   "execution_count": 6,
   "metadata": {},
   "outputs": [
    {
     "name": "stderr",
     "output_type": "stream",
     "text": [
      "/tmp/ipykernel_74837/3045920373.py:2: ChronoFormatWarning: Detected the pattern `.%f` in the chrono format string. This pattern should not be used to parse values after a decimal point. Use `%.f` instead. See the full specification: https://docs.rs/chrono/latest/chrono/format/strftime\n",
      "  pl.col(\"created_at\").str.strptime(pl.Datetime,\n"
     ]
    },
    {
     "name": "stdout",
     "output_type": "stream",
     "text": [
      "Min date:  2020-12-05 16:31:51\n",
      "Max date:  2023-05-07 23:59:58\n"
     ]
    }
   ],
   "source": [
    "unlabel = pl.read_parquet(unlabel_filename).with_columns([\n",
    "    pl.col(\"created_at\").str.strptime(pl.Datetime,\n",
    "                                      format=\"%Y-%m-%dT%H:%M:%S.%fZ\", strict=False)\n",
    "])\n",
    "\n",
    "# print min and max date for unlabel\n",
    "min_date = unlabel['created_at'].min()\n",
    "max_date = unlabel['created_at'].max()\n",
    "print('Min date: ', min_date)\n",
    "print('Max date: ', max_date)"
   ]
  },
  {
   "cell_type": "code",
   "execution_count": null,
   "metadata": {},
   "outputs": [],
   "source": [
    "unlabel = pl.read_parquet(unlabel_filename).with_columns([\n",
    "    pl.col(\"created_at\").str.strptime(pl.Datetime,\n",
    "                                      format=\"%Y-%m-%dT%H:%M:%S.%fZ\", strict=False)\n",
    "]).filter(pl.col(\"created_at\") < pl.datetime(2023, 1, 1)).sample(fraction=.5, seed=RANDOM_STATE_SEED).to_pandas()"
   ]
  },
  {
   "cell_type": "code",
   "execution_count": 6,
   "metadata": {},
   "outputs": [
    {
     "name": "stdout",
     "output_type": "stream",
     "text": [
      "After removing Fogo Cruzado tweets: (5208454, 9)\n",
      "After removing duplicates texts: (3121062, 9)\n",
      "After removing retweets: (2874420, 9)\n",
      "After removing replies: (1639636, 9)\n",
      "After removing is temporarily unavailable: (1638210, 9)\n",
      "After removing @fogocruzadoapp: (1638205, 9)\n",
      "After removing fogocruzado: (1638183, 9)\n",
      "After removing #FogoCruzadoRJ: (1638179, 9)\n"
     ]
    }
   ],
   "source": [
    "unlabel = delete_tweets(unlabel)"
   ]
  },
  {
   "cell_type": "code",
   "execution_count": 7,
   "metadata": {},
   "outputs": [
    {
     "data": {
      "text/plain": [
       "False    1633565\n",
       "True        4614\n",
       "Name: id, dtype: int64"
      ]
     },
     "execution_count": 7,
     "metadata": {},
     "output_type": "execute_result"
    }
   ],
   "source": [
    "unlabel.id.isin(pos.id).value_counts()"
   ]
  },
  {
   "cell_type": "code",
   "execution_count": 8,
   "metadata": {},
   "outputs": [
    {
     "name": "stdout",
     "output_type": "stream",
     "text": [
      "<class 'pandas.core.frame.DataFrame'>\n",
      "Int64Index: 1633565 entries, 3 to 5208845\n",
      "Data columns (total 9 columns):\n",
      " #   Column               Non-Null Count    Dtype         \n",
      "---  ------               --------------    -----         \n",
      " 0                        1633565 non-null  object        \n",
      " 1   id                   1633565 non-null  object        \n",
      " 2   text                 1633565 non-null  object        \n",
      " 3   created_at           1633565 non-null  datetime64[ns]\n",
      " 4   url                  1633565 non-null  object        \n",
      " 5   author_id            1633565 non-null  object        \n",
      " 6   in_reply_to_user_id  0 non-null        object        \n",
      " 7   user_location        1126743 non-null  object        \n",
      " 8   geo.place_id         52435 non-null    object        \n",
      "dtypes: datetime64[ns](1), object(8)\n",
      "memory usage: 124.6+ MB\n"
     ]
    }
   ],
   "source": [
    "unlabel = unlabel[~unlabel.id.isin(pos.id)]\n",
    "\n",
    "unlabel.info()"
   ]
  },
  {
   "cell_type": "code",
   "execution_count": 9,
   "metadata": {},
   "outputs": [
    {
     "name": "stdout",
     "output_type": "stream",
     "text": [
      "<class 'pandas.core.frame.DataFrame'>\n",
      "RangeIndex: 497319 entries, 0 to 497318\n",
      "Data columns (total 9 columns):\n",
      " #   Column               Non-Null Count   Dtype         \n",
      "---  ------               --------------   -----         \n",
      " 0                        497319 non-null  object        \n",
      " 1   id                   497319 non-null  object        \n",
      " 2   text                 497319 non-null  object        \n",
      " 3   created_at           497319 non-null  datetime64[ns]\n",
      " 4   url                  497319 non-null  object        \n",
      " 5   author_id            497319 non-null  object        \n",
      " 6   in_reply_to_user_id  0 non-null       object        \n",
      " 7   user_location        0 non-null       object        \n",
      " 8   geo.place_id         0 non-null       object        \n",
      "dtypes: datetime64[ns](1), object(8)\n",
      "memory usage: 34.1+ MB\n"
     ]
    }
   ],
   "source": [
    "location_cols = ['user_location', 'geo.place_id']\n",
    "\n",
    "# filter only empty location\n",
    "unlabel = unlabel[unlabel[location_cols].isna().all(\n",
    "    axis=1)].reset_index(drop=True).copy()\n",
    "\n",
    "unlabel.info()"
   ]
  },
  {
   "cell_type": "code",
   "execution_count": 10,
   "metadata": {},
   "outputs": [
    {
     "name": "stdout",
     "output_type": "stream",
     "text": [
      "<class 'pandas.core.frame.DataFrame'>\n",
      "RangeIndex: 73059 entries, 0 to 73058\n",
      "Data columns (total 9 columns):\n",
      " #   Column               Non-Null Count  Dtype         \n",
      "---  ------               --------------  -----         \n",
      " 0                        73059 non-null  object        \n",
      " 1   id                   73059 non-null  object        \n",
      " 2   text                 73059 non-null  object        \n",
      " 3   created_at           73059 non-null  datetime64[ns]\n",
      " 4   url                  73059 non-null  object        \n",
      " 5   author_id            73059 non-null  object        \n",
      " 6   in_reply_to_user_id  0 non-null      object        \n",
      " 7   user_location        0 non-null      object        \n",
      " 8   geo.place_id         0 non-null      object        \n",
      "dtypes: datetime64[ns](1), object(8)\n",
      "memory usage: 5.0+ MB\n"
     ]
    }
   ],
   "source": [
    "# sample tweets\n",
    "unlabel = unlabel.sample(n=total_pos*3, random_state=RANDOM_STATE_SEED).reset_index(drop=True).copy()\n",
    "\n",
    "unlabel.info()"
   ]
  },
  {
   "attachments": {},
   "cell_type": "markdown",
   "metadata": {},
   "source": [
    "## Merge train"
   ]
  },
  {
   "cell_type": "code",
   "execution_count": 11,
   "metadata": {},
   "outputs": [
    {
     "data": {
      "text/html": [
       "<div>\n",
       "<style scoped>\n",
       "    .dataframe tbody tr th:only-of-type {\n",
       "        vertical-align: middle;\n",
       "    }\n",
       "\n",
       "    .dataframe tbody tr th {\n",
       "        vertical-align: top;\n",
       "    }\n",
       "\n",
       "    .dataframe thead th {\n",
       "        text-align: right;\n",
       "    }\n",
       "</style>\n",
       "<table border=\"1\" class=\"dataframe\">\n",
       "  <thead>\n",
       "    <tr style=\"text-align: right;\">\n",
       "      <th></th>\n",
       "      <th>id</th>\n",
       "      <th>text</th>\n",
       "      <th>label</th>\n",
       "    </tr>\n",
       "  </thead>\n",
       "  <tbody>\n",
       "    <tr>\n",
       "      <th>966</th>\n",
       "      <td>1569648211488346114</td>\n",
       "      <td>Tá tudo dominado no Grande Rio: a milícia quin...</td>\n",
       "      <td>1</td>\n",
       "    </tr>\n",
       "    <tr>\n",
       "      <th>967</th>\n",
       "      <td>1555601122349424640</td>\n",
       "      <td>Teve muito tiroteio no Campinho e Cascadura no...</td>\n",
       "      <td>1</td>\n",
       "    </tr>\n",
       "    <tr>\n",
       "      <th>1618</th>\n",
       "      <td>1609332609091358729</td>\n",
       "      <td>Tiroteio começando, a treta vindo, todo mundo ...</td>\n",
       "      <td>1</td>\n",
       "    </tr>\n",
       "    <tr>\n",
       "      <th>1619</th>\n",
       "      <td>1609323695796797441</td>\n",
       "      <td>Toma-lhe tiro pro alto, munição infinita meus ...</td>\n",
       "      <td>1</td>\n",
       "    </tr>\n",
       "    <tr>\n",
       "      <th>1620</th>\n",
       "      <td>1609314236907376643</td>\n",
       "      <td>É fogos, é chuva, é tiro, é trovão, fechando o...</td>\n",
       "      <td>1</td>\n",
       "    </tr>\n",
       "    <tr>\n",
       "      <th>...</th>\n",
       "      <td>...</td>\n",
       "      <td>...</td>\n",
       "      <td>...</td>\n",
       "    </tr>\n",
       "    <tr>\n",
       "      <th>35584</th>\n",
       "      <td>816792652263936001</td>\n",
       "      <td>PM morre e duas pessoas são baleadas em assalt...</td>\n",
       "      <td>1</td>\n",
       "    </tr>\n",
       "    <tr>\n",
       "      <th>35586</th>\n",
       "      <td>816731693247844358</td>\n",
       "      <td>Só hj 3 pessoas foram baleadas no #ComplexoDoA...</td>\n",
       "      <td>1</td>\n",
       "    </tr>\n",
       "    <tr>\n",
       "      <th>35587</th>\n",
       "      <td>816703992310984704</td>\n",
       "      <td>Um policial foi baleado na #Fazendinha, no #Co...</td>\n",
       "      <td>1</td>\n",
       "    </tr>\n",
       "    <tr>\n",
       "      <th>35590</th>\n",
       "      <td>804036809156132867</td>\n",
       "      <td>Entre 22 e 26.11, #Caxias foi a área que mais ...</td>\n",
       "      <td>1</td>\n",
       "    </tr>\n",
       "    <tr>\n",
       "      <th>35591</th>\n",
       "      <td>801361166056517633</td>\n",
       "      <td>A polícia arrombou 3 apartamentos no mesmo and...</td>\n",
       "      <td>1</td>\n",
       "    </tr>\n",
       "  </tbody>\n",
       "</table>\n",
       "<p>24353 rows × 3 columns</p>\n",
       "</div>"
      ],
      "text/plain": [
       "                        id                                               text  \\\n",
       "966    1569648211488346114  Tá tudo dominado no Grande Rio: a milícia quin...   \n",
       "967    1555601122349424640  Teve muito tiroteio no Campinho e Cascadura no...   \n",
       "1618   1609332609091358729  Tiroteio começando, a treta vindo, todo mundo ...   \n",
       "1619   1609323695796797441  Toma-lhe tiro pro alto, munição infinita meus ...   \n",
       "1620   1609314236907376643  É fogos, é chuva, é tiro, é trovão, fechando o...   \n",
       "...                    ...                                                ...   \n",
       "35584   816792652263936001  PM morre e duas pessoas são baleadas em assalt...   \n",
       "35586   816731693247844358  Só hj 3 pessoas foram baleadas no #ComplexoDoA...   \n",
       "35587   816703992310984704  Um policial foi baleado na #Fazendinha, no #Co...   \n",
       "35590   804036809156132867  Entre 22 e 26.11, #Caxias foi a área que mais ...   \n",
       "35591   801361166056517633  A polícia arrombou 3 apartamentos no mesmo and...   \n",
       "\n",
       "       label  \n",
       "966        1  \n",
       "967        1  \n",
       "1618       1  \n",
       "1619       1  \n",
       "1620       1  \n",
       "...      ...  \n",
       "35584      1  \n",
       "35586      1  \n",
       "35587      1  \n",
       "35590      1  \n",
       "35591      1  \n",
       "\n",
       "[24353 rows x 3 columns]"
      ]
     },
     "execution_count": 11,
     "metadata": {},
     "output_type": "execute_result"
    }
   ],
   "source": [
    "train_pos = pos[cols].copy()\n",
    "\n",
    "train_pos['label'] = 1\n",
    "\n",
    "train_pos"
   ]
  },
  {
   "cell_type": "code",
   "execution_count": 12,
   "metadata": {},
   "outputs": [
    {
     "data": {
      "text/html": [
       "<div>\n",
       "<style scoped>\n",
       "    .dataframe tbody tr th:only-of-type {\n",
       "        vertical-align: middle;\n",
       "    }\n",
       "\n",
       "    .dataframe tbody tr th {\n",
       "        vertical-align: top;\n",
       "    }\n",
       "\n",
       "    .dataframe thead th {\n",
       "        text-align: right;\n",
       "    }\n",
       "</style>\n",
       "<table border=\"1\" class=\"dataframe\">\n",
       "  <thead>\n",
       "    <tr style=\"text-align: right;\">\n",
       "      <th></th>\n",
       "      <th>id</th>\n",
       "      <th>text</th>\n",
       "      <th>label</th>\n",
       "    </tr>\n",
       "  </thead>\n",
       "  <tbody>\n",
       "    <tr>\n",
       "      <th>0</th>\n",
       "      <td>1409001088074891264</td>\n",
       "      <td>meu deus eu prefiro um tiro do que viver essa ...</td>\n",
       "      <td>0</td>\n",
       "    </tr>\n",
       "    <tr>\n",
       "      <th>1</th>\n",
       "      <td>1607742659275198465</td>\n",
       "      <td>não consigo fazer um dump do mês pq eu não tir...</td>\n",
       "      <td>0</td>\n",
       "    </tr>\n",
       "    <tr>\n",
       "      <th>2</th>\n",
       "      <td>1563282433063018503</td>\n",
       "      <td>hoje eu tô mais perdido que cego em tiroteio p...</td>\n",
       "      <td>0</td>\n",
       "    </tr>\n",
       "    <tr>\n",
       "      <th>3</th>\n",
       "      <td>1456641025397645312</td>\n",
       "      <td>Coloco óculos meus olhos doem, tiro meus olhos...</td>\n",
       "      <td>0</td>\n",
       "    </tr>\n",
       "    <tr>\n",
       "      <th>4</th>\n",
       "      <td>1418699717790375936</td>\n",
       "      <td>Homem morre no HUT após ser baleado com vários...</td>\n",
       "      <td>0</td>\n",
       "    </tr>\n",
       "    <tr>\n",
       "      <th>...</th>\n",
       "      <td>...</td>\n",
       "      <td>...</td>\n",
       "      <td>...</td>\n",
       "    </tr>\n",
       "    <tr>\n",
       "      <th>73054</th>\n",
       "      <td>1603553920680435712</td>\n",
       "      <td>essa frase ta na minha bio do insta e eu nao t...</td>\n",
       "      <td>0</td>\n",
       "    </tr>\n",
       "    <tr>\n",
       "      <th>73055</th>\n",
       "      <td>1349169579164102659</td>\n",
       "      <td>Troca tiro sendo frio e calculista, MAJOR JÁ É...</td>\n",
       "      <td>0</td>\n",
       "    </tr>\n",
       "    <tr>\n",
       "      <th>73056</th>\n",
       "      <td>1433212455493242881</td>\n",
       "      <td>Graças a deus essa chata me tiro do cf dela</td>\n",
       "      <td>0</td>\n",
       "    </tr>\n",
       "    <tr>\n",
       "      <th>73057</th>\n",
       "      <td>1575783634358874113</td>\n",
       "      <td>ve la se sou louca de levar tiro na rua vou to...</td>\n",
       "      <td>0</td>\n",
       "    </tr>\n",
       "    <tr>\n",
       "      <th>73058</th>\n",
       "      <td>1584673283718275072</td>\n",
       "      <td>Silenciei a @naturabroficial porque não teve u...</td>\n",
       "      <td>0</td>\n",
       "    </tr>\n",
       "  </tbody>\n",
       "</table>\n",
       "<p>73059 rows × 3 columns</p>\n",
       "</div>"
      ],
      "text/plain": [
       "                        id                                               text  \\\n",
       "0      1409001088074891264  meu deus eu prefiro um tiro do que viver essa ...   \n",
       "1      1607742659275198465  não consigo fazer um dump do mês pq eu não tir...   \n",
       "2      1563282433063018503  hoje eu tô mais perdido que cego em tiroteio p...   \n",
       "3      1456641025397645312  Coloco óculos meus olhos doem, tiro meus olhos...   \n",
       "4      1418699717790375936  Homem morre no HUT após ser baleado com vários...   \n",
       "...                    ...                                                ...   \n",
       "73054  1603553920680435712  essa frase ta na minha bio do insta e eu nao t...   \n",
       "73055  1349169579164102659  Troca tiro sendo frio e calculista, MAJOR JÁ É...   \n",
       "73056  1433212455493242881        Graças a deus essa chata me tiro do cf dela   \n",
       "73057  1575783634358874113  ve la se sou louca de levar tiro na rua vou to...   \n",
       "73058  1584673283718275072  Silenciei a @naturabroficial porque não teve u...   \n",
       "\n",
       "       label  \n",
       "0          0  \n",
       "1          0  \n",
       "2          0  \n",
       "3          0  \n",
       "4          0  \n",
       "...      ...  \n",
       "73054      0  \n",
       "73055      0  \n",
       "73056      0  \n",
       "73057      0  \n",
       "73058      0  \n",
       "\n",
       "[73059 rows x 3 columns]"
      ]
     },
     "execution_count": 12,
     "metadata": {},
     "output_type": "execute_result"
    }
   ],
   "source": [
    "train_neg = unlabel[cols].copy()\n",
    "\n",
    "train_neg['label'] = 0\n",
    "\n",
    "train_neg"
   ]
  },
  {
   "cell_type": "code",
   "execution_count": 4,
   "metadata": {},
   "outputs": [
    {
     "data": {
      "text/plain": [
       "97412"
      ]
     },
     "execution_count": 4,
     "metadata": {},
     "output_type": "execute_result"
    }
   ],
   "source": [
    "24353+73059"
   ]
  },
  {
   "cell_type": "code",
   "execution_count": 13,
   "metadata": {},
   "outputs": [],
   "source": [
    "train = pd.concat([train_pos, train_neg]).reset_index(drop=True)\n",
    "\n",
    "train['text'] = train.text.apply(cleantxt)"
   ]
  },
  {
   "cell_type": "code",
   "execution_count": 14,
   "metadata": {},
   "outputs": [
    {
     "data": {
      "text/plain": [
       "label\n",
       "0    0.75\n",
       "1    0.25\n",
       "dtype: float64"
      ]
     },
     "execution_count": 14,
     "metadata": {},
     "output_type": "execute_result"
    }
   ],
   "source": [
    "train.value_counts('label', normalize=True)"
   ]
  },
  {
   "cell_type": "code",
   "execution_count": 15,
   "metadata": {},
   "outputs": [
    {
     "data": {
      "text/html": [
       "<div>\n",
       "<style scoped>\n",
       "    .dataframe tbody tr th:only-of-type {\n",
       "        vertical-align: middle;\n",
       "    }\n",
       "\n",
       "    .dataframe tbody tr th {\n",
       "        vertical-align: top;\n",
       "    }\n",
       "\n",
       "    .dataframe thead th {\n",
       "        text-align: right;\n",
       "    }\n",
       "</style>\n",
       "<table border=\"1\" class=\"dataframe\">\n",
       "  <thead>\n",
       "    <tr style=\"text-align: right;\">\n",
       "      <th></th>\n",
       "      <th>id</th>\n",
       "      <th>text</th>\n",
       "      <th>label</th>\n",
       "    </tr>\n",
       "  </thead>\n",
       "  <tbody>\n",
       "    <tr>\n",
       "      <th>44909</th>\n",
       "      <td>1495610575270862853</td>\n",
       "      <td>Eu nunca voto em paredão mas nesse aí eu vou v...</td>\n",
       "      <td>0</td>\n",
       "    </tr>\n",
       "    <tr>\n",
       "      <th>47914</th>\n",
       "      <td>1541535442859921408</td>\n",
       "      <td>Escolher Braga Neto como vice só comprova o ta...</td>\n",
       "      <td>0</td>\n",
       "    </tr>\n",
       "    <tr>\n",
       "      <th>11690</th>\n",
       "      <td>1382156161898713089</td>\n",
       "      <td>Do nada deram muito tiro aqui perto de casa  m...</td>\n",
       "      <td>1</td>\n",
       "    </tr>\n",
       "    <tr>\n",
       "      <th>37153</th>\n",
       "      <td>1385429280180654082</td>\n",
       "      <td>É fogos ou tiro essa porra  Kkkkk</td>\n",
       "      <td>0</td>\n",
       "    </tr>\n",
       "    <tr>\n",
       "      <th>69780</th>\n",
       "      <td>1533894992086896641</td>\n",
       "      <td>amo vê foto das pessoas sorrindo  mas ao mesmo...</td>\n",
       "      <td>0</td>\n",
       "    </tr>\n",
       "    <tr>\n",
       "      <th>35988</th>\n",
       "      <td>1556144961397170176</td>\n",
       "      <td>Não tem nada melhor que tá na paz consigo mesm...</td>\n",
       "      <td>0</td>\n",
       "    </tr>\n",
       "    <tr>\n",
       "      <th>17545</th>\n",
       "      <td>1196473253252026369</td>\n",
       "      <td>Só Jesus cara  tô acabei de ouvir tiro e tô so...</td>\n",
       "      <td>1</td>\n",
       "    </tr>\n",
       "    <tr>\n",
       "      <th>33035</th>\n",
       "      <td>1496860111633014785</td>\n",
       "      <td>Só os sonhos q me faz acordar querendo levar u...</td>\n",
       "      <td>0</td>\n",
       "    </tr>\n",
       "    <tr>\n",
       "      <th>44176</th>\n",
       "      <td>1574521324931801100</td>\n",
       "      <td>qnd o gringo me chama de babe eu fico toda fel...</td>\n",
       "      <td>0</td>\n",
       "    </tr>\n",
       "    <tr>\n",
       "      <th>49343</th>\n",
       "      <td>1337937777061732352</td>\n",
       "      <td>Matheus Carrieri deu um tiro no próprio pé  mo...</td>\n",
       "      <td>0</td>\n",
       "    </tr>\n",
       "  </tbody>\n",
       "</table>\n",
       "</div>"
      ],
      "text/plain": [
       "                        id                                               text  \\\n",
       "44909  1495610575270862853  Eu nunca voto em paredão mas nesse aí eu vou v...   \n",
       "47914  1541535442859921408  Escolher Braga Neto como vice só comprova o ta...   \n",
       "11690  1382156161898713089  Do nada deram muito tiro aqui perto de casa  m...   \n",
       "37153  1385429280180654082                  É fogos ou tiro essa porra  Kkkkk   \n",
       "69780  1533894992086896641  amo vê foto das pessoas sorrindo  mas ao mesmo...   \n",
       "35988  1556144961397170176  Não tem nada melhor que tá na paz consigo mesm...   \n",
       "17545  1196473253252026369  Só Jesus cara  tô acabei de ouvir tiro e tô so...   \n",
       "33035  1496860111633014785  Só os sonhos q me faz acordar querendo levar u...   \n",
       "44176  1574521324931801100  qnd o gringo me chama de babe eu fico toda fel...   \n",
       "49343  1337937777061732352  Matheus Carrieri deu um tiro no próprio pé  mo...   \n",
       "\n",
       "       label  \n",
       "44909      0  \n",
       "47914      0  \n",
       "11690      1  \n",
       "37153      0  \n",
       "69780      0  \n",
       "35988      0  \n",
       "17545      1  \n",
       "33035      0  \n",
       "44176      0  \n",
       "49343      0  "
      ]
     },
     "execution_count": 15,
     "metadata": {},
     "output_type": "execute_result"
    }
   ],
   "source": [
    "train.sample(10)"
   ]
  },
  {
   "cell_type": "code",
   "execution_count": 16,
   "metadata": {},
   "outputs": [],
   "source": [
    "train.to_csv(train_folder + 'train.csv', index=False)"
   ]
  }
 ],
 "metadata": {
  "kernelspec": {
   "display_name": ".venv",
   "language": "python",
   "name": "python3"
  },
  "language_info": {
   "codemirror_mode": {
    "name": "ipython",
    "version": 3
   },
   "file_extension": ".py",
   "mimetype": "text/x-python",
   "name": "python",
   "nbconvert_exporter": "python",
   "pygments_lexer": "ipython3",
   "version": "3.10.6"
  },
  "orig_nbformat": 4
 },
 "nbformat": 4,
 "nbformat_minor": 2
}
