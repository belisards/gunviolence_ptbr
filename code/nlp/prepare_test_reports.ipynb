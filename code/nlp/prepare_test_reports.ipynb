{
 "cells": [
  {
   "cell_type": "code",
   "execution_count": 1,
   "metadata": {},
   "outputs": [],
   "source": [
    "import pandas as pd\n",
    "from utils import *"
   ]
  },
  {
   "cell_type": "code",
   "execution_count": 2,
   "metadata": {},
   "outputs": [],
   "source": [
    "datafolder = '../data/final_database/'\n",
    "testfolder = '../data/test/'\n",
    "extension = '.parquet'\n",
    "positive_file = datafolder + 'positive' + extension\n",
    "combined_search = datafolder + 'combined_search' + extension\n",
    "\n",
    "cols = ['id','text','created_at','url']"
   ]
  },
  {
   "attachments": {},
   "cell_type": "markdown",
   "metadata": {},
   "source": [
    "# Load datasets"
   ]
  },
  {
   "cell_type": "code",
   "execution_count": 3,
   "metadata": {},
   "outputs": [],
   "source": [
    "posdf = pd.read_parquet(positive_file)\n",
    "unlabel = pd.read_parquet(combined_search)"
   ]
  },
  {
   "cell_type": "code",
   "execution_count": 6,
   "metadata": {},
   "outputs": [
    {
     "name": "stdout",
     "output_type": "stream",
     "text": [
      "Min date:  2016-10-31 00:03:34+00:00\n",
      "Max date:  2023-05-07 23:00:46+00:00\n",
      "(319114, 45)\n"
     ]
    }
   ],
   "source": [
    "unlabel['created_at'] = pd.to_datetime(unlabel['created_at'])\n",
    "\n",
    "# print min and max dates\n",
    "print('Min date: ', unlabel['created_at'].min())\n",
    "print('Max date: ', unlabel['created_at'].max())\n",
    "print(unlabel.shape)"
   ]
  },
  {
   "attachments": {},
   "cell_type": "markdown",
   "metadata": {},
   "source": [
    "# Filter entries"
   ]
  },
  {
   "cell_type": "code",
   "execution_count": 20,
   "metadata": {},
   "outputs": [],
   "source": [
    "def delete_tweets(df):\n",
    "    print('Initial shape:', df.shape)\n",
    "    df = df[df['author_id'] != fogocruzado_id]\n",
    "    print('After removing Fogo Cruzado tweets:', df.shape)\n",
    "    # remove duplicates\n",
    "    df = df.drop_duplicates(subset=['text'])\n",
    "    print('After removing duplicates texts:', df.shape)\n",
    "    print('Before removing replies:', df.shape)\n",
    "    df = df[df['in_reply_to_user_id'].isnull()]\n",
    "    print('After removing replies:', df.shape)\n",
    "    remove_txts = ['is temporarily unavailable','@fogocruzadoapp','fogocruzado','#FogoCruzadoRJ']\n",
    "\n",
    "    for txt in remove_txts:\n",
    "        df = df[~df['text'].str.contains(txt)]\n",
    "        # df['entities.urls'] = df['entities.urls'].astype(str)\n",
    "        # df = df[~df['entities.urls'].str.contains(txt)]\n",
    "        print(f'After removing {txt}:', df.shape)\n",
    "    \n",
    "    return df\n",
    "\n",
    "def set_asdatime(df,col):\n",
    "    df[col] = pd.to_datetime(df[col])\n",
    "    return df\n",
    "\n",
    "def process_dataset(df):\n",
    "    df = delete_tweets(df)\n",
    "    df = set_asdatime(df,'created_at')\n",
    "    df = df[cols]\n",
    "    return df"
   ]
  },
  {
   "cell_type": "code",
   "execution_count": 21,
   "metadata": {},
   "outputs": [
    {
     "name": "stdout",
     "output_type": "stream",
     "text": [
      "Initial shape: (36241, 45)\n",
      "After removing Fogo Cruzado tweets: (31632, 45)\n",
      "After removing duplicates texts: (28661, 45)\n",
      "Before removing replies: (28661, 45)\n",
      "After removing replies: (26084, 45)\n",
      "After removing is temporarily unavailable: (26059, 45)\n",
      "After removing @fogocruzadoapp: (25981, 45)\n",
      "After removing fogocruzado: (25980, 45)\n",
      "After removing #FogoCruzadoRJ: (25978, 45)\n"
     ]
    }
   ],
   "source": [
    "posdf = process_dataset(posdf)[cols]"
   ]
  },
  {
   "cell_type": "code",
   "execution_count": 23,
   "metadata": {},
   "outputs": [
    {
     "name": "stdout",
     "output_type": "stream",
     "text": [
      "Initial shape: (319114, 45)\n",
      "After removing Fogo Cruzado tweets: (261410, 45)\n",
      "After removing duplicates texts: (250176, 45)\n",
      "Before removing replies: (250176, 45)\n",
      "After removing replies: (207344, 45)\n",
      "After removing is temporarily unavailable: (207270, 45)\n",
      "After removing @fogocruzadoapp: (207238, 45)\n",
      "After removing fogocruzado: (207238, 45)\n",
      "After removing #FogoCruzadoRJ: (207233, 45)\n"
     ]
    }
   ],
   "source": [
    "unlabel = process_dataset(unlabel)[cols]"
   ]
  },
  {
   "attachments": {},
   "cell_type": "markdown",
   "metadata": {},
   "source": [
    "# Delete duplicates"
   ]
  },
  {
   "cell_type": "code",
   "execution_count": 24,
   "metadata": {},
   "outputs": [],
   "source": [
    "# delete tweets from unlabel that are in posdf\n",
    "unlabel = unlabel[~unlabel['id'].isin(posdf['id'])]"
   ]
  },
  {
   "attachments": {},
   "cell_type": "markdown",
   "metadata": {},
   "source": [
    "# Join datasets"
   ]
  },
  {
   "cell_type": "code",
   "execution_count": 25,
   "metadata": {},
   "outputs": [
    {
     "data": {
      "text/plain": [
       "label\n",
       "-1    0.886859\n",
       " 1    0.113141\n",
       "dtype: float64"
      ]
     },
     "execution_count": 25,
     "metadata": {},
     "output_type": "execute_result"
    }
   ],
   "source": [
    "posdf['label'] = 1\n",
    "unlabel['label'] = -1\n",
    "\n",
    "df = pd.concat([posdf,unlabel])\n",
    "\n",
    "df.value_counts('label',normalize=True)"
   ]
  },
  {
   "attachments": {},
   "cell_type": "markdown",
   "metadata": {},
   "source": [
    "# Plot total per month"
   ]
  },
  {
   "cell_type": "code",
   "execution_count": 26,
   "metadata": {},
   "outputs": [
    {
     "name": "stderr",
     "output_type": "stream",
     "text": [
      "/tmp/ipykernel_107940/956888619.py:3: UserWarning: Converting to PeriodArray/Index representation will drop timezone information.\n",
      "  df.groupby(df['created_at'].dt.to_period('M')).count()['id'].plot(kind='bar')\n"
     ]
    },
    {
     "data": {
      "text/plain": [
       "<Axes: xlabel='created_at'>"
      ]
     },
     "execution_count": 26,
     "metadata": {},
     "output_type": "execute_result"
    },
    {
     "data": {
      "image/png": "[encoded data removed]",
      "text/plain": [
       "<Figure size 640x480 with 1 Axes>"
      ]
     },
     "metadata": {},
     "output_type": "display_data"
    }
   ],
   "source": [
    "# group by month and count tweets\n",
    "\n",
    "df.groupby(df['created_at'].dt.to_period('M')).count()['id'].plot(kind='bar')\n"
   ]
  },
  {
   "attachments": {},
   "cell_type": "markdown",
   "metadata": {},
   "source": [
    "# Filter only 2023"
   ]
  },
  {
   "cell_type": "code",
   "execution_count": 27,
   "metadata": {},
   "outputs": [
    {
     "name": "stderr",
     "output_type": "stream",
     "text": [
      "/tmp/ipykernel_107940/4231050707.py:5: UserWarning: Converting to PeriodArray/Index representation will drop timezone information.\n",
      "  test.groupby(test['created_at'].dt.to_period('M')).count()['id'].plot(kind='bar')\n"
     ]
    },
    {
     "data": {
      "text/plain": [
       "<Axes: xlabel='created_at'>"
      ]
     },
     "execution_count": 27,
     "metadata": {},
     "output_type": "execute_result"
    },
    {
     "data": {
      "image/png": "[encoded data removed]",
      "text/plain": [
       "<Figure size 640x480 with 1 Axes>"
      ]
     },
     "metadata": {},
     "output_type": "display_data"
    }
   ],
   "source": [
    "# filter only April 2023\n",
    "\n",
    "test = df[df['created_at'].dt.year == 2023]\n",
    "\n",
    "test.groupby(test['created_at'].dt.to_period('M')).count()['id'].plot(kind='bar')"
   ]
  },
  {
   "cell_type": "code",
   "execution_count": 28,
   "metadata": {},
   "outputs": [
    {
     "name": "stdout",
     "output_type": "stream",
     "text": [
      "<class 'pandas.core.frame.DataFrame'>\n",
      "Int64Index: 1211 entries, 0 to 46\n",
      "Data columns (total 5 columns):\n",
      " #   Column      Non-Null Count  Dtype              \n",
      "---  ------      --------------  -----              \n",
      " 0   id          1211 non-null   object             \n",
      " 1   text        1211 non-null   object             \n",
      " 2   created_at  1211 non-null   datetime64[ns, UTC]\n",
      " 3   url         1211 non-null   object             \n",
      " 4   label       1211 non-null   int64              \n",
      "dtypes: datetime64[ns, UTC](1), int64(1), object(3)\n",
      "memory usage: 56.8+ KB\n"
     ]
    }
   ],
   "source": [
    "# filter only msgs after April 2023\n",
    "\n",
    "test = test[test['created_at'].dt.month == 4]\n",
    "\n",
    "test.info()"
   ]
  },
  {
   "cell_type": "code",
   "execution_count": 30,
   "metadata": {},
   "outputs": [],
   "source": [
    "test.to_csv(testfolder + 'test_raw.csv',index=False)"
   ]
  }
 ],
 "metadata": {
  "kernelspec": {
   "display_name": ".venv",
   "language": "python",
   "name": "python3"
  },
  "language_info": {
   "codemirror_mode": {
    "name": "ipython",
    "version": 3
   },
   "file_extension": ".py",
   "mimetype": "text/x-python",
   "name": "python",
   "nbconvert_exporter": "python",
   "pygments_lexer": "ipython3",
   "version": "3.10.6"
  },
  "orig_nbformat": 4
 },
 "nbformat": 4,
 "nbformat_minor": 2
}
