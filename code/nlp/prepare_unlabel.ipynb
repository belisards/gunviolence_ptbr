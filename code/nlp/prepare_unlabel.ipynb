{
 "cells": [
  {
   "cell_type": "code",
   "execution_count": 1,
   "metadata": {},
   "outputs": [],
   "source": [
    "import polars as pl\n",
    "import pandas as pd\n",
    "from utils import *"
   ]
  },
  {
   "cell_type": "code",
   "execution_count": 2,
   "metadata": {},
   "outputs": [],
   "source": [
    "data_folder = '../data/'\n",
    "train_folder = data_folder + '/train/'\n",
    "test_folder = data_folder + '/test/'\n"
   ]
  },
  {
   "attachments": {},
   "cell_type": "markdown",
   "metadata": {},
   "source": [
    "# Get IDs of tweets used for train/test"
   ]
  },
  {
   "cell_type": "code",
   "execution_count": 3,
   "metadata": {},
   "outputs": [],
   "source": [
    "positive = data_folder + 'final_database/positive.parquet'\n",
    "\n",
    "positive = pl.read_parquet(positive)\n",
    "\n",
    "pos_ids = positive['id'].to_list()"
   ]
  },
  {
   "cell_type": "code",
   "execution_count": 4,
   "metadata": {},
   "outputs": [],
   "source": [
    "trainfile = data_folder + 'train/train.csv'\n",
    "testfolder = '../data/test/'\n",
    "\n",
    "train = pd.read_csv(trainfile)\n",
    "\n",
    "train_ids = train['id'].to_list()"
   ]
  },
  {
   "cell_type": "code",
   "execution_count": 5,
   "metadata": {},
   "outputs": [],
   "source": [
    "testfile = testfolder + 'test_raw.csv'\n",
    "\n",
    "test = pd.read_csv(testfile)\n",
    "\n",
    "test_ids = test['id'].to_list()"
   ]
  },
  {
   "cell_type": "code",
   "execution_count": 6,
   "metadata": {},
   "outputs": [],
   "source": [
    "testunlabelfile = testfolder + 'test_unlabel.csv'\n",
    "\n",
    "testunlabel = pd.read_csv(testunlabelfile)\n",
    "\n",
    "testunlabel_ids = testunlabel['id'].to_list()"
   ]
  },
  {
   "cell_type": "code",
   "execution_count": 7,
   "metadata": {},
   "outputs": [],
   "source": [
    "ids_to_delete = pos_ids + train_ids + test_ids + testunlabel_ids"
   ]
  },
  {
   "attachments": {},
   "cell_type": "markdown",
   "metadata": {},
   "source": [
    "# Get unlabeled data"
   ]
  },
  {
   "cell_type": "code",
   "execution_count": 8,
   "metadata": {},
   "outputs": [
    {
     "name": "stderr",
     "output_type": "stream",
     "text": [
      "/tmp/ipykernel_18313/438098856.py:3: ChronoFormatWarning: Detected the pattern `.%f` in the chrono format string. This pattern should not be used to parse values after a decimal point. Use `%.f` instead. See the full specification: https://docs.rs/chrono/latest/chrono/format/strftime\n",
      "  pl.col(\"created_at\").str.strptime(pl.Datetime,\n"
     ]
    },
    {
     "data": {
      "text/plain": [
       "309967"
      ]
     },
     "execution_count": 8,
     "metadata": {},
     "output_type": "execute_result"
    }
   ],
   "source": [
    "unlabel_filename = data_folder + 'final_database/combined_search.parquet'\n",
    "unlabel = pl.read_parquet(unlabel_filename).with_columns([\n",
    "    pl.col(\"created_at\").str.strptime(pl.Datetime,\n",
    "                                      format=\"%Y-%m-%dT%H:%M:%S.%fZ\", strict=False)\n",
    "]).filter(pl.col(\"created_at\") < pl.datetime(2023, 1, 1)).to_pandas()\n",
    "len(unlabel)"
   ]
  },
  {
   "cell_type": "code",
   "execution_count": 9,
   "metadata": {},
   "outputs": [
    {
     "data": {
      "text/plain": [
       "304078"
      ]
     },
     "execution_count": 9,
     "metadata": {},
     "output_type": "execute_result"
    }
   ],
   "source": [
    "unlabel = unlabel[~unlabel['id'].isin(ids_to_delete)]\n",
    "\n",
    "len(unlabel)"
   ]
  },
  {
   "cell_type": "code",
   "execution_count": 10,
   "metadata": {},
   "outputs": [
    {
     "name": "stdout",
     "output_type": "stream",
     "text": [
      "After removing Fogo Cruzado tweets: (250716, 46)\n",
      "After removing duplicates texts: (240211, 46)\n",
      "After removing retweets: (240204, 46)\n",
      "After removing replies: (199122, 46)\n",
      "After removing is temporarily unavailable: (199050, 46)\n",
      "After removing @fogocruzadoapp: (199020, 46)\n",
      "After removing fogocruzado: (199020, 46)\n",
      "After removing #FogoCruzadoRJ: (199015, 46)\n"
     ]
    }
   ],
   "source": [
    "unlabel = delete_tweets(unlabel)"
   ]
  },
  {
   "cell_type": "code",
   "execution_count": 11,
   "metadata": {},
   "outputs": [
    {
     "name": "stdout",
     "output_type": "stream",
     "text": [
      "<class 'pandas.core.frame.DataFrame'>\n",
      "Int64Index: 199015 entries, 0 to 309966\n",
      "Data columns (total 46 columns):\n",
      " #   Column                           Non-Null Count   Dtype         \n",
      "---  ------                           --------------   -----         \n",
      " 0   author_id                        199015 non-null  object        \n",
      " 1   conversation_id                  199015 non-null  object        \n",
      " 2   created_at                       199015 non-null  datetime64[ns]\n",
      " 3   edit_history_tweet_ids           199015 non-null  object        \n",
      " 4   id                               199015 non-null  object        \n",
      " 5   in_reply_to_user_id              0 non-null       object        \n",
      " 6   lang                             199015 non-null  object        \n",
      " 7   possibly_sensitive               199015 non-null  bool          \n",
      " 8   referenced_tweets                16142 non-null   object        \n",
      " 9   text                             199015 non-null  object        \n",
      " 10  entities.mentions                3700 non-null    object        \n",
      " 11  public_metrics.impression_count  199015 non-null  int64         \n",
      " 12  public_metrics.like_count        199015 non-null  int64         \n",
      " 13  public_metrics.quote_count       199015 non-null  int64         \n",
      " 14  public_metrics.reply_count       199015 non-null  int64         \n",
      " 15  public_metrics.retweet_count     199015 non-null  int64         \n",
      " 16  entities.urls                    37757 non-null   object        \n",
      " 17  geo.place_id                     196615 non-null  object        \n",
      " 18  entities.annotations             65784 non-null   object        \n",
      " 19  attachments.media_keys           6231 non-null    object        \n",
      " 20  entities.hashtags                8017 non-null    object        \n",
      " 21  user_created_at                  199015 non-null  object        \n",
      " 22  user_description                 199015 non-null  object        \n",
      " 23  user_entities                    199015 non-null  object        \n",
      " 24  user_id                          199015 non-null  object        \n",
      " 25  user_location                    160883 non-null  object        \n",
      " 26  user_name                        199015 non-null  object        \n",
      " 27  user_pinned_tweet_id             137161 non-null  object        \n",
      " 28  user_profile_image_url           199015 non-null  object        \n",
      " 29  user_protected                   199015 non-null  bool          \n",
      " 30  user_url                         71727 non-null   object        \n",
      " 31  user_username                    199015 non-null  object        \n",
      " 32  user_verified                    199015 non-null  bool          \n",
      " 33  followers_count                  199015 non-null  int64         \n",
      " 34  following_count                  199015 non-null  int64         \n",
      " 35  listed_count                     199015 non-null  int64         \n",
      " 36  tweet_count                      199015 non-null  int64         \n",
      " 37  url                              199015 non-null  object        \n",
      " 38  geo.coordinates.coordinates      2371 non-null    object        \n",
      " 39  geo.coordinates.type             2371 non-null    object        \n",
      " 40  user_withheld                    199015 non-null  object        \n",
      " 41  attachments.poll_ids             50 non-null      object        \n",
      " 42  withheld.copyright               12 non-null      object        \n",
      " 43  withheld.country_codes           12 non-null      object        \n",
      " 44  entities.cashtags                6 non-null       object        \n",
      " 45  __index_level_0__                199015 non-null  int64         \n",
      "dtypes: bool(3), datetime64[ns](1), int64(10), object(32)\n",
      "memory usage: 67.4+ MB\n"
     ]
    }
   ],
   "source": [
    "unlabel.info()"
   ]
  },
  {
   "cell_type": "code",
   "execution_count": 12,
   "metadata": {},
   "outputs": [
    {
     "data": {
      "text/html": [
       "<div>\n",
       "<style scoped>\n",
       "    .dataframe tbody tr th:only-of-type {\n",
       "        vertical-align: middle;\n",
       "    }\n",
       "\n",
       "    .dataframe tbody tr th {\n",
       "        vertical-align: top;\n",
       "    }\n",
       "\n",
       "    .dataframe thead th {\n",
       "        text-align: right;\n",
       "    }\n",
       "</style>\n",
       "<table border=\"1\" class=\"dataframe\">\n",
       "  <thead>\n",
       "    <tr style=\"text-align: right;\">\n",
       "      <th></th>\n",
       "      <th>id</th>\n",
       "      <th>text</th>\n",
       "    </tr>\n",
       "  </thead>\n",
       "  <tbody>\n",
       "    <tr>\n",
       "      <th>178540</th>\n",
       "      <td>922815644546076673</td>\n",
       "      <td>Pqp q tiro    URL</td>\n",
       "    </tr>\n",
       "    <tr>\n",
       "      <th>102777</th>\n",
       "      <td>1267311107749928960</td>\n",
       "      <td>Mostro oque Eu sou na pratica e sou transparen...</td>\n",
       "    </tr>\n",
       "    <tr>\n",
       "      <th>185909</th>\n",
       "      <td>938491689303465984</td>\n",
       "      <td>all that matters eh tiro no cu</td>\n",
       "    </tr>\n",
       "    <tr>\n",
       "      <th>151097</th>\n",
       "      <td>866775517403516930</td>\n",
       "      <td>Já viu alguém na tropa morrer com tiro nas cos...</td>\n",
       "    </tr>\n",
       "    <tr>\n",
       "      <th>169602</th>\n",
       "      <td>905428423241289728</td>\n",
       "      <td>essa música do imaginasamba com a Simone e Sim...</td>\n",
       "    </tr>\n",
       "    <tr>\n",
       "      <th>25948</th>\n",
       "      <td>1513525816390414336</td>\n",
       "      <td>O problema parceiro  é que um tiro de 762 faz...</td>\n",
       "    </tr>\n",
       "    <tr>\n",
       "      <th>223111</th>\n",
       "      <td>1012675703647633408</td>\n",
       "      <td>Olá senhores  tivemos que apagar a postagem do...</td>\n",
       "    </tr>\n",
       "    <tr>\n",
       "      <th>17197</th>\n",
       "      <td>1543597416565309440</td>\n",
       "      <td>Menor mas troca tiro que eu conheci  descanse ...</td>\n",
       "    </tr>\n",
       "    <tr>\n",
       "      <th>89256</th>\n",
       "      <td>1307314570147639299</td>\n",
       "      <td>Oi USR você está a par que existem outras colo...</td>\n",
       "    </tr>\n",
       "    <tr>\n",
       "      <th>270027</th>\n",
       "      <td>1116037284032335873</td>\n",
       "      <td>PRAÇA SECA  Ônibus da Viação Novacap precisou ...</td>\n",
       "    </tr>\n",
       "  </tbody>\n",
       "</table>\n",
       "</div>"
      ],
      "text/plain": [
       "                         id                                               text\n",
       "178540   922815644546076673                                  Pqp q tiro    URL\n",
       "102777  1267311107749928960  Mostro oque Eu sou na pratica e sou transparen...\n",
       "185909   938491689303465984                     all that matters eh tiro no cu\n",
       "151097   866775517403516930  Já viu alguém na tropa morrer com tiro nas cos...\n",
       "169602   905428423241289728  essa música do imaginasamba com a Simone e Sim...\n",
       "25948   1513525816390414336   O problema parceiro  é que um tiro de 762 faz...\n",
       "223111  1012675703647633408  Olá senhores  tivemos que apagar a postagem do...\n",
       "17197   1543597416565309440  Menor mas troca tiro que eu conheci  descanse ...\n",
       "89256   1307314570147639299  Oi USR você está a par que existem outras colo...\n",
       "270027  1116037284032335873  PRAÇA SECA  Ônibus da Viação Novacap precisou ..."
      ]
     },
     "execution_count": 12,
     "metadata": {},
     "output_type": "execute_result"
    }
   ],
   "source": [
    "unlabel.text = unlabel['text'].apply(cleantxt)\n",
    "unlabel[['id','text']].sample(10)"
   ]
  },
  {
   "cell_type": "code",
   "execution_count": 13,
   "metadata": {},
   "outputs": [],
   "source": [
    "unlabel[['id','text']].to_csv(data_folder + 'train/unlabel.csv', index=False)"
   ]
  }
 ],
 "metadata": {
  "kernelspec": {
   "display_name": ".venv",
   "language": "python",
   "name": "python3"
  },
  "language_info": {
   "codemirror_mode": {
    "name": "ipython",
    "version": 3
   },
   "file_extension": ".py",
   "mimetype": "text/x-python",
   "name": "python",
   "nbconvert_exporter": "python",
   "pygments_lexer": "ipython3",
   "version": "3.10.6"
  },
  "orig_nbformat": 4
 },
 "nbformat": 4,
 "nbformat_minor": 2
}
